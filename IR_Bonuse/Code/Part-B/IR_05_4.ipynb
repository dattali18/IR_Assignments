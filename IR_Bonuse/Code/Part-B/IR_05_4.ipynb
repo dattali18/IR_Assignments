{
  "cells": [
    {
      "cell_type": "markdown",
      "metadata": {
        "id": "6U05XgZ-F9PW"
      },
      "source": [
        "<a href=\"https://colab.research.google.com/github/dattali18/IR_Assignments/blob/main/Assignment.05/IR_05_4.ipynb\" target=\"_parent\"><img src=\"https://colab.research.google.com/assets/colab-badge.svg\" alt=\"Open In Colab\"/></a>"
      ]
    },
    {
      "cell_type": "code",
      "execution_count": 1,
      "metadata": {
        "vscode": {
          "languageId": "plaintext"
        },
        "id": "FGQ-omvvF9Pe"
      },
      "outputs": [],
      "source": [
        "import warnings\n",
        "\n",
        "warnings.filterwarnings(\"ignore\")"
      ]
    },
    {
      "cell_type": "code",
      "execution_count": 2,
      "metadata": {
        "vscode": {
          "languageId": "plaintext"
        },
        "colab": {
          "base_uri": "https://localhost:8080/"
        },
        "id": "5XuZ0drRF9Ph",
        "outputId": "2d190f3a-18ef-4e99-b0b1-961656c83a8e"
      },
      "outputs": [
        {
          "output_type": "stream",
          "name": "stdout",
          "text": [
            "Requirement already satisfied: pip in /usr/local/lib/python3.11/dist-packages (24.1.2)\n",
            "Collecting pip\n",
            "  Downloading pip-25.0-py3-none-any.whl.metadata (3.7 kB)\n",
            "Downloading pip-25.0-py3-none-any.whl (1.8 MB)\n",
            "\u001b[2K   \u001b[90m━━━━━━━━━━━━━━━━━━━━━━━━━━━━━━━━━━━━━━━━\u001b[0m \u001b[32m1.8/1.8 MB\u001b[0m \u001b[31m16.5 MB/s\u001b[0m eta \u001b[36m0:00:00\u001b[0m\n",
            "\u001b[?25hInstalling collected packages: pip\n",
            "  Attempting uninstall: pip\n",
            "    Found existing installation: pip 24.1.2\n",
            "    Uninstalling pip-24.1.2:\n",
            "      Successfully uninstalled pip-24.1.2\n",
            "Successfully installed pip-25.0\n"
          ]
        }
      ],
      "source": [
        "!pip install --upgrade pip"
      ]
    },
    {
      "cell_type": "code",
      "execution_count": 3,
      "metadata": {
        "vscode": {
          "languageId": "plaintext"
        },
        "id": "pCm6pcA3F9Ph"
      },
      "outputs": [],
      "source": [
        "df_urls = [f\"https://github.com/dattali18/IR_Assignments/blob/main/Assignment.05/data/sentence_embedding/sentences_embedding_{i}.csv?raw=true\" for i in range(10)]\n",
        "file_names = [f\"sentences_embedding_{i}.csv\" for i in range(10)]"
      ]
    },
    {
      "cell_type": "code",
      "execution_count": 5,
      "metadata": {
        "vscode": {
          "languageId": "plaintext"
        },
        "colab": {
          "base_uri": "https://localhost:8080/"
        },
        "id": "CTes1sB9F9Pi",
        "outputId": "a5642676-0f9a-4ada-cce7-ebe50582b2d5"
      },
      "outputs": [
        {
          "output_type": "stream",
          "name": "stdout",
          "text": [
            "Files downloaded successfully!\n"
          ]
        }
      ],
      "source": [
        "# download all the file into the same dir as the note book\n",
        "import urllib.request\n",
        "\n",
        "for i in range(10):\n",
        "    urllib.request.urlretrieve(df_urls[i], file_names[i])\n",
        "\n",
        "print(\"Files downloaded successfully!\")"
      ]
    },
    {
      "cell_type": "code",
      "execution_count": 27,
      "metadata": {
        "vscode": {
          "languageId": "plaintext"
        },
        "id": "V7hfe1qJF9Pi"
      },
      "outputs": [],
      "source": [
        "import pandas as pd\n",
        "\n",
        "dfs = [pd.read_csv(file_names[i]) for i in range(10)]"
      ]
    },
    {
      "cell_type": "code",
      "source": [
        "print(len(dfs))"
      ],
      "metadata": {
        "colab": {
          "base_uri": "https://localhost:8080/"
        },
        "id": "PmvHDm59HaZJ",
        "outputId": "364d0803-a32b-4509-e58d-e1b829a45fbd"
      },
      "execution_count": 28,
      "outputs": [
        {
          "output_type": "stream",
          "name": "stdout",
          "text": [
            "10\n"
          ]
        }
      ]
    },
    {
      "cell_type": "code",
      "source": [
        "dfs[0].head()"
      ],
      "metadata": {
        "colab": {
          "base_uri": "https://localhost:8080/",
          "height": 391
        },
        "id": "7LLkDq6bGtZb",
        "outputId": "2efa6726-664b-4052-8aed-c12d2976bf78"
      },
      "execution_count": 29,
      "outputs": [
        {
          "output_type": "execute_result",
          "data": {
            "text/plain": [
              "     id                                           sentence  pro-israel  \\\n",
              "0  aj_1  pope renews call for gaza ceasefire  release o...           0   \n",
              "1  aj_1  Pope Francis says his thoughts go to those fac...           0   \n",
              "2  aj_1  pope francis has renewed calls for an immediat...           0   \n",
              "3  aj_2  biden is still the best us president israel co...           1   \n",
              "4  aj_2  united states president ronald reagans order t...           0   \n",
              "\n",
              "   pro-palestine  neutral  anti-israel  anti-palestine  \\\n",
              "0              0        1            0               0   \n",
              "1              0        1            0               0   \n",
              "2              1        0            0               0   \n",
              "3              0        0            0               0   \n",
              "4              0        0            1               0   \n",
              "\n",
              "                                      bert_embedding  \\\n",
              "0  [-5.398319, -3.4624884, 1.2158442, -6.873296, ...   \n",
              "1  [-3.1675782, 4.4570203, 5.6814823, -2.0597496,...   \n",
              "2  [-15.144646, -0.41924834, 6.110239, -18.322815...   \n",
              "3  [2.12351, -1.1968501, -5.893949, 0.84273064, 0...   \n",
              "4  [-7.5038824, 10.2584505, -15.679925, -11.71334...   \n",
              "\n",
              "                                     sbert_embedding  \n",
              "0  [0.0042264466, 0.09409609, 0.02210562, 0.00452...  \n",
              "1  [0.02103883, 0.060152613, 0.045743383, 0.06227...  \n",
              "2  [0.045155767, 0.08643171, 0.058290135, -0.0015...  \n",
              "3  [0.0011824196, 0.066507965, 0.08534787, -0.064...  \n",
              "4  [0.07076625, 0.1025179, -0.022078907, -0.04288...  "
            ],
            "text/html": [
              "\n",
              "  <div id=\"df-32d36a5b-f6b6-4c5d-a2f8-2f51a8e2ab7d\" class=\"colab-df-container\">\n",
              "    <div>\n",
              "<style scoped>\n",
              "    .dataframe tbody tr th:only-of-type {\n",
              "        vertical-align: middle;\n",
              "    }\n",
              "\n",
              "    .dataframe tbody tr th {\n",
              "        vertical-align: top;\n",
              "    }\n",
              "\n",
              "    .dataframe thead th {\n",
              "        text-align: right;\n",
              "    }\n",
              "</style>\n",
              "<table border=\"1\" class=\"dataframe\">\n",
              "  <thead>\n",
              "    <tr style=\"text-align: right;\">\n",
              "      <th></th>\n",
              "      <th>id</th>\n",
              "      <th>sentence</th>\n",
              "      <th>pro-israel</th>\n",
              "      <th>pro-palestine</th>\n",
              "      <th>neutral</th>\n",
              "      <th>anti-israel</th>\n",
              "      <th>anti-palestine</th>\n",
              "      <th>bert_embedding</th>\n",
              "      <th>sbert_embedding</th>\n",
              "    </tr>\n",
              "  </thead>\n",
              "  <tbody>\n",
              "    <tr>\n",
              "      <th>0</th>\n",
              "      <td>aj_1</td>\n",
              "      <td>pope renews call for gaza ceasefire  release o...</td>\n",
              "      <td>0</td>\n",
              "      <td>0</td>\n",
              "      <td>1</td>\n",
              "      <td>0</td>\n",
              "      <td>0</td>\n",
              "      <td>[-5.398319, -3.4624884, 1.2158442, -6.873296, ...</td>\n",
              "      <td>[0.0042264466, 0.09409609, 0.02210562, 0.00452...</td>\n",
              "    </tr>\n",
              "    <tr>\n",
              "      <th>1</th>\n",
              "      <td>aj_1</td>\n",
              "      <td>Pope Francis says his thoughts go to those fac...</td>\n",
              "      <td>0</td>\n",
              "      <td>0</td>\n",
              "      <td>1</td>\n",
              "      <td>0</td>\n",
              "      <td>0</td>\n",
              "      <td>[-3.1675782, 4.4570203, 5.6814823, -2.0597496,...</td>\n",
              "      <td>[0.02103883, 0.060152613, 0.045743383, 0.06227...</td>\n",
              "    </tr>\n",
              "    <tr>\n",
              "      <th>2</th>\n",
              "      <td>aj_1</td>\n",
              "      <td>pope francis has renewed calls for an immediat...</td>\n",
              "      <td>0</td>\n",
              "      <td>1</td>\n",
              "      <td>0</td>\n",
              "      <td>0</td>\n",
              "      <td>0</td>\n",
              "      <td>[-15.144646, -0.41924834, 6.110239, -18.322815...</td>\n",
              "      <td>[0.045155767, 0.08643171, 0.058290135, -0.0015...</td>\n",
              "    </tr>\n",
              "    <tr>\n",
              "      <th>3</th>\n",
              "      <td>aj_2</td>\n",
              "      <td>biden is still the best us president israel co...</td>\n",
              "      <td>1</td>\n",
              "      <td>0</td>\n",
              "      <td>0</td>\n",
              "      <td>0</td>\n",
              "      <td>0</td>\n",
              "      <td>[2.12351, -1.1968501, -5.893949, 0.84273064, 0...</td>\n",
              "      <td>[0.0011824196, 0.066507965, 0.08534787, -0.064...</td>\n",
              "    </tr>\n",
              "    <tr>\n",
              "      <th>4</th>\n",
              "      <td>aj_2</td>\n",
              "      <td>united states president ronald reagans order t...</td>\n",
              "      <td>0</td>\n",
              "      <td>0</td>\n",
              "      <td>0</td>\n",
              "      <td>1</td>\n",
              "      <td>0</td>\n",
              "      <td>[-7.5038824, 10.2584505, -15.679925, -11.71334...</td>\n",
              "      <td>[0.07076625, 0.1025179, -0.022078907, -0.04288...</td>\n",
              "    </tr>\n",
              "  </tbody>\n",
              "</table>\n",
              "</div>\n",
              "    <div class=\"colab-df-buttons\">\n",
              "\n",
              "  <div class=\"colab-df-container\">\n",
              "    <button class=\"colab-df-convert\" onclick=\"convertToInteractive('df-32d36a5b-f6b6-4c5d-a2f8-2f51a8e2ab7d')\"\n",
              "            title=\"Convert this dataframe to an interactive table.\"\n",
              "            style=\"display:none;\">\n",
              "\n",
              "  <svg xmlns=\"http://www.w3.org/2000/svg\" height=\"24px\" viewBox=\"0 -960 960 960\">\n",
              "    <path d=\"M120-120v-720h720v720H120Zm60-500h600v-160H180v160Zm220 220h160v-160H400v160Zm0 220h160v-160H400v160ZM180-400h160v-160H180v160Zm440 0h160v-160H620v160ZM180-180h160v-160H180v160Zm440 0h160v-160H620v160Z\"/>\n",
              "  </svg>\n",
              "    </button>\n",
              "\n",
              "  <style>\n",
              "    .colab-df-container {\n",
              "      display:flex;\n",
              "      gap: 12px;\n",
              "    }\n",
              "\n",
              "    .colab-df-convert {\n",
              "      background-color: #E8F0FE;\n",
              "      border: none;\n",
              "      border-radius: 50%;\n",
              "      cursor: pointer;\n",
              "      display: none;\n",
              "      fill: #1967D2;\n",
              "      height: 32px;\n",
              "      padding: 0 0 0 0;\n",
              "      width: 32px;\n",
              "    }\n",
              "\n",
              "    .colab-df-convert:hover {\n",
              "      background-color: #E2EBFA;\n",
              "      box-shadow: 0px 1px 2px rgba(60, 64, 67, 0.3), 0px 1px 3px 1px rgba(60, 64, 67, 0.15);\n",
              "      fill: #174EA6;\n",
              "    }\n",
              "\n",
              "    .colab-df-buttons div {\n",
              "      margin-bottom: 4px;\n",
              "    }\n",
              "\n",
              "    [theme=dark] .colab-df-convert {\n",
              "      background-color: #3B4455;\n",
              "      fill: #D2E3FC;\n",
              "    }\n",
              "\n",
              "    [theme=dark] .colab-df-convert:hover {\n",
              "      background-color: #434B5C;\n",
              "      box-shadow: 0px 1px 3px 1px rgba(0, 0, 0, 0.15);\n",
              "      filter: drop-shadow(0px 1px 2px rgba(0, 0, 0, 0.3));\n",
              "      fill: #FFFFFF;\n",
              "    }\n",
              "  </style>\n",
              "\n",
              "    <script>\n",
              "      const buttonEl =\n",
              "        document.querySelector('#df-32d36a5b-f6b6-4c5d-a2f8-2f51a8e2ab7d button.colab-df-convert');\n",
              "      buttonEl.style.display =\n",
              "        google.colab.kernel.accessAllowed ? 'block' : 'none';\n",
              "\n",
              "      async function convertToInteractive(key) {\n",
              "        const element = document.querySelector('#df-32d36a5b-f6b6-4c5d-a2f8-2f51a8e2ab7d');\n",
              "        const dataTable =\n",
              "          await google.colab.kernel.invokeFunction('convertToInteractive',\n",
              "                                                    [key], {});\n",
              "        if (!dataTable) return;\n",
              "\n",
              "        const docLinkHtml = 'Like what you see? Visit the ' +\n",
              "          '<a target=\"_blank\" href=https://colab.research.google.com/notebooks/data_table.ipynb>data table notebook</a>'\n",
              "          + ' to learn more about interactive tables.';\n",
              "        element.innerHTML = '';\n",
              "        dataTable['output_type'] = 'display_data';\n",
              "        await google.colab.output.renderOutput(dataTable, element);\n",
              "        const docLink = document.createElement('div');\n",
              "        docLink.innerHTML = docLinkHtml;\n",
              "        element.appendChild(docLink);\n",
              "      }\n",
              "    </script>\n",
              "  </div>\n",
              "\n",
              "\n",
              "<div id=\"df-3bca322a-c647-4d44-97b1-f000eb2cfefe\">\n",
              "  <button class=\"colab-df-quickchart\" onclick=\"quickchart('df-3bca322a-c647-4d44-97b1-f000eb2cfefe')\"\n",
              "            title=\"Suggest charts\"\n",
              "            style=\"display:none;\">\n",
              "\n",
              "<svg xmlns=\"http://www.w3.org/2000/svg\" height=\"24px\"viewBox=\"0 0 24 24\"\n",
              "     width=\"24px\">\n",
              "    <g>\n",
              "        <path d=\"M19 3H5c-1.1 0-2 .9-2 2v14c0 1.1.9 2 2 2h14c1.1 0 2-.9 2-2V5c0-1.1-.9-2-2-2zM9 17H7v-7h2v7zm4 0h-2V7h2v10zm4 0h-2v-4h2v4z\"/>\n",
              "    </g>\n",
              "</svg>\n",
              "  </button>\n",
              "\n",
              "<style>\n",
              "  .colab-df-quickchart {\n",
              "      --bg-color: #E8F0FE;\n",
              "      --fill-color: #1967D2;\n",
              "      --hover-bg-color: #E2EBFA;\n",
              "      --hover-fill-color: #174EA6;\n",
              "      --disabled-fill-color: #AAA;\n",
              "      --disabled-bg-color: #DDD;\n",
              "  }\n",
              "\n",
              "  [theme=dark] .colab-df-quickchart {\n",
              "      --bg-color: #3B4455;\n",
              "      --fill-color: #D2E3FC;\n",
              "      --hover-bg-color: #434B5C;\n",
              "      --hover-fill-color: #FFFFFF;\n",
              "      --disabled-bg-color: #3B4455;\n",
              "      --disabled-fill-color: #666;\n",
              "  }\n",
              "\n",
              "  .colab-df-quickchart {\n",
              "    background-color: var(--bg-color);\n",
              "    border: none;\n",
              "    border-radius: 50%;\n",
              "    cursor: pointer;\n",
              "    display: none;\n",
              "    fill: var(--fill-color);\n",
              "    height: 32px;\n",
              "    padding: 0;\n",
              "    width: 32px;\n",
              "  }\n",
              "\n",
              "  .colab-df-quickchart:hover {\n",
              "    background-color: var(--hover-bg-color);\n",
              "    box-shadow: 0 1px 2px rgba(60, 64, 67, 0.3), 0 1px 3px 1px rgba(60, 64, 67, 0.15);\n",
              "    fill: var(--button-hover-fill-color);\n",
              "  }\n",
              "\n",
              "  .colab-df-quickchart-complete:disabled,\n",
              "  .colab-df-quickchart-complete:disabled:hover {\n",
              "    background-color: var(--disabled-bg-color);\n",
              "    fill: var(--disabled-fill-color);\n",
              "    box-shadow: none;\n",
              "  }\n",
              "\n",
              "  .colab-df-spinner {\n",
              "    border: 2px solid var(--fill-color);\n",
              "    border-color: transparent;\n",
              "    border-bottom-color: var(--fill-color);\n",
              "    animation:\n",
              "      spin 1s steps(1) infinite;\n",
              "  }\n",
              "\n",
              "  @keyframes spin {\n",
              "    0% {\n",
              "      border-color: transparent;\n",
              "      border-bottom-color: var(--fill-color);\n",
              "      border-left-color: var(--fill-color);\n",
              "    }\n",
              "    20% {\n",
              "      border-color: transparent;\n",
              "      border-left-color: var(--fill-color);\n",
              "      border-top-color: var(--fill-color);\n",
              "    }\n",
              "    30% {\n",
              "      border-color: transparent;\n",
              "      border-left-color: var(--fill-color);\n",
              "      border-top-color: var(--fill-color);\n",
              "      border-right-color: var(--fill-color);\n",
              "    }\n",
              "    40% {\n",
              "      border-color: transparent;\n",
              "      border-right-color: var(--fill-color);\n",
              "      border-top-color: var(--fill-color);\n",
              "    }\n",
              "    60% {\n",
              "      border-color: transparent;\n",
              "      border-right-color: var(--fill-color);\n",
              "    }\n",
              "    80% {\n",
              "      border-color: transparent;\n",
              "      border-right-color: var(--fill-color);\n",
              "      border-bottom-color: var(--fill-color);\n",
              "    }\n",
              "    90% {\n",
              "      border-color: transparent;\n",
              "      border-bottom-color: var(--fill-color);\n",
              "    }\n",
              "  }\n",
              "</style>\n",
              "\n",
              "  <script>\n",
              "    async function quickchart(key) {\n",
              "      const quickchartButtonEl =\n",
              "        document.querySelector('#' + key + ' button');\n",
              "      quickchartButtonEl.disabled = true;  // To prevent multiple clicks.\n",
              "      quickchartButtonEl.classList.add('colab-df-spinner');\n",
              "      try {\n",
              "        const charts = await google.colab.kernel.invokeFunction(\n",
              "            'suggestCharts', [key], {});\n",
              "      } catch (error) {\n",
              "        console.error('Error during call to suggestCharts:', error);\n",
              "      }\n",
              "      quickchartButtonEl.classList.remove('colab-df-spinner');\n",
              "      quickchartButtonEl.classList.add('colab-df-quickchart-complete');\n",
              "    }\n",
              "    (() => {\n",
              "      let quickchartButtonEl =\n",
              "        document.querySelector('#df-3bca322a-c647-4d44-97b1-f000eb2cfefe button');\n",
              "      quickchartButtonEl.style.display =\n",
              "        google.colab.kernel.accessAllowed ? 'block' : 'none';\n",
              "    })();\n",
              "  </script>\n",
              "</div>\n",
              "\n",
              "    </div>\n",
              "  </div>\n"
            ],
            "application/vnd.google.colaboratory.intrinsic+json": {
              "type": "dataframe",
              "summary": "{\n  \"name\": \"dfs[0]\",\n  \"rows\": 5,\n  \"fields\": [\n    {\n      \"column\": \"id\",\n      \"properties\": {\n        \"dtype\": \"category\",\n        \"num_unique_values\": 2,\n        \"samples\": [\n          \"aj_2\",\n          \"aj_1\"\n        ],\n        \"semantic_type\": \"\",\n        \"description\": \"\"\n      }\n    },\n    {\n      \"column\": \"sentence\",\n      \"properties\": {\n        \"dtype\": \"string\",\n        \"num_unique_values\": 5,\n        \"samples\": [\n          \"Pope Francis says his thoughts go to those facing wars  especially children who have  forgotten how to smile  \",\n          \"united states president ronald reagans order to israeli prime minister menachem begin to put an end to his  holocaust  in lebanon is perhaps the best  known political anecdote from israels 1982 invasion \"\n        ],\n        \"semantic_type\": \"\",\n        \"description\": \"\"\n      }\n    },\n    {\n      \"column\": \"pro-israel\",\n      \"properties\": {\n        \"dtype\": \"number\",\n        \"std\": 0,\n        \"min\": 0,\n        \"max\": 1,\n        \"num_unique_values\": 2,\n        \"samples\": [\n          1,\n          0\n        ],\n        \"semantic_type\": \"\",\n        \"description\": \"\"\n      }\n    },\n    {\n      \"column\": \"pro-palestine\",\n      \"properties\": {\n        \"dtype\": \"number\",\n        \"std\": 0,\n        \"min\": 0,\n        \"max\": 1,\n        \"num_unique_values\": 2,\n        \"samples\": [\n          1,\n          0\n        ],\n        \"semantic_type\": \"\",\n        \"description\": \"\"\n      }\n    },\n    {\n      \"column\": \"neutral\",\n      \"properties\": {\n        \"dtype\": \"number\",\n        \"std\": 0,\n        \"min\": 0,\n        \"max\": 1,\n        \"num_unique_values\": 2,\n        \"samples\": [\n          0,\n          1\n        ],\n        \"semantic_type\": \"\",\n        \"description\": \"\"\n      }\n    },\n    {\n      \"column\": \"anti-israel\",\n      \"properties\": {\n        \"dtype\": \"number\",\n        \"std\": 0,\n        \"min\": 0,\n        \"max\": 1,\n        \"num_unique_values\": 2,\n        \"samples\": [\n          1,\n          0\n        ],\n        \"semantic_type\": \"\",\n        \"description\": \"\"\n      }\n    },\n    {\n      \"column\": \"anti-palestine\",\n      \"properties\": {\n        \"dtype\": \"number\",\n        \"std\": 0,\n        \"min\": 0,\n        \"max\": 0,\n        \"num_unique_values\": 1,\n        \"samples\": [\n          0\n        ],\n        \"semantic_type\": \"\",\n        \"description\": \"\"\n      }\n    },\n    {\n      \"column\": \"bert_embedding\",\n      \"properties\": {\n        \"dtype\": \"string\",\n        \"num_unique_values\": 5,\n        \"samples\": [\n          \"[-3.1675782, 4.4570203, 5.6814823, -2.0597496, 1.9294796, -1.6573228, 3.9510221, 16.466545, -8.029434, -8.27169, -1.0083189, -10.210705, -0.86706775, 5.5999403, -5.7573013, 1.2971367, 3.9499688, 4.4240437, -4.371502, 11.387794, 0.03302753, 3.304934, 5.7007732, 9.12303, 11.318639, -8.366186, -2.9931207, 4.0044403, -5.9801435, -5.37969, 0.7878826, 8.801716, -0.8305203, 3.0906107, -5.634797, -1.6732329, -0.68285525, -4.724197, -2.4326365, 7.238862, -8.001806, -8.321616, -1.3577554, -7.0678296, -3.9070475, -3.6573179, 8.533336, 1.1071157, 6.074484, -5.759928, -4.435133, 5.5043216, -1.0210701, -4.778626, 5.3901486, 11.096813, -4.532294, -4.2467957, -5.5083895, -7.65206, 3.5689878, 1.7889769, -1.2072313, -3.4748216, 3.6668584, 1.7706395, -1.9620683, 8.59194, -10.186796, -5.194487, -5.190363, -4.778991, -4.330096, 3.3445544, 1.9576671, 1.1059972, -2.2284145, 6.3960247, 2.6480968, -4.2338486, -10.198937, 4.6683607, -2.088176, 10.810009, -0.22813478, 2.2714167, 5.8713264, 2.3435786, -9.382416, 6.72409, 7.459774, -7.5577044, 2.4181724, 2.3609405, 5.904629, 5.7113953, 12.721874, -0.9277581, -6.4020066, 14.475958, 5.9346623, -8.702026, 0.8456785, 0.35123348, -1.0151634, -9.497161, 9.530405, 5.071398, -1.7574385, -1.636175, -4.390176, -13.865484, 5.211896, -0.4077352, -8.040089, 5.4639688, 6.290989, -1.3447753, -1.7870104, -0.4899277, 1.301464, -0.68688, 6.526001, 11.395747, -4.3335743, -0.26703763, 2.5820029, 6.3383946, 1.6413375, -7.868943, 6.6057315, 10.266629, 2.5727544, -8.891823, -6.0914736, 4.9321594, 2.201391, -8.285553, -9.321142, 6.9971037, 6.8351555, 2.7269006, 9.8108835, 0.74382615, 5.0214186, -6.498026, -4.9621773, -3.4550977, -1.6088349, 5.0570474, 0.3598122, -3.2036295, -0.7740469, -1.1912299, -4.7659807, 0.90676713, -15.35758, 0.07227707, 4.669099, 5.189758, 5.5324974, -8.6924305, -2.071511, 1.9075993, -2.3539333, 2.7698202, -1.4684231, 3.4168038, -7.0230484, 1.7664144, 1.6969466, -0.91841495, 11.074848, -3.3008552, 4.958078, -4.254839, -2.632536, -0.18690518, 2.4823513, 4.271964, -14.539507, 2.8225684, -0.46767822, 0.319777, 4.3663163, -8.904631, -1.7399669, -1.3447213, 5.3485246, -6.2456503, -9.168342, -4.5452704, -3.198039, -0.597931, 6.665783, -9.184635, 1.7596571, -6.1290565, -10.341417, -3.5613732, 1.3240697, -5.052931, 9.041598, 4.977276, -4.465451, 3.8138466, -0.7078382, 3.9365087, 1.2827449, 5.717555, -3.244416, 8.966793, -3.4848258, 4.66716, 0.033116817, -0.8911072, -2.1738884, -4.380926, -2.2661085, 0.5265203, -5.3511043, 2.1994538, -7.5713987, 9.545829, 2.9437714, 8.4910145, 3.968853, -13.302073, -1.1849155, 5.9068975, 2.1529694, -6.4092464, 16.83052, -1.9220235, -1.9347191, -8.283622, 3.877987, -7.3724513, 2.813258, -7.7675524, -9.044973, 2.0566924, 8.8501835, 0.9578726, 6.036875, -2.5567298, 4.394278, -2.722482, -4.829769, -3.3207593, -9.132418, -3.5693853, 4.1563168, -1.6932364, -1.1876161, -8.136526, -0.8985939, 4.185701, -4.857836, 3.5188878, 3.2037692, -1.6204873, 2.660191, 2.401062, -11.152423, -10.63534, 1.7817923, 7.8962975, 6.8554897, -1.6614678, -4.3302426, -2.1780257, 6.6053877, 7.8200097, 1.0248659, -14.318964, 5.697164, 7.5819206, 0.9724525, -2.9310498, 5.179767, 18.035492, 0.53673846, 6.3589263, -4.689237, -4.9491754, 0.7220308, 5.969431, -2.2910001, -6.025381, -1.749702, 2.9301906, 0.32785916, -10.133955, 7.687907, 3.152066, 6.126023, -4.0759916, 9.82974, -2.462871, 2.8010144, 0.89732206, 8.694922, 1.0101235, -8.75795, 7.4426966, -0.06754047, -4.056637, -79.54724, -3.452435, 4.440136, -10.306041, 4.969268, -0.9948069, 5.757941, -3.9114532, -6.785961, 3.3399434, 4.4010305, 0.49753773, 12.147812, 0.9640285, -1.1949004, 2.377462, 3.9811723, -4.9350076, -1.8212893, 5.6185985, 5.075465, -5.647599, 3.028139, 4.6673174, 4.033339, 1.8382714, 0.8165321, 0.36291173, -3.1219761, 0.660007, 2.0234258, 2.7449799, -2.189063, 6.991275, 3.167388, -1.0167582, -0.23848975, -3.5285006, -5.687886, 3.0310364, -3.0911717, -12.063583, -4.1030087, 4.4948254, 12.169284, -3.4315495, -0.45635593, -8.30295, 3.3869405, 5.059032, 5.854002, -1.0964384, -8.003812, -3.247576, 6.4630795, 1.9147917, 9.352674, 13.184561, -3.8367863, -10.944212, -0.8712045, 0.0514448, -14.184204, -2.4436285, -6.7909517, -5.814779, -14.985861, -7.008641, 0.79334474, 5.842136, -2.7195415, 5.6614437, -3.561089, -17.820337, 0.9411488, -3.1248355, -1.4232742, -0.89969754, 3.2137446, -1.881273, -8.007135, -2.9469042, -6.055717, -4.808798, 0.39306128, -2.7783527, -4.463153, -2.7031794, -0.84712267, -8.543357, 11.712935, -2.6203527, -1.5282323, -1.5071695, 4.7554092, 2.2792912, 1.4789052, 3.5594304, 2.5452192, -6.767185, -3.3236363, 5.918395, 11.328417, 3.090793, 6.3915777, 2.8110275, -7.7788515, 7.832602, 0.4628607, 0.42151302, 8.899292, -16.434866, 9.145621, -9.86348, -8.804704, -5.08061, 16.238588, 14.813076, 2.2935185, -3.7869687, -1.9873848, 8.5794935, -5.114986, -10.256082, -6.268903, 1.1610537, -7.332378, -5.943105, 0.75562865, 5.0500154, 2.463365, -4.9493666, 2.9495795, 7.914915, 5.0149426, -2.6700644, -2.625769, -12.305557, 2.7577486, -4.1226254, 3.6161335, -1.6280162, 0.3647976, 2.1378436, 2.4205923, 2.7797132, -3.5207586, 3.3641222, 1.3903421, 7.666998, -2.3609805, -1.0982678, -2.0959394, 0.031053603, 0.7024288, 6.197025, 2.5110161, -3.7691772, -1.6815197, -10.472814, -2.0154054, 3.9384189, -4.0436373, 0.88063455, -2.0221844, 7.506484, 3.2197118, -1.8403287, -0.811037, 4.724688, 0.34967297, -6.846838, -0.93646073, -6.0608315, -5.617046, 4.030898, 3.6512902, -3.229442, -7.7084627, 7.0867314, -5.4371943, -6.4143896, -3.854334, -9.267966, -0.7751906, 8.729492, 5.6874485, -8.346415, -10.166975, -0.29300082, -7.040744, 7.254849, -6.253458, -2.877524, -5.4162717, -0.19339964, 9.513699, -6.0067554, 2.2274213, 4.8648276, 6.903844, -3.6955893, -5.3425746, -0.029212803, -1.1744409, 0.08123976, -1.0981542, 4.6300626, -1.2861152, 1.902712, -10.729688, -5.326475, -10.673748, -5.4666615, 7.6792955, -3.802046, -3.9452767, -0.85468316, -5.3695188, 4.5305557, -6.621025, -3.3209686, -3.041046, 1.8990805, -5.7765083, -9.555496, -0.7256938, -1.3812468, -1.1428622, -2.6356134, 1.3373423, -5.27535, 5.454933, 2.301993, -3.6766505, 4.9010177, 5.6674414, -6.045946, 7.771697, -2.9340944, -2.8489754, -9.411977, -5.402959, -5.416849, 4.8817034, -6.1329665, -2.3059258, 6.8228607, -1.1070523, 7.0317526, 1.8431487, 4.178962, 6.374689, -4.4084473, -2.6012192, -11.9815035, -12.356065, -1.9986459, -0.25104156, -3.3594182, -1.0139903, -0.5248901, -2.5604682, 3.0249138, 10.1051655, 6.3415556, -0.117595136, 8.556379, -1.9968634, -5.4397774, 1.3391316, -2.5016506, -0.5544951, -6.4051495, -5.15483, 2.3158371, -9.803969, -3.8430734, 2.5335412, -6.612007, 2.1608865, 6.9187956, -0.67355716, -5.3098288, 5.745447, -10.173447, -1.5644871, 9.908329, -4.259736, 3.3452947, 7.791998, 4.2995915, -2.5554361, 7.8985047, -0.17813742, 3.3647869, 6.109104, -2.8279288, -0.080973744, -2.8128743, -4.924659, 7.0841312, 2.6580625, -1.6841236, -5.1682053, 2.521418, 6.1706953, -6.595651, -1.0016335, 3.6091053, -6.379285, -10.178359, 8.130485, 8.570249, -5.707034, -6.0606546, -2.8966951, -2.6583824, -4.580712, -1.6965768, 3.17767, -2.1532187, 7.5144567, -5.362588, 2.4525142, 8.697887, -2.464772, -0.02478522, 8.453358, 9.61765, -3.2261715, 7.7144775, -6.437192, 14.244461, 0.7913891, -2.1003065, -3.622007, 4.4661746, 3.0448623, -1.5687618, 6.519208, -2.7523985, 3.1560662, 14.150049, 0.7757602, 3.88286, -1.3887625, 6.358473, 14.773752, 4.070619, 1.49983, 9.547103, -2.0648346, -0.009290218, 2.7827163, 3.996399, 3.0858262, 6.8762207, -0.2000862, 5.994039, 3.4103665, 1.1628404, 3.281139, -12.878233, 6.8333526, 10.81855, 1.8148869, -10.137852, -7.4696593, -5.6434402, -4.198042, 8.208024, -2.939353, -2.9566493, -5.7390623, 7.474143, -0.61189985, -6.1279964, 0.18268073, -0.20157939, -5.156074, -3.2750316, -12.654409, 1.3267782, -5.383664, -6.917115, 0.00050750375, -2.549398, -3.548927, -9.736535, 0.19986343, 2.5439615, 3.138155, -4.372774, 3.264018, -4.5117493, 9.195076, 5.8730836, 4.3008375, 4.9905176, 4.2808504, -6.4275255, -4.160296, 1.0416242, 0.16374409, -6.683778, 6.839286, 2.344043, -7.186302, -3.1514904, 3.8917968, 8.178482, -9.779353, -2.1714573, -6.1261487, 1.3573366, 3.0295846, 2.0881772, -1.0731548, -6.2491918, 1.146106, -6.9283056, 4.2557583, 1.687085, -1.7089261, 4.553113, -0.051884115, 13.825577, -0.43971828, -6.3128366, -2.6905336, 1.7455982, 3.4938076, 3.7315693, -2.1802058, -2.874911, -1.9065287, -2.2809958, -6.3116107, -4.8596387, 6.00399, -1.1458943, 2.8323934, 2.9215102, 3.3435218, -4.999808, -3.9646657, -5.5186357, -1.979801, -3.8052225, 0.75131154, -4.805436, 6.419489, -2.6699238, 7.4882545, -4.5294333, -3.3700373, -4.785947, 1.5089777, -1.6017747]\"\n        ],\n        \"semantic_type\": \"\",\n        \"description\": \"\"\n      }\n    },\n    {\n      \"column\": \"sbert_embedding\",\n      \"properties\": {\n        \"dtype\": \"string\",\n        \"num_unique_values\": 5,\n        \"samples\": [\n          \"[0.02103883, 0.060152613, 0.045743383, 0.062277656, 0.0095517645, 0.04459413, 0.080460496, -0.023945177, 0.042707395, -0.08951149, 0.0071056727, 0.030439092, -0.025909547, 0.021931106, 0.024111658, -0.014705651, -0.086931095, 0.07088814, 0.06167903, -0.021091405, 0.0023276187, 0.07746529, 0.07439331, 0.029721113, -0.04683188, 0.06760809, -0.015810775, -0.028116832, 0.0024336993, 0.068122715, 0.028332384, 0.0009195359, -0.036233265, 0.04678626, -0.056446046, 0.08680716, 0.027346175, 0.06469961, 0.037019134, -0.05959523, -0.0064962106, 0.010671543, -0.03431738, -0.009362624, 0.05098879, -0.023481412, -0.022612732, -0.0064956, 0.06879347, -0.077735424, -0.038652766, -0.08770192, -0.0042171963, -0.09398965, -0.0037148774, 0.002312743, 0.030161079, -0.026756933, 0.09373692, 0.04090478, -0.025959576, -0.009333265, -0.017302154, -0.0011994254, -0.05501253, -0.015508756, 0.060321, 0.046939053, -0.1304372, 0.09815856, -0.0008141292, 0.020516664, 0.08144839, 0.0034600974, -0.032929946, -0.006939919, 0.027703295, 0.021152554, 0.041174173, -0.020766074, 0.028517194, -0.0036819708, -0.067467384, 0.022791175, 0.015554757, -0.051464967, 0.022617608, -0.054059483, 0.034008082, 0.09367756, -0.101743646, -0.027716221, 0.03284312, -0.0017682334, 0.026459275, 0.0069680335, -0.033299945, 0.023942824, -0.12127133, 0.0008561184, 0.024526803, -0.043287784, 0.029837549, 0.057868477, 0.010167814, 0.002577005, -0.07640538, -0.042514063, 0.0073163672, -0.0140729565, -0.102297485, -0.065661065, -0.026153544, -0.12007633, 0.002141878, 0.015884003, 0.010665303, -0.11375645, -0.08314724, -0.020731844, -0.00905534, -0.049769238, 0.004972709, 0.04086027, -0.052190267, -0.095303126, -0.0769243, -4.9840543e-34, 0.0020298252, -0.03169844, 0.038406238, 0.02302932, 0.00082435814, 0.09192573, 0.014476196, -0.1205049, -0.05493459, -0.031083865, -0.031458817, 0.022972327, 0.016780714, 0.040742163, -0.07145237, -0.002825075, -0.082841955, 0.044453032, 0.023140667, 0.007926187, -0.008420157, -0.031756468, 0.047663253, 0.080089875, 0.10881455, 0.003904375, 0.023602065, -0.036791213, 0.0154980635, 0.017599504, -0.12701905, 0.10363737, -0.01558274, -0.05739277, -0.022076175, 0.008432133, 0.03080751, 0.0015064899, 0.002025576, 0.020322088, -0.003538673, 0.04115017, 0.0074198893, -0.051491287, 0.0367848, 0.04859884, 0.05694738, -0.05253246, -0.030507611, 0.10486061, 0.04528709, 0.013522486, -0.06385928, -0.13666427, -0.017547764, -0.0027424463, 0.005282641, 0.14632602, -0.028641097, -0.06783795, 0.0055574114, -0.103922464, 0.00020937448, -0.072286226, 0.043681886, 0.057403233, -0.08483012, 0.04106083, -0.08675122, 0.00092133164, 0.028269507, 0.05043183, -0.10949622, -0.109956495, -0.046332728, 0.023414329, 0.025783625, -0.009338841, 0.022276813, -0.03884319, 0.02886393, -0.014298277, 0.013368578, -0.019627655, 0.06098284, -0.052803632, 0.02035644, -0.08718989, -0.04844314, 0.042071853, -0.032749847, -0.003025297, 0.08740418, 0.06697558, -0.18126714, -2.6043164e-33, 0.0028574893, 0.026502484, 0.0070936894, 0.047482125, -0.08362906, 0.01954927, -0.03145099, 0.04896475, 0.047450084, 0.042223193, -0.032752696, -0.0049586706, 0.033461172, 0.020337004, -0.08801076, -0.053918578, 0.050441355, 0.04811807, -0.08857767, -0.021072436, 0.08661652, 0.07409434, 0.024933321, -0.01719774, -0.0073795165, 0.024392767, 0.024967987, -0.04478606, -0.04948894, -0.08790634, 0.018632108, 0.04044794, -0.05591479, 0.06650478, 0.03606577, 0.02052523, -0.035931837, 0.053221557, 0.005625175, 0.016663061, -0.0014699094, -0.020327503, -0.021012854, 0.016928973, -0.047536675, 0.028599257, 0.034754466, 0.05107151, -0.018457193, 0.03319031, -0.021025067, -0.003915584, -0.07842099, 0.0641288, -0.06364926, 0.009909634, -0.038141545, -0.03842186, -0.01141467, -0.03318836, -0.015628742, -0.0500634, -0.04458349, 0.0079045445, -0.040209904, -0.011579142, -0.0727188, 0.08362937, 0.07120778, 0.00988329, 0.067617685, 0.039250247, -0.077584095, -0.03200958, 0.036491062, 0.027856445, 0.054041855, -0.019157242, -0.02213292, 0.010247622, 0.039678976, -0.04570352, -0.030282464, -0.038233873, -0.051028114, -0.09548706, 0.006373051, -0.012880709, 0.023118677, 0.005907635, -0.04654042, 0.010844994, 0.016575372, -0.07179959, 0.04364322, -1.9985812e-08, -0.053162605, 0.02439867, 0.0410626, 0.047090195, 0.08096907, -0.047043946, 0.018052107, 0.013133647, -0.0021761104, 0.08055132, 0.0059964973, 0.03238759, 0.015781166, -0.025936231, 0.045183048, -0.0067869965, 0.046225693, -0.10353545, 0.021991331, 0.035524037, 0.017534452, 0.0015238858, 0.062399864, 0.032153536, -0.026348319, -0.11337151, -0.0052382285, 0.016763948, -0.11891533, 0.07938371, 0.0053679734, 0.002557585, -0.111951865, -0.058590677, 0.03496399, -0.029657748, -0.020316262, 0.025116736, 0.08341841, -0.031513307, -0.041440107, 0.036474038, 0.05562426, 0.042660173, -0.0650701, 0.00418083, 0.041688252, 0.061009094, 0.060161237, 0.040581968, 0.005651476, 0.05342307, 0.01142231, -0.031444363, 0.019196102, 0.05594561, 0.054943144, 0.09632502, -0.029914293, 0.01915825, 0.06805087, -0.058565926, -0.03141621, 0.0096547]\"\n        ],\n        \"semantic_type\": \"\",\n        \"description\": \"\"\n      }\n    }\n  ]\n}"
            }
          },
          "metadata": {},
          "execution_count": 29
        }
      ]
    },
    {
      "cell_type": "code",
      "source": [
        "df = pd.concat(dfs, ignore_index=True)"
      ],
      "metadata": {
        "id": "VqSDjMeTGfwR"
      },
      "execution_count": 30,
      "outputs": []
    },
    {
      "cell_type": "code",
      "source": [
        "# concat all the df in dfs into df\n",
        "df.head()"
      ],
      "metadata": {
        "colab": {
          "base_uri": "https://localhost:8080/",
          "height": 391
        },
        "id": "_Syw6gsYGEpZ",
        "outputId": "0e07b16c-9ba3-4d72-e3e9-7af7bf63c40c"
      },
      "execution_count": 31,
      "outputs": [
        {
          "output_type": "execute_result",
          "data": {
            "text/plain": [
              "     id                                           sentence  pro-israel  \\\n",
              "0  aj_1  pope renews call for gaza ceasefire  release o...           0   \n",
              "1  aj_1  Pope Francis says his thoughts go to those fac...           0   \n",
              "2  aj_1  pope francis has renewed calls for an immediat...           0   \n",
              "3  aj_2  biden is still the best us president israel co...           1   \n",
              "4  aj_2  united states president ronald reagans order t...           0   \n",
              "\n",
              "   pro-palestine  neutral  anti-israel  anti-palestine  \\\n",
              "0              0        1            0               0   \n",
              "1              0        1            0               0   \n",
              "2              1        0            0               0   \n",
              "3              0        0            0               0   \n",
              "4              0        0            1               0   \n",
              "\n",
              "                                      bert_embedding  \\\n",
              "0  [-5.398319, -3.4624884, 1.2158442, -6.873296, ...   \n",
              "1  [-3.1675782, 4.4570203, 5.6814823, -2.0597496,...   \n",
              "2  [-15.144646, -0.41924834, 6.110239, -18.322815...   \n",
              "3  [2.12351, -1.1968501, -5.893949, 0.84273064, 0...   \n",
              "4  [-7.5038824, 10.2584505, -15.679925, -11.71334...   \n",
              "\n",
              "                                     sbert_embedding  \n",
              "0  [0.0042264466, 0.09409609, 0.02210562, 0.00452...  \n",
              "1  [0.02103883, 0.060152613, 0.045743383, 0.06227...  \n",
              "2  [0.045155767, 0.08643171, 0.058290135, -0.0015...  \n",
              "3  [0.0011824196, 0.066507965, 0.08534787, -0.064...  \n",
              "4  [0.07076625, 0.1025179, -0.022078907, -0.04288...  "
            ],
            "text/html": [
              "\n",
              "  <div id=\"df-f82b7125-a318-4321-aefa-75ac4afd94c2\" class=\"colab-df-container\">\n",
              "    <div>\n",
              "<style scoped>\n",
              "    .dataframe tbody tr th:only-of-type {\n",
              "        vertical-align: middle;\n",
              "    }\n",
              "\n",
              "    .dataframe tbody tr th {\n",
              "        vertical-align: top;\n",
              "    }\n",
              "\n",
              "    .dataframe thead th {\n",
              "        text-align: right;\n",
              "    }\n",
              "</style>\n",
              "<table border=\"1\" class=\"dataframe\">\n",
              "  <thead>\n",
              "    <tr style=\"text-align: right;\">\n",
              "      <th></th>\n",
              "      <th>id</th>\n",
              "      <th>sentence</th>\n",
              "      <th>pro-israel</th>\n",
              "      <th>pro-palestine</th>\n",
              "      <th>neutral</th>\n",
              "      <th>anti-israel</th>\n",
              "      <th>anti-palestine</th>\n",
              "      <th>bert_embedding</th>\n",
              "      <th>sbert_embedding</th>\n",
              "    </tr>\n",
              "  </thead>\n",
              "  <tbody>\n",
              "    <tr>\n",
              "      <th>0</th>\n",
              "      <td>aj_1</td>\n",
              "      <td>pope renews call for gaza ceasefire  release o...</td>\n",
              "      <td>0</td>\n",
              "      <td>0</td>\n",
              "      <td>1</td>\n",
              "      <td>0</td>\n",
              "      <td>0</td>\n",
              "      <td>[-5.398319, -3.4624884, 1.2158442, -6.873296, ...</td>\n",
              "      <td>[0.0042264466, 0.09409609, 0.02210562, 0.00452...</td>\n",
              "    </tr>\n",
              "    <tr>\n",
              "      <th>1</th>\n",
              "      <td>aj_1</td>\n",
              "      <td>Pope Francis says his thoughts go to those fac...</td>\n",
              "      <td>0</td>\n",
              "      <td>0</td>\n",
              "      <td>1</td>\n",
              "      <td>0</td>\n",
              "      <td>0</td>\n",
              "      <td>[-3.1675782, 4.4570203, 5.6814823, -2.0597496,...</td>\n",
              "      <td>[0.02103883, 0.060152613, 0.045743383, 0.06227...</td>\n",
              "    </tr>\n",
              "    <tr>\n",
              "      <th>2</th>\n",
              "      <td>aj_1</td>\n",
              "      <td>pope francis has renewed calls for an immediat...</td>\n",
              "      <td>0</td>\n",
              "      <td>1</td>\n",
              "      <td>0</td>\n",
              "      <td>0</td>\n",
              "      <td>0</td>\n",
              "      <td>[-15.144646, -0.41924834, 6.110239, -18.322815...</td>\n",
              "      <td>[0.045155767, 0.08643171, 0.058290135, -0.0015...</td>\n",
              "    </tr>\n",
              "    <tr>\n",
              "      <th>3</th>\n",
              "      <td>aj_2</td>\n",
              "      <td>biden is still the best us president israel co...</td>\n",
              "      <td>1</td>\n",
              "      <td>0</td>\n",
              "      <td>0</td>\n",
              "      <td>0</td>\n",
              "      <td>0</td>\n",
              "      <td>[2.12351, -1.1968501, -5.893949, 0.84273064, 0...</td>\n",
              "      <td>[0.0011824196, 0.066507965, 0.08534787, -0.064...</td>\n",
              "    </tr>\n",
              "    <tr>\n",
              "      <th>4</th>\n",
              "      <td>aj_2</td>\n",
              "      <td>united states president ronald reagans order t...</td>\n",
              "      <td>0</td>\n",
              "      <td>0</td>\n",
              "      <td>0</td>\n",
              "      <td>1</td>\n",
              "      <td>0</td>\n",
              "      <td>[-7.5038824, 10.2584505, -15.679925, -11.71334...</td>\n",
              "      <td>[0.07076625, 0.1025179, -0.022078907, -0.04288...</td>\n",
              "    </tr>\n",
              "  </tbody>\n",
              "</table>\n",
              "</div>\n",
              "    <div class=\"colab-df-buttons\">\n",
              "\n",
              "  <div class=\"colab-df-container\">\n",
              "    <button class=\"colab-df-convert\" onclick=\"convertToInteractive('df-f82b7125-a318-4321-aefa-75ac4afd94c2')\"\n",
              "            title=\"Convert this dataframe to an interactive table.\"\n",
              "            style=\"display:none;\">\n",
              "\n",
              "  <svg xmlns=\"http://www.w3.org/2000/svg\" height=\"24px\" viewBox=\"0 -960 960 960\">\n",
              "    <path d=\"M120-120v-720h720v720H120Zm60-500h600v-160H180v160Zm220 220h160v-160H400v160Zm0 220h160v-160H400v160ZM180-400h160v-160H180v160Zm440 0h160v-160H620v160ZM180-180h160v-160H180v160Zm440 0h160v-160H620v160Z\"/>\n",
              "  </svg>\n",
              "    </button>\n",
              "\n",
              "  <style>\n",
              "    .colab-df-container {\n",
              "      display:flex;\n",
              "      gap: 12px;\n",
              "    }\n",
              "\n",
              "    .colab-df-convert {\n",
              "      background-color: #E8F0FE;\n",
              "      border: none;\n",
              "      border-radius: 50%;\n",
              "      cursor: pointer;\n",
              "      display: none;\n",
              "      fill: #1967D2;\n",
              "      height: 32px;\n",
              "      padding: 0 0 0 0;\n",
              "      width: 32px;\n",
              "    }\n",
              "\n",
              "    .colab-df-convert:hover {\n",
              "      background-color: #E2EBFA;\n",
              "      box-shadow: 0px 1px 2px rgba(60, 64, 67, 0.3), 0px 1px 3px 1px rgba(60, 64, 67, 0.15);\n",
              "      fill: #174EA6;\n",
              "    }\n",
              "\n",
              "    .colab-df-buttons div {\n",
              "      margin-bottom: 4px;\n",
              "    }\n",
              "\n",
              "    [theme=dark] .colab-df-convert {\n",
              "      background-color: #3B4455;\n",
              "      fill: #D2E3FC;\n",
              "    }\n",
              "\n",
              "    [theme=dark] .colab-df-convert:hover {\n",
              "      background-color: #434B5C;\n",
              "      box-shadow: 0px 1px 3px 1px rgba(0, 0, 0, 0.15);\n",
              "      filter: drop-shadow(0px 1px 2px rgba(0, 0, 0, 0.3));\n",
              "      fill: #FFFFFF;\n",
              "    }\n",
              "  </style>\n",
              "\n",
              "    <script>\n",
              "      const buttonEl =\n",
              "        document.querySelector('#df-f82b7125-a318-4321-aefa-75ac4afd94c2 button.colab-df-convert');\n",
              "      buttonEl.style.display =\n",
              "        google.colab.kernel.accessAllowed ? 'block' : 'none';\n",
              "\n",
              "      async function convertToInteractive(key) {\n",
              "        const element = document.querySelector('#df-f82b7125-a318-4321-aefa-75ac4afd94c2');\n",
              "        const dataTable =\n",
              "          await google.colab.kernel.invokeFunction('convertToInteractive',\n",
              "                                                    [key], {});\n",
              "        if (!dataTable) return;\n",
              "\n",
              "        const docLinkHtml = 'Like what you see? Visit the ' +\n",
              "          '<a target=\"_blank\" href=https://colab.research.google.com/notebooks/data_table.ipynb>data table notebook</a>'\n",
              "          + ' to learn more about interactive tables.';\n",
              "        element.innerHTML = '';\n",
              "        dataTable['output_type'] = 'display_data';\n",
              "        await google.colab.output.renderOutput(dataTable, element);\n",
              "        const docLink = document.createElement('div');\n",
              "        docLink.innerHTML = docLinkHtml;\n",
              "        element.appendChild(docLink);\n",
              "      }\n",
              "    </script>\n",
              "  </div>\n",
              "\n",
              "\n",
              "<div id=\"df-a4dd077c-1af9-4160-bf15-c0c6a63dd683\">\n",
              "  <button class=\"colab-df-quickchart\" onclick=\"quickchart('df-a4dd077c-1af9-4160-bf15-c0c6a63dd683')\"\n",
              "            title=\"Suggest charts\"\n",
              "            style=\"display:none;\">\n",
              "\n",
              "<svg xmlns=\"http://www.w3.org/2000/svg\" height=\"24px\"viewBox=\"0 0 24 24\"\n",
              "     width=\"24px\">\n",
              "    <g>\n",
              "        <path d=\"M19 3H5c-1.1 0-2 .9-2 2v14c0 1.1.9 2 2 2h14c1.1 0 2-.9 2-2V5c0-1.1-.9-2-2-2zM9 17H7v-7h2v7zm4 0h-2V7h2v10zm4 0h-2v-4h2v4z\"/>\n",
              "    </g>\n",
              "</svg>\n",
              "  </button>\n",
              "\n",
              "<style>\n",
              "  .colab-df-quickchart {\n",
              "      --bg-color: #E8F0FE;\n",
              "      --fill-color: #1967D2;\n",
              "      --hover-bg-color: #E2EBFA;\n",
              "      --hover-fill-color: #174EA6;\n",
              "      --disabled-fill-color: #AAA;\n",
              "      --disabled-bg-color: #DDD;\n",
              "  }\n",
              "\n",
              "  [theme=dark] .colab-df-quickchart {\n",
              "      --bg-color: #3B4455;\n",
              "      --fill-color: #D2E3FC;\n",
              "      --hover-bg-color: #434B5C;\n",
              "      --hover-fill-color: #FFFFFF;\n",
              "      --disabled-bg-color: #3B4455;\n",
              "      --disabled-fill-color: #666;\n",
              "  }\n",
              "\n",
              "  .colab-df-quickchart {\n",
              "    background-color: var(--bg-color);\n",
              "    border: none;\n",
              "    border-radius: 50%;\n",
              "    cursor: pointer;\n",
              "    display: none;\n",
              "    fill: var(--fill-color);\n",
              "    height: 32px;\n",
              "    padding: 0;\n",
              "    width: 32px;\n",
              "  }\n",
              "\n",
              "  .colab-df-quickchart:hover {\n",
              "    background-color: var(--hover-bg-color);\n",
              "    box-shadow: 0 1px 2px rgba(60, 64, 67, 0.3), 0 1px 3px 1px rgba(60, 64, 67, 0.15);\n",
              "    fill: var(--button-hover-fill-color);\n",
              "  }\n",
              "\n",
              "  .colab-df-quickchart-complete:disabled,\n",
              "  .colab-df-quickchart-complete:disabled:hover {\n",
              "    background-color: var(--disabled-bg-color);\n",
              "    fill: var(--disabled-fill-color);\n",
              "    box-shadow: none;\n",
              "  }\n",
              "\n",
              "  .colab-df-spinner {\n",
              "    border: 2px solid var(--fill-color);\n",
              "    border-color: transparent;\n",
              "    border-bottom-color: var(--fill-color);\n",
              "    animation:\n",
              "      spin 1s steps(1) infinite;\n",
              "  }\n",
              "\n",
              "  @keyframes spin {\n",
              "    0% {\n",
              "      border-color: transparent;\n",
              "      border-bottom-color: var(--fill-color);\n",
              "      border-left-color: var(--fill-color);\n",
              "    }\n",
              "    20% {\n",
              "      border-color: transparent;\n",
              "      border-left-color: var(--fill-color);\n",
              "      border-top-color: var(--fill-color);\n",
              "    }\n",
              "    30% {\n",
              "      border-color: transparent;\n",
              "      border-left-color: var(--fill-color);\n",
              "      border-top-color: var(--fill-color);\n",
              "      border-right-color: var(--fill-color);\n",
              "    }\n",
              "    40% {\n",
              "      border-color: transparent;\n",
              "      border-right-color: var(--fill-color);\n",
              "      border-top-color: var(--fill-color);\n",
              "    }\n",
              "    60% {\n",
              "      border-color: transparent;\n",
              "      border-right-color: var(--fill-color);\n",
              "    }\n",
              "    80% {\n",
              "      border-color: transparent;\n",
              "      border-right-color: var(--fill-color);\n",
              "      border-bottom-color: var(--fill-color);\n",
              "    }\n",
              "    90% {\n",
              "      border-color: transparent;\n",
              "      border-bottom-color: var(--fill-color);\n",
              "    }\n",
              "  }\n",
              "</style>\n",
              "\n",
              "  <script>\n",
              "    async function quickchart(key) {\n",
              "      const quickchartButtonEl =\n",
              "        document.querySelector('#' + key + ' button');\n",
              "      quickchartButtonEl.disabled = true;  // To prevent multiple clicks.\n",
              "      quickchartButtonEl.classList.add('colab-df-spinner');\n",
              "      try {\n",
              "        const charts = await google.colab.kernel.invokeFunction(\n",
              "            'suggestCharts', [key], {});\n",
              "      } catch (error) {\n",
              "        console.error('Error during call to suggestCharts:', error);\n",
              "      }\n",
              "      quickchartButtonEl.classList.remove('colab-df-spinner');\n",
              "      quickchartButtonEl.classList.add('colab-df-quickchart-complete');\n",
              "    }\n",
              "    (() => {\n",
              "      let quickchartButtonEl =\n",
              "        document.querySelector('#df-a4dd077c-1af9-4160-bf15-c0c6a63dd683 button');\n",
              "      quickchartButtonEl.style.display =\n",
              "        google.colab.kernel.accessAllowed ? 'block' : 'none';\n",
              "    })();\n",
              "  </script>\n",
              "</div>\n",
              "\n",
              "    </div>\n",
              "  </div>\n"
            ],
            "application/vnd.google.colaboratory.intrinsic+json": {
              "type": "dataframe",
              "variable_name": "df",
              "summary": "{\n  \"name\": \"df\",\n  \"rows\": 46242,\n  \"fields\": [\n    {\n      \"column\": \"id\",\n      \"properties\": {\n        \"dtype\": \"category\",\n        \"num_unique_values\": 2346,\n        \"samples\": [\n          \"jp_257\",\n          \"bbc_70\",\n          \"nyt_251\"\n        ],\n        \"semantic_type\": \"\",\n        \"description\": \"\"\n      }\n    },\n    {\n      \"column\": \"sentence\",\n      \"properties\": {\n        \"dtype\": \"string\",\n        \"num_unique_values\": 36463,\n        \"samples\": [\n          \"president biden sent prime minister benjamin netanyahu a clear message \",\n          \"humanitarian assistance cannot be a secondary consideration or a bargaining chip  \",\n          \"protests intensify against netanyahu  and china tries to sway u \"\n        ],\n        \"semantic_type\": \"\",\n        \"description\": \"\"\n      }\n    },\n    {\n      \"column\": \"pro-israel\",\n      \"properties\": {\n        \"dtype\": \"number\",\n        \"std\": 0,\n        \"min\": 0,\n        \"max\": 1,\n        \"num_unique_values\": 2,\n        \"samples\": [\n          1,\n          0\n        ],\n        \"semantic_type\": \"\",\n        \"description\": \"\"\n      }\n    },\n    {\n      \"column\": \"pro-palestine\",\n      \"properties\": {\n        \"dtype\": \"number\",\n        \"std\": 0,\n        \"min\": 0,\n        \"max\": 1,\n        \"num_unique_values\": 2,\n        \"samples\": [\n          1,\n          0\n        ],\n        \"semantic_type\": \"\",\n        \"description\": \"\"\n      }\n    },\n    {\n      \"column\": \"neutral\",\n      \"properties\": {\n        \"dtype\": \"number\",\n        \"std\": 0,\n        \"min\": 0,\n        \"max\": 1,\n        \"num_unique_values\": 2,\n        \"samples\": [\n          0,\n          1\n        ],\n        \"semantic_type\": \"\",\n        \"description\": \"\"\n      }\n    },\n    {\n      \"column\": \"anti-israel\",\n      \"properties\": {\n        \"dtype\": \"number\",\n        \"std\": 0,\n        \"min\": 0,\n        \"max\": 1,\n        \"num_unique_values\": 2,\n        \"samples\": [\n          1,\n          0\n        ],\n        \"semantic_type\": \"\",\n        \"description\": \"\"\n      }\n    },\n    {\n      \"column\": \"anti-palestine\",\n      \"properties\": {\n        \"dtype\": \"number\",\n        \"std\": 0,\n        \"min\": 0,\n        \"max\": 1,\n        \"num_unique_values\": 2,\n        \"samples\": [\n          1,\n          0\n        ],\n        \"semantic_type\": \"\",\n        \"description\": \"\"\n      }\n    },\n    {\n      \"column\": \"bert_embedding\",\n      \"properties\": {\n        \"dtype\": \"string\",\n        \"num_unique_values\": 36317,\n        \"samples\": [\n          \"[5.411009, 2.0678146, -4.3653793, -2.8465836, 2.5051844, -0.62753564, 0.6547975, 13.620222, 3.2733345, 0.90538555, 7.212842, -7.4946423, 0.23172957, 9.724109, -7.9284735, 0.55104214, 4.2172365, 3.0295234, -3.8082619, 6.951215, 0.34707654, 2.142825, -1.106774, 7.9219613, 3.5600116, 1.5381896, 2.4748516, -3.2469735, -0.9171563, 0.74686056, 10.20391, 1.5910825, -3.3039477, -1.8672944, -1.3202926, -4.6656437, -2.8490868, 4.659758, -3.4424345, 5.13395, -4.2174044, -1.0694574, 2.1386962, -3.3116202, -4.48737, -0.6940258, 4.9653096, -3.7163303, 3.3513236, -4.072171, -3.2317612, -4.6541233, 2.991566, 8.338729, 4.931334, 8.933672, -8.723487, -6.486878, -4.568151, -0.20817173, 6.4479547, -0.83827776, 1.1385455, -3.8509703, 5.4710493, 3.1478477, -0.7605705, 0.6450973, -8.299258, 5.7914357, -2.489217, -6.300354, -3.5911272, -4.6638303, 0.3367358, 5.739434, -1.6897259, 1.8982977, 3.864667, 1.7699885, -0.57391876, 2.3993015, -6.7860723, 5.5906596, 1.358263, 0.17554623, -1.4088545, -0.6996197, -1.3142912, 3.8158512, 1.0185483, -2.8637621, 3.532611, 0.77002037, 2.4870625, -5.379761, 8.789856, -1.385843, 1.3451877, 6.620781, -4.180756, -3.0722558, 4.3056154, -3.8752677, -3.037205, -2.7899044, 4.151796, 4.6238813, -0.9105717, -3.0414886, -0.6160562, -0.07648334, -5.8760495, -2.0058138, -8.357144, 2.0048523, 4.165538, -5.372907, 6.118759, 4.058517, -7.6218038, 0.11083284, 0.40467393, 9.038887, -5.9232426, 0.5535762, 0.4443046, 3.2332757, -3.7036805, -5.5689163, 3.0169632, 8.06771, 10.473494, -5.8616424, -5.6445136, -4.974474, 2.3537614, -1.1104118, -1.7081834, -3.1079535, -1.4851956, 0.4371997, -0.42444575, -2.80732, 2.0879247, -2.1319716, 2.9040208, -0.09294808, 1.712282, -2.014085, 1.211328, 5.5824475, 1.213795, -6.902216, -5.7198286, -4.105098, -8.385096, 6.156848, 1.0826619, 5.4119406, 8.430304, -1.1040573, 3.5193963, 9.149655, 0.8264663, 7.486824, -1.5122874, 3.5945387, -8.989208, 0.2415851, -2.6969101, -0.3346093, 9.164952, -5.5223784, -1.1806884, 4.1071625, -0.33928403, -0.04796435, 4.798829, -0.7140357, -12.153506, 2.1678016, 1.1258528, -1.8578602, 6.8005333, -4.591179, -4.064913, -2.89632, 2.1744118, 2.6626384, -4.679944, -4.0738854, 0.56990933, -0.7127974, -1.0615962, -7.446736, 1.8742471, -1.4712198, -1.3551469, 3.376178, 0.35500497, -1.1663991, -3.2424634, 3.8991013, -1.1048391, 9.134249, 0.43938112, 2.285412, 5.490461, 5.711805, -0.5118152, 9.772498, -1.9700375, 3.0959997, 0.44709575, 3.3568854, -1.3156633, -2.4052548, 2.618201, -1.3508061, -0.07630062, -2.5903323, -6.761906, 0.59917027, -3.8392906, 1.827924, -0.07998313, -1.2403492, -1.1899091, -3.91447, -0.9493074, -11.253343, 6.1201415, -1.1071442, 6.306877, 0.7762363, 2.3274643, 0.12956667, -0.67610747, -2.8226168, -6.135135, 7.3281536, -4.654755, -0.9303454, -1.4762629, 0.5855354, 0.6541649, -4.6987624, -1.2763971, -0.92205524, -5.4684415, -8.866958, -0.6916015, -1.6228876, 3.4484177, -2.95896, -2.5104203, 4.9567404, -0.34286714, 1.6621943, 4.1628513, 6.06309, 1.1342158, -2.3154945, -10.579012, -5.2881284, 3.462322, 4.363883, 6.336193, -0.66695845, 0.020463109, -0.8509576, 2.880226, 2.315327, 4.7071476, 0.045327544, -1.605512, 1.779523, 1.368647, 0.8731624, -2.3948932, 7.570632, -9.876394, 2.9671845, 0.61558646, -4.9498515, -2.9134035, -3.0423865, 0.92247784, -3.244713, 0.91413, 3.3549664, -2.641264, -7.4749923, 4.951993, 0.90486765, 3.0425756, -1.0675813, -1.6055207, 1.9683719, -5.1009216, -6.166806, 3.138989, 3.110107, -1.7005751, 2.7222757, -2.2524002, -4.8028164, -70.58847, 3.9834015, -3.3599167, -7.9033413, 2.8465328, -0.896657, -5.9556355, -1.894953, -1.6607012, 0.84650636, 3.6299157, 2.058492, 6.0220475, 4.968896, 3.3488522, 0.15686303, 0.1869964, -3.8770359, -5.5430574, 11.112816, -4.776025, 0.07754949, -2.5601907, -1.5734391, 9.086334, 4.6458607, -4.6619167, -3.8939972, -6.822294, -2.5115018, -1.6667027, -1.774693, -1.3761955, -0.47118378, -0.4833165, -4.4079485, 0.3028872, -2.1020684, 0.03776917, -1.4987692, 0.33841357, -5.2772236, -1.8704498, 0.09717557, 9.074459, 1.2698351, -2.9930177, -4.1378202, 1.434249, 2.1088018, -0.4857869, -0.8741344, 2.132549, -3.016211, -0.72224224, -3.9987853, 9.611297, 5.8354506, -7.176646, -8.58431, -2.1147122, -4.8108044, -5.291711, -2.9700298, 2.8981395, -7.5148864, -5.3238583, -4.303327, -2.4684052, 1.9309207, 3.9331808, 1.164279, -2.9711504, -16.216274, -0.58669466, 0.3601005, -3.631071, -3.7072172, -0.20539665, -2.5849736, 4.7639804, -0.84303963, -0.7128583, 1.7926351, -2.2576756, 0.21874121, 1.5479103, -6.871966, -6.0769424, -4.175438, 3.989709, 6.5819445, 0.829153, 6.347758, 5.2747574, 0.826562, 4.856265, 0.55448616, 5.5444183, 3.5559568, -3.0155792, 1.3394126, 1.1932857, 6.366392, 8.469216, 4.2137375, -10.344219, 1.873935, 2.160733, -1.5038886, 1.8495798, -7.9405823, 3.8083847, -9.763812, -5.2567124, -1.4594648, 9.035889, 0.63384557, 0.86423635, 1.2049016, -1.6154186, 6.561516, -3.6790972, -2.214946, -9.546217, -0.675958, 1.9712292, 0.8382473, -3.4072921, 1.2486999, -0.19216526, -0.95199335, -2.418487, 6.3185573, -0.9679545, 1.3189669, -3.8504314, -7.4282336, -1.3427308, -3.18295, 5.529727, 2.7534637, 0.36034596, 5.9389067, 0.7188331, 9.951462, -0.6867219, 0.9586171, -3.7969356, 2.7869446, -3.1187308, -2.9102166, 4.11742, -2.388769, -2.9718568, 0.032300234, 6.078374, 1.4568007, -4.7088604, -4.258548, -2.330649, 2.545548, 3.5075092, 6.0002966, 0.72886276, 11.835188, 4.9662805, -0.88765097, -3.385651, 5.6271253, -0.73912483, -3.6708317, -1.7165287, -4.4546385, 1.3920736, 9.306639, -4.0170164, -0.66017354, -1.167728, -1.343827, 0.18430078, -1.584646, -2.261584, -2.5639918, 3.696228, -0.41661954, 2.0226321, 2.1521003, -3.7721756, 8.688419, -6.966961, -1.0757258, -2.1463795, 0.064528465, -6.9502, -1.6091821, 9.771969, -7.411827, -1.7519059, 1.4077343, 4.3926353, 3.9611304, -1.0164803, 2.7886987, 5.4070854, -3.6289945, -0.34322613, 7.3323793, 1.2023578, 3.9538846, -5.7008605, -4.9991503, 1.2075579, -4.270421, 3.8732848, -1.5132899, 2.299896, 2.542066, 2.0040064, 0.49109, 2.5841665, -2.3690233, 1.2205533, 0.41844907, -3.2348065, 0.30682588, -1.9645936, -0.28723657, -7.1561036, -5.951616, -5.097506, -9.802457, 7.612764, -1.9037238, -3.656318, 2.2281463, -0.16493875, 3.7077386, 1.9992648, 2.4031365, 3.531057, -1.295076, -1.9669533, -1.2216148, 7.8328505, -5.7659492, 0.95131385, 7.1371837, -3.7717195, 5.9910197, -5.9034724, -3.9771552, -0.8499824, 0.088798404, 1.3658936, -7.197426, -8.3673725, 6.115666, -0.0002180934, 0.58328784, -2.883797, -1.0802864, -7.266177, -0.7550862, 1.8431144, 1.8201551, 0.51660156, 6.990877, -0.07259393, -0.18012702, 3.91769, -3.4798398, 1.1370593, -4.381711, -7.0654373, 1.1985455, -5.778379, -3.5829215, 4.8749733, -10.7551, 1.4953395, -1.6055462, 1.4530233, -0.51018095, 1.5219502, -0.61520576, -3.478077, 3.4309478, -0.8091017, -2.4854794, 1.870843, 3.81038, 2.2691476, 0.9149158, 3.341415, -3.7717237, 1.6437011, -0.051108718, 2.4748507, 2.5233333, 3.9879413, -1.5320803, 0.55468404, 4.762825, 1.565985, 2.6422498, 2.4926863, -1.5835031, 9.568766, 3.4685414, -4.1507983, -7.5023813, 6.6671176, 7.2040234, -1.289721, -2.1219285, 3.6548014, -6.090427, 3.0607226, -0.79654497, 3.045598, -3.6803188, 6.690737, -1.2053399, 0.6282765, 4.5646954, -2.5443566, -2.3716888, -4.057367, 5.505368, -0.49765787, 6.283532, -5.025487, 4.586594, 0.10004139, -3.8930979, -1.4723111, -0.4421537, 1.5889087, 5.728647, -2.3574286, -2.9912004, 6.7041597, 7.2326736, 2.0526586, 5.05159, 0.75301147, 2.6715083, 12.332759, -0.62814105, 0.054528773, 2.979864, 1.789663, -2.6017237, 1.3168364, 7.626028, 4.3225636, 1.9398158, -1.5053265, -1.4040619, 1.0738822, -5.4865627, 2.0671268, -4.253701, 0.28785732, 6.2206516, 1.3450494, -6.3208895, -4.589096, 1.9051235, 0.97974354, -0.6530501, -6.7065945, -1.4776895, -5.8805146, 5.5390534, -0.9441526, -3.1075392, -1.6585723, -0.8089425, 3.9103367, 1.4163604, -5.9549766, -4.547521, -0.9252219, -10.693993, 3.2175243, -3.9917593, -4.2773433, -2.1715188, 2.4462094, -2.5379908, 0.7276719, -5.3730984, 1.4599215, -7.4561753, -0.8325296, -2.6687362, 4.3965287, 0.54909825, -0.9806884, 1.0853438, -2.575856, 2.3240259, -3.0454693, 1.8803602, 2.3278365, 2.6426902, -7.128707, -0.7765709, 3.5348234, 4.501301, -12.233546, -4.1160727, -0.6719018, -4.0317106, 2.4142394, 1.4683735, -2.5803158, -1.4152627, -2.7632365, -6.2707067, -2.6604466, -1.4995601, -1.0533422, 1.8018745, 1.1763443, 7.6856027, -0.07815313, -3.4236717, -5.5935535, 2.6016653, 0.93818253, -0.5762312, 1.4113322, 1.3197856, 2.9088502, -1.3048072, 2.74028, -1.4757717, 0.19635513, 1.6801828, 0.059031606, -7.944461, -3.9583678, 1.1170397, -0.32270336, -7.2989388, -2.8390465, -4.193727, -4.8263197, -1.5613178, 4.6831193, -2.2485073, -0.6658205, -5.962512, 1.7402402, -0.18292163, 1.7922524, 0.4533193]\",\n          \"[-4.746419, -8.276609, 3.374845, -22.446297, -14.037411, -16.824154, -8.855753, 35.71445, 4.4555764, -9.677941, 4.958151, -44.1119, -35.982513, 41.059692, -21.226292, 35.599144, 12.794851, -8.463064, -21.221996, 17.419802, 16.385593, -13.989439, 24.171946, 35.420532, 28.12489, -5.9692345, 20.494167, 7.0943594, -18.650234, 2.50719, 30.868116, 5.496766, -4.3855968, -26.574726, 2.5337448, 16.78579, 0.5757506, -6.9360538, -9.738964, 9.823507, -27.642803, -37.9722, -20.158531, 3.8021822, -3.9594421, -23.139534, 28.484877, 6.2235794, -6.1996036, -3.9121037, -20.964018, 20.716677, 4.1817293, -19.757576, 26.874073, 43.531036, -23.4402, -39.637413, -15.829277, -12.873377, 13.065039, -9.825386, 31.890034, -39.620705, 20.207983, 30.246246, -0.38191622, 30.474468, -38.96315, -3.4046502, -20.83963, 5.8685656, -32.555218, 15.734473, -7.656646, -23.254776, -15.540319, 8.463242, 1.0837334, 3.3975835, 5.0481296, 33.565464, -20.982044, 30.08717, -1.8343637, 26.438154, -4.3491125, 11.717495, -13.529985, 35.63122, 15.56763, -13.832109, -3.4484484, 19.827229, -2.2243512, -3.3944585, 9.979493, -0.63529086, -17.238039, 32.416435, 27.864386, -11.921556, 20.173729, 0.8555522, 11.922419, -17.880463, 11.872246, -5.0546556, 11.870841, -14.49836, 3.8993144, -11.426977, -10.855721, -13.411006, -16.037933, 22.988796, 14.42906, -24.458923, 12.435728, 2.0890865, -3.9252038, 11.171928, -6.4323826, 73.955536, -4.2972517, -6.1899576, 2.0831616, 24.581078, -23.80125, -1.3638321, -0.4308002, 20.48077, 0.29399806, -32.931114, -23.799084, 7.689377, -8.376267, -41.93833, -41.32124, 26.264257, -3.849639, -31.720238, 17.395054, -1.8770978, 2.4321158, 7.2631426, -4.37097, -22.557783, -4.06158, 14.635526, -1.3670071, -9.74867, -2.9060948, -14.026794, -4.4833837, 0.7866192, -8.86319, 7.6829667, -1.6033236, 3.8870113, 38.753227, -1.3672209, -0.026587665, 9.191097, -1.2562013, 7.1035204, -17.043446, 32.128258, -13.751905, 8.054511, 5.217375, -20.024715, 35.968655, -7.044387, 9.704793, -15.091875, 4.0781956, -8.191536, 4.606623, 21.888119, -47.17836, 12.837698, 3.6274972, 38.620636, 15.096035, 7.693632, -3.805245, 11.499395, 3.7627535, -13.977726, -6.2280526, -22.24585, -8.657866, 6.855024, 30.786224, -26.31032, -6.760061, -8.349843, -34.261436, 13.43122, -4.512575, 13.00886, 2.4550703, -2.6230032, -4.1458826, 6.9143205, 6.964554, 0.49445897, -13.591271, 23.289577, -2.310371, 10.30472, 10.851296, 17.381632, -2.8933072, -3.7299595, -6.073969, 9.667677, 14.076528, -8.460664, 7.0465946, 12.113788, -36.912113, 24.537304, -1.4144216, 36.035484, -22.899414, -41.040108, 6.1171517, 15.119318, 8.174961, -18.944696, 41.043533, 1.9177927, -30.03502, -0.35006475, -31.12218, -3.76155, 17.573893, -18.909752, -0.16910279, 43.26077, 25.530205, 11.971689, 2.4809163, -17.347858, -21.100204, 0.23376006, -27.42407, -4.5312834, -29.112688, -17.305878, -0.39446712, -22.966312, 1.1954714, -17.464626, 9.557287, -26.138718, -7.4688864, -2.0683885, 12.54175, 0.42191505, 3.240972, 21.423729, -9.981823, -20.203571, -7.536336, 44.342224, 19.553555, 10.294237, 6.978538, 1.174909, 0.7201717, 37.924522, -12.97677, -30.040043, 13.719795, 31.387705, -24.935135, -4.826669, 4.174267, 26.886013, 2.7681901, 1.0850518, 9.5586815, -25.272514, 0.3362453, -4.4894905, -20.69854, -21.847458, -10.278303, 21.213299, -5.5616508, -35.181126, -8.062942, 3.9711928, 9.51927, 12.114095, 28.880386, -19.67059, -14.329079, 15.184536, -4.919179, 3.851783, -7.5432625, 13.262876, 4.488533, -12.429602, -285.98904, 9.422585, 2.781629, -3.5943756, 16.528301, -2.0757728, 10.739222, -44.004868, -28.916512, -3.2264233, 5.204819, -10.54777, 27.332079, -10.525624, 14.707993, -9.225368, 1.7423085, -23.082897, 11.176779, 37.60128, -2.4378822, -37.86327, 1.1169102, -10.580146, 26.943539, 15.955778, -13.369356, 0.858665, 0.6354878, -9.625848, 17.197906, -12.331148, 14.792566, 15.164239, 0.44502556, -1.8136995, 20.841524, -29.797724, -25.733212, -23.554466, -13.283289, -44.508892, -18.600803, -10.841776, 64.10339, -18.624336, 8.6617985, -21.529602, -8.887011, -11.290405, 27.72726, -2.1683524, -34.42133, -16.665806, -9.140133, 9.249739, 17.407265, 23.136202, 7.237951, -37.498898, 0.39481246, -7.442282, -26.701677, -20.901196, -7.9177585, 4.5207186, -25.507973, -7.543315, 12.298849, -17.036736, 3.0325534, 17.789314, -28.828876, -46.658546, 3.9514241, -17.918394, 19.888247, -8.618613, 8.646822, -5.9722266, -21.362316, -19.262856, 10.1347475, -11.700089, 17.50904, -16.79033, 14.9079895, 4.143509, -13.188495, -36.629726, 18.196465, 0.070310175, 7.4342217, 18.071295, 14.43696, -3.8286572, 16.396633, -7.0829005, 13.592825, -11.714611, -6.7624083, 8.916157, 44.074295, -29.1005, 16.063248, 4.0092497, 0.67605305, 20.700882, 5.6438103, 3.8991005, 37.25234, -40.206787, 42.535458, -29.115019, -20.901253, -14.252666, 27.875084, 39.69721, -0.65224147, 9.575131, -9.189827, 14.015702, -55.460888, -25.332512, -13.974415, -2.5696104, -27.635265, 13.479052, -4.882294, -10.299841, 0.56699103, -11.540262, -3.2023287, 37.808716, 13.644274, 1.241952, -11.4042635, -34.96356, 4.076947, 11.246155, 9.854803, 18.935574, -5.831843, -6.74125, 3.4747071, 26.955402, -2.6425862, 18.26738, -18.432022, 13.897192, -14.422624, -11.070574, 12.387825, -11.628752, 4.9911437, 58.62352, 44.90242, 1.9755814, -20.955778, -31.765593, 9.258505, 26.683083, 16.549799, 14.602885, -14.992609, 43.720234, 4.4962816, 10.926319, 5.6207833, 16.41179, -7.530015, -1.4763553, -22.19302, -7.074488, 0.9123246, 23.751549, -6.818263, -4.3227897, -19.628311, 26.514286, -16.440203, 3.1552567, -4.371373, 0.55421615, 26.25418, 10.085214, 25.438255, -30.16714, -2.7640615, 7.409889, 4.5557995, 34.805553, -1.8113551, -0.3491783, -20.805862, -17.828096, 16.024954, -24.84852, -1.804338, 27.70272, 11.225433, 20.316536, -10.42271, 1.6727957, -18.211857, -20.228233, 6.8117595, 8.136543, 3.244119, -4.96507, -39.466583, -7.9312153, -18.185299, -2.813627, 1.6530211, -29.30526, -5.254161, -14.580475, -29.061687, 11.889441, -19.774519, 10.473291, 13.913052, -0.16037726, -37.423687, -9.086018, -6.7802896, -4.5964336, -13.349837, 0.8388197, 2.603806, -32.768112, 25.407528, 18.836597, -13.323728, 6.0487404, 6.910558, -42.385, 1.076315, 3.340888, -17.671703, 7.999272, 8.303236, -21.854916, -0.0383116, 1.6829286, 5.1414566, 36.67369, -10.745058, 33.243164, -7.2145247, 16.200047, -8.033375, -36.564217, -17.474174, -47.33831, -24.514858, -19.357578, -17.132488, -2.7861125, -5.6480446, -15.222325, -8.71735, 1.2406082, 17.45779, 10.293839, 10.062352, 23.684021, -19.52312, -19.833054, -2.0415735, -14.374289, 6.286128, -6.196313, -5.8077955, -1.9056787, -6.5633936, -27.498245, 34.673008, -10.820234, -24.960745, -3.8447049, 2.9821231, -23.884802, 6.382638, -38.020103, 6.0901775, 18.741713, -18.712528, -35.769096, 22.555967, -3.1011827, -0.026172876, 7.877061, -21.267021, 17.957764, 33.75096, 5.4522576, -18.69888, 3.0627167, 1.0224625, -11.738878, 12.608725, 7.797394, -21.14394, -5.6985025, 1.1299032, -42.39988, 12.25511, 10.006882, -18.835135, -26.393661, 28.143099, 9.96256, -20.437069, -13.510961, -15.518006, -21.677322, 4.072283, -9.323276, 6.6894684, 4.5487585, 45.156837, 0.9257071, 25.742807, 15.551905, -13.515711, -3.1805878, -0.9829223, 2.9267287, -17.913612, 9.734391, -27.9878, 10.916549, -5.571738, -15.944335, -5.3173466, -15.668047, -6.64471, 12.210543, 27.353756, 13.196711, 14.1078005, 27.792492, 24.017223, 21.318651, 17.477186, 13.843178, 41.86526, 36.564293, 25.993755, 21.084423, 4.9428368, -11.679861, 30.155851, 34.935135, 6.024933, 12.323307, -6.4136305, 47.08522, 6.290617, 10.266367, 34.599396, -32.039642, 26.71527, 12.374308, -19.284355, -26.408066, -17.41005, 10.906149, 21.784668, -22.76562, -38.853565, -3.7999263, -11.952435, 30.087791, -14.161898, -9.540218, -8.419603, 13.420532, -12.440121, -15.43675, -6.274879, -18.35804, -24.955254, -19.113995, -3.594671, -4.157118, -22.7948, -33.66735, 9.039568, -2.2720404, 8.562641, -3.9644947, 6.3065224, -24.46727, 25.888996, 16.906708, 29.419266, 22.467724, 7.803606, -24.266117, -14.167981, -5.9946656, 1.3949366, -8.57968, -6.017028, 33.19184, -40.66622, 2.734796, 22.714315, 37.74665, -35.55749, 23.059536, -4.5378914, 4.444258, 12.140976, -13.334909, -16.466148, 2.5099459, -32.03086, -19.780142, 1.6589034, 7.511727, -34.838753, -4.517006, 14.335916, 23.660454, -5.804641, 17.842518, -8.899163, 17.047588, 10.402151, -7.3367205, -18.4248, -13.91879, 1.3206006, -9.996574, -18.109716, 4.2781944, 46.624798, 2.9768548, -8.860899, -8.633383, 32.106724, -25.962828, -13.297008, 3.1566644, -0.51984036, -12.169568, 21.694376, 0.21532798, 9.566009, -12.2267475, 14.020592, -1.8338974, -3.0349817, -32.764214, 12.975218, -0.9565534]\"\n        ],\n        \"semantic_type\": \"\",\n        \"description\": \"\"\n      }\n    },\n    {\n      \"column\": \"sbert_embedding\",\n      \"properties\": {\n        \"dtype\": \"string\",\n        \"num_unique_values\": 36317,\n        \"samples\": [\n          \"[0.080302425, 0.1012206, -0.008591695, -0.02423986, -0.09169791, 0.00022556151, 0.020493947, -0.01676644, -0.008999199, -0.08605547, -0.048952036, -0.024634002, -0.037525803, -0.028469427, -0.0034822912, -0.080559246, -0.016403405, 0.072803274, -0.07699482, -0.054535445, -0.0011011824, -0.072714716, 0.08548233, -0.05558917, 0.06414407, 0.026448753, -0.015299939, 0.032898944, 0.07567752, 0.07330863, -0.060387008, -0.02293206, -0.009819636, 0.07537616, -0.029443726, 0.0021879615, 0.0008980287, 0.14097457, 0.05922443, -0.0108296685, -0.04484729, 0.059729345, 0.033215947, -0.014435597, 0.007890283, 0.038336217, 0.06525939, 0.04989331, -0.045603827, 0.0057045203, -0.054117642, 0.02183825, 0.07294611, 0.00789478, 0.015182395, 0.0065638386, 0.012571633, 0.011482871, -0.038118694, -0.010870618, -0.0055395365, -0.06222246, -0.013471418, -0.0031376125, -0.073477894, -0.09713845, 0.034506526, -0.044824645, -0.057818152, -0.10278696, -0.02568755, 0.076326035, -0.024664596, 0.086420655, -0.03583478, -0.016482245, 0.09932119, 0.0029691462, -0.07851451, 0.0032539694, -0.040343132, 0.006287476, 0.032268375, 0.07869045, -0.002619788, -0.028089413, 0.015224588, -0.022372557, -0.068748094, 0.028734993, -0.005406581, -0.12013531, 0.06241256, -0.04182073, 0.04634886, -0.036281433, -0.046752162, 0.038809475, -0.045971, 0.031411007, -0.054815058, 0.01633585, 0.087558895, 0.059451077, 0.025183674, -0.018269414, 0.0016743388, 0.056616105, 0.01723971, -0.04599983, 0.05686903, -0.05707133, 0.007164471, 0.08168229, 0.0034797497, 0.027861029, 0.070712574, -0.043440696, -0.037611447, -0.05195295, -0.049352515, 0.048181597, -0.021002341, 0.05192267, -0.09923561, 0.020899542, -0.025164122, -2.6224328e-33, -0.06641014, 0.039564364, 0.0109811025, 0.013827751, -0.0061130547, -0.009883099, -0.0060224785, 0.004066106, 0.009397298, -0.018295059, 0.028245319, -0.05844824, -0.005512265, -0.032016966, -0.103215806, 0.06520994, -0.12153674, -0.023134643, 0.021263635, 0.04596053, 0.07196953, 0.032316346, -0.053424045, -0.05408061, 0.006975146, -0.06718443, 0.11324235, 0.09649183, -0.07971103, 0.0131595535, -0.0516764, -0.010044398, 0.03474558, -0.031997494, 0.017825836, 0.03766153, 0.09341341, -0.06300883, -0.05706919, -0.07990802, 0.048154753, -0.036884736, -0.010872797, -0.0071780765, -0.011538826, 0.0433989, 0.030520815, -0.11074901, -0.026331447, 0.08757923, -0.030809237, 0.032929607, 0.0105723245, 0.0069479006, 0.01564175, 0.043701757, 0.04999878, 0.07785323, -0.039233997, 0.05242569, -0.04004139, -0.018406905, -0.036764972, 0.1270867, -0.046084825, 0.021785611, 0.04374166, 0.033737402, -0.047104865, 0.0070597515, -0.020166596, 0.018545048, 0.0276394, 0.003834425, -0.05309086, 0.07554877, -0.01953258, -0.006990111, 0.12036313, -0.12711716, 0.04371649, 0.00678082, -0.007398276, 0.07186435, -0.102700114, -0.0029061716, 0.04648878, 0.053918432, -0.043850463, -0.06997046, 0.04888708, 0.07109326, 0.040576812, -0.061323624, -0.17692846, -8.303375e-34, -0.028385404, 0.008971787, 0.007716596, -0.02260936, -0.032662127, -0.016465168, -0.028466731, 0.05711012, 0.022752147, -0.0801704, 0.09338913, -0.10139707, -0.04497448, 0.068943605, -0.024695426, -0.03657686, -0.04281348, 0.071970426, 0.038503904, 0.012374031, -0.051128644, 0.060840063, 0.001963064, 0.05384152, 0.034465, -0.029411113, 0.050465368, 0.07231717, -0.038377255, -0.041499246, -0.028793897, 0.018631091, 0.0034753145, -0.12656413, -0.032598667, 0.031698782, 0.011977765, -0.028414352, 0.024535717, -0.049520526, 0.0052236402, 0.023966277, -0.041576732, 0.044153083, 0.054973733, 0.06254502, -0.011555357, 0.0840729, 0.01623371, -0.0030411966, -0.114330366, -0.012861459, 0.056840364, 0.003198514, 0.025721246, -0.014257564, 0.021380862, -0.039608117, -0.042061202, -0.02020599, 0.061428573, -0.03221852, -0.049726885, -0.004058714, -0.0077204197, -0.034910623, -0.026047023, 0.0437409, 0.041687958, 0.07092813, 0.021136878, -0.018279266, -0.061888155, 0.034308583, -0.03447823, -0.030186165, -0.04083955, -0.04756281, 0.032386012, -0.05502478, -0.029107155, -0.024020266, -0.040171362, 0.044667907, 0.06803274, -0.07409356, -0.044326402, 0.06918798, 0.036312148, 0.020926094, 0.0045119566, -0.04101096, 0.03663519, -0.0791086, -0.045561425, -2.0672434e-08, 0.06868232, 0.016545994, 0.050487302, -0.070127666, 0.007189114, 0.021110235, 0.032291338, -0.08618562, -0.029040199, -0.018427774, -0.059963588, 0.080078386, -0.05286233, 0.013871296, 0.05555277, -0.004025852, 0.06046254, 0.0046944153, 0.024839092, 0.060330596, -0.0108388625, -0.008403859, 0.054079022, 0.0034359659, -0.03259398, 0.014604493, 0.02004535, 0.01094765, 0.029495986, -0.011700016, -0.083002545, 0.073603675, 0.016870858, -0.06291668, -0.123208694, 0.041181587, 0.017148409, -0.07694916, 0.05078341, -0.010528455, -0.003021802, -0.020209575, -0.026785377, -0.0034334217, -0.03604165, -0.02125008, 0.038371712, 0.01073894, -0.048834898, -0.061788585, 0.061777614, 0.11497224, -0.015712151, 0.050867375, -0.03690434, 0.0027057126, -0.04526852, 0.030484246, 0.030275423, -0.0068115736, 0.116726205, 0.07477515, 0.013869856, -0.062035475]\",\n          \"[0.04588074, 0.043046262, -0.029830003, 0.061891437, 0.06338567, 0.047266297, 0.06911491, -0.04308733, -0.06906836, 0.041258544, 0.05996234, 0.025736887, 0.043475475, 0.06707641, 0.00675369, 0.06356236, -0.0070081316, -0.0060077934, -0.0097843995, -0.020443702, 0.031503044, 0.041368525, 0.00764895, 0.11878788, 0.009434023, -0.029692274, 0.038506623, 0.019410778, -0.01753056, 0.040931806, -0.026492288, -0.021621114, 0.04382969, 0.04632161, 0.01935041, 0.008746892, 0.05734075, -0.023067463, 0.027722761, -0.057472605, 0.020668399, -0.0059506022, 0.020418776, -0.0071827816, -0.0066136983, 0.014517866, -0.09254144, 0.020578811, -0.013109018, -0.05352772, 0.049335234, -0.0050126472, 0.0283897, -0.06563248, 0.03248322, -0.10825244, -0.009300364, 0.063731164, 0.013001582, -0.022509003, -0.05109977, 0.067482315, -0.02370801, 0.033548295, 0.09992932, -0.012661704, 0.009143891, -0.012361474, 0.020902818, 0.12916563, 0.023944193, -0.028245622, 0.044522345, -0.0024446044, -0.086809374, -0.03508309, 0.018556938, -0.023022959, -0.0074271443, -0.026331225, -0.0031667447, -0.0060669915, 0.029802723, 0.0099198725, 0.040425655, 0.0074370415, 0.014704003, 0.031580944, -0.0022216872, 0.046456862, 0.07579151, 0.060278427, 0.11600947, 0.014113577, -0.013767286, -0.070125766, 0.010668781, 0.032911055, -0.04963847, -0.0058179665, 0.01365057, 0.00030076364, -0.15528809, -0.08458625, -0.06707137, -0.035345078, -0.07431457, -0.10696547, -0.05178419, 0.010719365, -0.09367251, -0.0008128753, -0.043785825, -0.10357163, 0.00927629, -0.06555931, 0.044755083, 0.031771, -0.06722668, -0.027703287, -0.02084321, 0.0043890253, -0.05145654, 0.0065243854, 0.00903317, 0.0019943402, -0.02220387, 3.8957213e-33, 0.023897363, -0.043653075, -0.009745409, -0.016826391, -0.067543425, -0.066080965, -0.10566843, 0.0051742024, 0.029221505, 0.015059907, 0.046456274, -0.13979214, 0.06376841, -0.024939349, 0.032503374, -0.0238409, 0.0017275717, 0.077955045, -0.012472536, 0.014850107, 0.032057438, -0.0008971932, 0.009473421, 0.02211156, -0.0046772156, 0.04174298, 0.0054307035, 0.028618764, -0.0030519716, 0.040644083, 0.0027099545, 0.037834693, -0.018913468, 0.0068414025, 0.04175351, 0.019178448, -0.014403063, 0.023028268, -0.04247788, 0.006645575, -0.031718504, -0.008972132, -0.05459697, -0.046764426, 0.11887791, 0.017572397, -0.09298514, -0.058358643, -0.026674578, -0.002629051, 0.013960228, 0.016320601, -0.035217576, 0.055193245, 0.054444388, 0.008633432, -0.013990408, 0.016240187, 0.11546296, 0.0010409085, 0.049543552, 0.02079382, -0.1400359, -0.09221575, 0.046311695, -0.03294867, -0.02320579, 0.018052934, -0.020286126, -0.059121206, 0.06454187, 0.009019869, 0.025142249, -0.059099507, -0.092521265, -0.017453637, 0.008994045, -0.009911668, 0.04939009, 0.045918066, -0.014490212, 0.019561565, 0.09196926, -0.055853844, 0.04664816, 0.019026833, 0.029937107, -0.019189324, -0.10007929, 0.024521157, -0.0821192, -0.039550245, 0.039478827, 0.013110909, -0.03158165, -6.3791705e-33, -0.013571127, 0.0070092254, -0.046382494, -0.017546145, -0.036186464, -0.032119125, -0.04779181, -0.019585619, 0.06278505, 0.020107081, 0.017321868, -0.078250796, 0.00823585, 0.11159671, 0.03933512, -0.011710107, 0.04126897, 0.060587235, -0.1077123, 0.004108318, 0.010266773, 0.012934477, -0.066591896, -0.013368392, -0.006922311, 0.012542987, 0.08783422, -0.040040273, 0.08187164, -0.07714405, 0.021655811, 0.025434855, -0.07932779, 0.10350004, -0.016450932, 0.040202927, 0.025338823, 0.020795176, -0.031174535, 0.06847568, -0.0048588794, 0.05589766, -0.0784729, -0.061790336, -0.01704313, -0.0861573, -0.012164078, 0.013184671, 0.036881242, -0.040751945, -0.0020896567, 0.026107071, -0.02424746, 0.05386579, 0.042835694, -0.052680932, -0.023409134, -0.073485956, 0.07911738, -0.13358003, -0.03427896, 0.027525742, -0.05136263, 0.10008358, 0.010993751, 0.029375315, -0.027564142, -0.019269364, 0.082797885, -0.07321878, 0.0177079, -0.0071045924, -0.12226732, 0.011970288, -0.023354117, -0.0511734, -0.09548726, 0.07634666, -0.04241882, 0.09251151, 0.03943348, -0.053282127, -0.06614134, 0.08271548, 0.06385654, -0.054701887, 0.01704977, -0.0076683173, 0.04964839, 0.035673503, -0.060546875, -0.057980184, 0.0036886695, 0.037293553, -0.0010961747, -4.0178655e-08, -0.024366725, -0.041790202, -0.03255719, -0.024094004, 0.054590188, 0.01095429, 0.012057009, -0.04782005, -0.034015186, 0.07608105, 0.12225668, 0.060140792, -0.10061257, 0.015305381, -0.051756717, -0.0343912, 0.0056595206, -0.08203127, 0.02362462, -0.076332286, -0.032489423, -0.033465393, -0.04588254, 0.0004106982, -0.021550817, 0.012703229, -0.03644333, -0.00539085, -0.08826867, 0.04852168, -0.043012455, 0.034964215, -0.11992389, -0.03481495, 0.04711563, 0.099825114, 0.053410187, 0.07281021, 0.079217866, 0.040634662, -0.10387503, -0.046283495, 0.04035482, 0.06406217, 0.12514244, -0.005523456, -0.073010825, -0.027689606, -0.04606596, -0.06421142, 0.010861544, -0.029527683, -0.016696833, 0.036329046, 0.014053404, 0.011447184, 0.017161638, -0.06001196, -0.06395253, -0.017963685, 0.10048161, -0.032782637, 0.0787926, -0.0010671426]\"\n        ],\n        \"semantic_type\": \"\",\n        \"description\": \"\"\n      }\n    }\n  ]\n}"
            }
          },
          "metadata": {},
          "execution_count": 31
        }
      ]
    },
    {
      "cell_type": "code",
      "source": [
        "df.shape"
      ],
      "metadata": {
        "colab": {
          "base_uri": "https://localhost:8080/"
        },
        "id": "nvzq27FSHTq8",
        "outputId": "f95ec4e3-c6d2-4f17-ed5f-5a72a4824758"
      },
      "execution_count": 32,
      "outputs": [
        {
          "output_type": "execute_result",
          "data": {
            "text/plain": [
              "(46242, 9)"
            ]
          },
          "metadata": {},
          "execution_count": 32
        }
      ]
    },
    {
      "cell_type": "code",
      "source": [
        "import pandas as pd\n",
        "\n",
        "def get_df_info(df):\n",
        "    \"\"\"\n",
        "    Prints detailed information about a pandas DataFrame.\n",
        "\n",
        "    :param df: The DataFrame to analyze.\n",
        "    \"\"\"\n",
        "    # Display the first few rows of the DataFrame\n",
        "    print(\"First few rows of the DataFrame:\")\n",
        "    print(df.head(), \"\\n\")\n",
        "\n",
        "    # Display the DataFrame's shape (number of rows and columns)\n",
        "    print(\"Shape of the DataFrame:\")\n",
        "    print(df.shape, \"\\n\")\n",
        "\n",
        "    # Display the DataFrame's column names and their data types\n",
        "    print(\"Column names and data types:\")\n",
        "    print(df.dtypes, \"\\n\")\n",
        "\n",
        "    # Display basic statistics for numerical columns\n",
        "    print(\"Basic statistics for numerical columns:\")\n",
        "    print(df.describe(), \"\\n\")\n",
        "\n",
        "    # Display basic statistics for categorical columns\n",
        "    print(\"Basic statistics for categorical columns:\")\n",
        "    print(df.describe(include=['object', 'category']), \"\\n\")\n",
        "\n",
        "    # Display the number of missing values in each column\n",
        "    print(\"Number of missing values in each column:\")\n",
        "    print(df.isnull().sum(), \"\\n\")"
      ],
      "metadata": {
        "id": "0kLfUgBWHps7"
      },
      "execution_count": 34,
      "outputs": []
    },
    {
      "cell_type": "code",
      "source": [
        "get_df_info(df)"
      ],
      "metadata": {
        "colab": {
          "base_uri": "https://localhost:8080/"
        },
        "id": "_7DN0FMDH0_s",
        "outputId": "9fb6bdbb-3cca-4354-ab52-3e818c0a4fba"
      },
      "execution_count": 35,
      "outputs": [
        {
          "output_type": "stream",
          "name": "stdout",
          "text": [
            "First few rows of the DataFrame:\n",
            "     id                                           sentence  pro-israel  \\\n",
            "0  aj_1  pope renews call for gaza ceasefire  release o...           0   \n",
            "1  aj_1  Pope Francis says his thoughts go to those fac...           0   \n",
            "2  aj_1  pope francis has renewed calls for an immediat...           0   \n",
            "3  aj_2  biden is still the best us president israel co...           1   \n",
            "4  aj_2  united states president ronald reagans order t...           0   \n",
            "\n",
            "   pro-palestine  neutral  anti-israel  anti-palestine  \\\n",
            "0              0        1            0               0   \n",
            "1              0        1            0               0   \n",
            "2              1        0            0               0   \n",
            "3              0        0            0               0   \n",
            "4              0        0            1               0   \n",
            "\n",
            "                                      bert_embedding  \\\n",
            "0  [-5.398319, -3.4624884, 1.2158442, -6.873296, ...   \n",
            "1  [-3.1675782, 4.4570203, 5.6814823, -2.0597496,...   \n",
            "2  [-15.144646, -0.41924834, 6.110239, -18.322815...   \n",
            "3  [2.12351, -1.1968501, -5.893949, 0.84273064, 0...   \n",
            "4  [-7.5038824, 10.2584505, -15.679925, -11.71334...   \n",
            "\n",
            "                                     sbert_embedding  \n",
            "0  [0.0042264466, 0.09409609, 0.02210562, 0.00452...  \n",
            "1  [0.02103883, 0.060152613, 0.045743383, 0.06227...  \n",
            "2  [0.045155767, 0.08643171, 0.058290135, -0.0015...  \n",
            "3  [0.0011824196, 0.066507965, 0.08534787, -0.064...  \n",
            "4  [0.07076625, 0.1025179, -0.022078907, -0.04288...   \n",
            "\n",
            "Shape of the DataFrame:\n",
            "(46242, 9) \n",
            "\n",
            "Column names and data types:\n",
            "id                 object\n",
            "sentence           object\n",
            "pro-israel          int64\n",
            "pro-palestine       int64\n",
            "neutral             int64\n",
            "anti-israel         int64\n",
            "anti-palestine      int64\n",
            "bert_embedding     object\n",
            "sbert_embedding    object\n",
            "dtype: object \n",
            "\n",
            "Basic statistics for numerical columns:\n",
            "         pro-israel  pro-palestine       neutral   anti-israel  anti-palestine\n",
            "count  46242.000000   46242.000000  46242.000000  46242.000000    46242.000000\n",
            "mean       0.123092       0.109295      0.686108      0.137083        0.101207\n",
            "std        0.328546       0.312012      0.464078      0.343939        0.301605\n",
            "min        0.000000       0.000000      0.000000      0.000000        0.000000\n",
            "25%        0.000000       0.000000      0.000000      0.000000        0.000000\n",
            "50%        0.000000       0.000000      1.000000      0.000000        0.000000\n",
            "75%        0.000000       0.000000      1.000000      0.000000        0.000000\n",
            "max        1.000000       1.000000      1.000000      1.000000        1.000000 \n",
            "\n",
            "Basic statistics for categorical columns:\n",
            "             id                                           sentence  \\\n",
            "count     46242                                              44737   \n",
            "unique     2346                                              36463   \n",
            "top     nyt_537  thank you for your patience while we verify ac...   \n",
            "freq        412                                                316   \n",
            "\n",
            "                                           bert_embedding  \\\n",
            "count                                               46242   \n",
            "unique                                              36317   \n",
            "top     [0.44203877, -0.36141706, -0.43050033, -0.1508...   \n",
            "freq                                                 1505   \n",
            "\n",
            "                                          sbert_embedding  \n",
            "count                                               46242  \n",
            "unique                                              36317  \n",
            "top     [-0.06429783, -0.02824021, 0.045258418, -0.035...  \n",
            "freq                                                 1505   \n",
            "\n",
            "Number of missing values in each column:\n",
            "id                    0\n",
            "sentence           1505\n",
            "pro-israel            0\n",
            "pro-palestine         0\n",
            "neutral               0\n",
            "anti-israel           0\n",
            "anti-palestine        0\n",
            "bert_embedding        0\n",
            "sbert_embedding       0\n",
            "dtype: int64 \n",
            "\n"
          ]
        }
      ]
    },
    {
      "cell_type": "code",
      "source": [
        "df = df.dropna(subset=['sentence'])\n",
        "\n",
        "df.shape"
      ],
      "metadata": {
        "colab": {
          "base_uri": "https://localhost:8080/"
        },
        "id": "VPFh-N06IRmd",
        "outputId": "e9578ce7-9fa0-4155-d807-47baad439b16"
      },
      "execution_count": 36,
      "outputs": [
        {
          "output_type": "execute_result",
          "data": {
            "text/plain": [
              "(44737, 9)"
            ]
          },
          "metadata": {},
          "execution_count": 36
        }
      ]
    },
    {
      "cell_type": "code",
      "source": [
        "def filter_single_class(df, class_name, class_columns):\n",
        "    \"\"\"\n",
        "    Filters the DataFrame to get rows where the specified class is 1 and the rest are 0s.\n",
        "\n",
        "    :param df: The DataFrame to filter.\n",
        "    :param class_name: The name of the class to filter on.\n",
        "    :param class_columns: List of all class column names.\n",
        "    :return: A filtered DataFrame.\n",
        "    \"\"\"\n",
        "    # Create the condition list with 1 for the specified class and 0 for the others\n",
        "    condition = [1 if col == class_name else 0 for col in class_columns]\n",
        "\n",
        "    # Filter the DataFrame based on the condition\n",
        "    filtered_df = df[(df[class_columns] == condition).all(axis=1)]\n",
        "\n",
        "    return filtered_df\n",
        "\n",
        "# Define the columns representing the classes\n",
        "class_columns = ['pro-israel', 'pro-palestine', 'neutral', 'anti-israel', 'anti-palestine']"
      ],
      "metadata": {
        "id": "z-rfieAnIUPx"
      },
      "execution_count": 38,
      "outputs": []
    },
    {
      "cell_type": "code",
      "source": [
        "# Get the subset DataFrame for 'pro-israel'\n",
        "pro_israel_df = filter_single_class(df, 'pro-israel', class_columns)\n",
        "\n",
        "pro_israel_df.shape"
      ],
      "metadata": {
        "colab": {
          "base_uri": "https://localhost:8080/"
        },
        "id": "zRbqXSiXJF-j",
        "outputId": "e12e7f27-0d60-4b62-e191-6875abb9772e"
      },
      "execution_count": 39,
      "outputs": [
        {
          "output_type": "execute_result",
          "data": {
            "text/plain": [
              "(2523, 9)"
            ]
          },
          "metadata": {},
          "execution_count": 39
        }
      ]
    },
    {
      "cell_type": "code",
      "source": [
        "pro_palestine_df = filter_single_class(df, 'pro-palestine', class_columns)\n",
        "\n",
        "pro_palestine_df.shape"
      ],
      "metadata": {
        "colab": {
          "base_uri": "https://localhost:8080/"
        },
        "id": "FEG2HVDYJKxc",
        "outputId": "78f094a5-f3ac-49a2-87fe-7d0efe3681c0"
      },
      "execution_count": 40,
      "outputs": [
        {
          "output_type": "execute_result",
          "data": {
            "text/plain": [
              "(3380, 9)"
            ]
          },
          "metadata": {},
          "execution_count": 40
        }
      ]
    },
    {
      "cell_type": "code",
      "source": [
        "neutral_df = filter_single_class(df, 'neutral', class_columns)\n",
        "\n",
        "neutral_df.shape"
      ],
      "metadata": {
        "colab": {
          "base_uri": "https://localhost:8080/"
        },
        "id": "e6C0HBw6JN15",
        "outputId": "1caef9b8-4732-47e4-8b87-1c003853464e"
      },
      "execution_count": 41,
      "outputs": [
        {
          "output_type": "execute_result",
          "data": {
            "text/plain": [
              "(30222, 9)"
            ]
          },
          "metadata": {},
          "execution_count": 41
        }
      ]
    },
    {
      "cell_type": "code",
      "source": [
        "anti_israel = filter_single_class(df, 'anti-israel', class_columns)\n",
        "\n",
        "anti_israel.shape"
      ],
      "metadata": {
        "colab": {
          "base_uri": "https://localhost:8080/"
        },
        "id": "CzSkaUv3JP5n",
        "outputId": "fb52670f-95fa-4bee-fac0-b5ba5562e73a"
      },
      "execution_count": 42,
      "outputs": [
        {
          "output_type": "execute_result",
          "data": {
            "text/plain": [
              "(1495, 9)"
            ]
          },
          "metadata": {},
          "execution_count": 42
        }
      ]
    },
    {
      "cell_type": "code",
      "source": [
        "anti_palestine_df = filter_single_class(df, 'anti-palestine', class_columns)\n",
        "\n",
        "anti_palestine_df.shape"
      ],
      "metadata": {
        "colab": {
          "base_uri": "https://localhost:8080/"
        },
        "id": "X7MKj7UeJSVI",
        "outputId": "c7e68dd3-b077-4598-c52f-18ff00ee1fbf"
      },
      "execution_count": 43,
      "outputs": [
        {
          "output_type": "execute_result",
          "data": {
            "text/plain": [
              "(1255, 9)"
            ]
          },
          "metadata": {},
          "execution_count": 43
        }
      ]
    },
    {
      "cell_type": "code",
      "source": [
        "num_samples = 1255"
      ],
      "metadata": {
        "id": "rf1xET8EJUG6"
      },
      "execution_count": 45,
      "outputs": []
    },
    {
      "cell_type": "code",
      "source": [
        "pro_israel_sample = pro_israel_df.sample(n=num_samples, random_state=42)\n",
        "pro_palestine_sample = pro_palestine_df.sample(n=num_samples, random_state=42)\n",
        "neutral_sample = neutral_df.sample(n=num_samples, random_state=42)\n",
        "anti_israel_sample = anti_israel.sample(n=num_samples, random_state=42)\n",
        "anti_palestine_sample = anti_palestine_df.sample(n=num_samples, random_state=42)"
      ],
      "metadata": {
        "id": "7iE7mXbIJm5x"
      },
      "execution_count": 46,
      "outputs": []
    },
    {
      "cell_type": "code",
      "source": [
        "# check the lenght of each class sample\n",
        "\n",
        "pro_israel_sample.shape, pro_palestine_sample.shape, neutral_sample.shape, anti_israel_sample.shape, anti_palestine_sample.shape"
      ],
      "metadata": {
        "colab": {
          "base_uri": "https://localhost:8080/"
        },
        "id": "sFBW8yakJvCi",
        "outputId": "526ab9f1-fab1-4d80-c605-d4ccd9c82a42"
      },
      "execution_count": 47,
      "outputs": [
        {
          "output_type": "execute_result",
          "data": {
            "text/plain": [
              "((1255, 9), (1255, 9), (1255, 9), (1255, 9), (1255, 9))"
            ]
          },
          "metadata": {},
          "execution_count": 47
        }
      ]
    },
    {
      "cell_type": "code",
      "source": [
        "# save each of them into a file with the correct name pro_israel_sample.csv etc..\n",
        "\n",
        "pro_israel_sample.to_csv('pro_israel_sample.csv', index=False)\n",
        "pro_palestine_sample.to_csv('pro_palestine_sample.csv', index=False)\n",
        "neutral_sample.to_csv('neutral_sample.csv', index=False)\n",
        "anti_israel_sample.to_csv('anti_israel_sample.csv', index=False)\n",
        "anti_palestine_sample.to_csv('anti_palestine_sample.csv', index=False)"
      ],
      "metadata": {
        "id": "lgUXvUWRJ2N3"
      },
      "execution_count": 48,
      "outputs": []
    },
    {
      "cell_type": "code",
      "source": [
        "# take a random sample of the whole df\n",
        "num_samples = 10000\n",
        "\n",
        "df_sample = df.sample(n=num_samples, random_state=42)\n",
        "\n",
        "df_sample.to_csv('df_sample.csv', index=False)"
      ],
      "metadata": {
        "id": "ONBCAmaxKcV-"
      },
      "execution_count": 49,
      "outputs": []
    }
  ],
  "metadata": {
    "language_info": {
      "name": "python"
    },
    "colab": {
      "provenance": []
    },
    "kernelspec": {
      "name": "python3",
      "display_name": "Python 3"
    }
  },
  "nbformat": 4,
  "nbformat_minor": 0
}