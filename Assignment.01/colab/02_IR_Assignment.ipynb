{
  "nbformat": 4,
  "nbformat_minor": 0,
  "metadata": {
    "colab": {
      "provenance": [],
      "authorship_tag": "ABX9TyOXQKkIs8aWQtSd5XkvhYhy",
      "include_colab_link": true
    },
    "kernelspec": {
      "name": "python3",
      "display_name": "Python 3"
    },
    "language_info": {
      "name": "python"
    }
  },
  "cells": [
    {
      "cell_type": "markdown",
      "metadata": {
        "id": "view-in-github",
        "colab_type": "text"
      },
      "source": [
        "<a href=\"https://colab.research.google.com/github/dattali18/IR_Assignments/blob/main/Assignment.01/colab/02_IR_Assignment.ipynb\" target=\"_parent\"><img src=\"https://colab.research.google.com/assets/colab-badge.svg\" alt=\"Open In Colab\"/></a>"
      ]
    },
    {
      "cell_type": "markdown",
      "source": [
        "# IR - Assignment 1\n",
        "\n",
        "## Part 2 - DF IDF\n",
        "\n",
        "In this part we will use the TF-IDF with BM25 and Okapi Algorithm"
      ],
      "metadata": {
        "id": "oDRNZWXdHjSi"
      }
    },
    {
      "cell_type": "code",
      "execution_count": 1,
      "metadata": {
        "id": "WkhCg2XTG5Rr"
      },
      "outputs": [],
      "source": [
        "# get the cleaned data from the source\n",
        "\n",
        "aj_word_link = \"https://github.com/dattali18/IR_Assignments/blob/main/Assignment.01/data/word/A_J_word.csv\"\n",
        "bbc_wrod_link = \"https://github.com/dattali18/IR_Assignments/blob/main/Assignment.01/data/word/BBC_word.csv\"\n",
        "jp_word_link = \"https://github.com/dattali18/IR_Assignments/blob/main/Assignment.01/data/word/J_P_word.csv\"\n",
        "nyt_word_link = \"https://github.com/dattali18/IR_Assignments/blob/main/Assignment.01/data/word/NYT_word.csv\""
      ]
    },
    {
      "cell_type": "code",
      "source": [
        "# download the data using http\n"
      ],
      "metadata": {
        "id": "1LJGl6vwISmy"
      },
      "execution_count": null,
      "outputs": []
    }
  ]
}