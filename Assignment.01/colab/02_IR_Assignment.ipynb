{
  "nbformat": 4,
  "nbformat_minor": 0,
  "metadata": {
    "colab": {
      "provenance": [],
      "authorship_tag": "ABX9TyM/08uKgEIMtKzso/e+xnFf",
      "include_colab_link": true
    },
    "kernelspec": {
      "name": "python3",
      "display_name": "Python 3"
    },
    "language_info": {
      "name": "python"
    }
  },
  "cells": [
    {
      "cell_type": "markdown",
      "metadata": {
        "id": "view-in-github",
        "colab_type": "text"
      },
      "source": [
        "<a href=\"https://colab.research.google.com/github/dattali18/IR_Assignments/blob/main/Assignment.01/colab/02_IR_Assignment.ipynb\" target=\"_parent\"><img src=\"https://colab.research.google.com/assets/colab-badge.svg\" alt=\"Open In Colab\"/></a>"
      ]
    },
    {
      "cell_type": "markdown",
      "source": [
        "# IR - Assignment 1\n",
        "\n",
        "## Part 2 - DF IDF\n",
        "\n",
        "In this part we will use the TF-IDF with BM25 and Okapi Algorithm"
      ],
      "metadata": {
        "id": "U5FfhJ-lItbN"
      }
    },
    {
      "cell_type": "code",
      "execution_count": 3,
      "metadata": {
        "id": "WkhCg2XTG5Rr"
      },
      "outputs": [],
      "source": [
        "# get the cleaned data from the source\n",
        "\n",
        "aj_word_link = \"https://github.com/dattali18/IR_Assignments/blob/main/Assignment.01/data/word/A_J_word.csv?raw=true\"\n",
        "bbc_wrod_link = \"https://github.com/dattali18/IR_Assignments/blob/main/Assignment.01/data/word/BBC_word.csv?raw=true\"\n",
        "jp_word_link = \"https://github.com/dattali18/IR_Assignments/blob/main/Assignment.01/data/word/J_P_word.csv?raw=true\"\n",
        "nyt_word_link = \"https://github.com/dattali18/IR_Assignments/blob/main/Assignment.01/data/word/NYT_word.csv?raw=true\""
      ]
    },
    {
      "cell_type": "code",
      "source": [
        "aj_word_file = \"A_J_word.csv\"\n",
        "bbc_word_file = \"BBC_word.csv\"\n",
        "jp_word_file = \"J_P_word.csv\"\n",
        "nyt_word_file = \"NYT_word.csv\""
      ],
      "metadata": {
        "id": "Dvdpy331JFlc"
      },
      "execution_count": 2,
      "outputs": []
    },
    {
      "cell_type": "code",
      "source": [
        "# download the data using requests\n",
        "import requests\n",
        "import pandas as pd\n",
        "import os\n",
        "\n",
        "response = requests.get(aj_word_link)\n",
        "if response.status_code == 200: # if the response is 200 OK\n",
        "  with open(aj_word_file, \"wb\") as file:\n",
        "    file.write(response.content)\n",
        "  print(f\"Sucessfully downloaded the file into {aj_word_file}\")"
      ],
      "metadata": {
        "colab": {
          "base_uri": "https://localhost:8080/"
        },
        "id": "BUj3qUpsIxsj",
        "outputId": "c5ded777-2cdc-4bea-cb58-28e4185d224a"
      },
      "execution_count": 6,
      "outputs": [
        {
          "output_type": "stream",
          "name": "stdout",
          "text": [
            "Sucessfully downloaded the file into A_J_word.csv\n"
          ]
        }
      ]
    },
    {
      "cell_type": "code",
      "source": [
        "# open the file using pandas\n",
        "\n",
        "df_aj = pd.read_csv(aj_word_file)\n",
        "df_aj.head()"
      ],
      "metadata": {
        "colab": {
          "base_uri": "https://localhost:8080/",
          "height": 204
        },
        "id": "pS4Ab2GHJn-D",
        "outputId": "9c4bb288-2c63-4021-d739-f2e2eca75d7f"
      },
      "execution_count": 7,
      "outputs": [
        {
          "output_type": "execute_result",
          "data": {
            "text/plain": [
              "                                                text  \\\n",
              "0  pope francis has renewed calls for an immediat...   \n",
              "1  united states president ronald reagan's order ...   \n",
              "2  the israeli military has launched more air str...   \n",
              "3  french police officers entered the paris insti...   \n",
              "4                                                NaN   \n",
              "\n",
              "                                               title  \n",
              "0  pope renews call for gaza ceasefire, release o...  \n",
              "1  biden is still the best us president israel co...  \n",
              "2  israeli air strikes continue across gaza as tr...  \n",
              "3  police remove pro-palestinian students from pa...  \n",
              "4  mass graves found at southern gaza hospital ra...  "
            ],
            "text/html": [
              "\n",
              "  <div id=\"df-414be687-7465-42dc-8c88-4f61b0a95860\" class=\"colab-df-container\">\n",
              "    <div>\n",
              "<style scoped>\n",
              "    .dataframe tbody tr th:only-of-type {\n",
              "        vertical-align: middle;\n",
              "    }\n",
              "\n",
              "    .dataframe tbody tr th {\n",
              "        vertical-align: top;\n",
              "    }\n",
              "\n",
              "    .dataframe thead th {\n",
              "        text-align: right;\n",
              "    }\n",
              "</style>\n",
              "<table border=\"1\" class=\"dataframe\">\n",
              "  <thead>\n",
              "    <tr style=\"text-align: right;\">\n",
              "      <th></th>\n",
              "      <th>text</th>\n",
              "      <th>title</th>\n",
              "    </tr>\n",
              "  </thead>\n",
              "  <tbody>\n",
              "    <tr>\n",
              "      <th>0</th>\n",
              "      <td>pope francis has renewed calls for an immediat...</td>\n",
              "      <td>pope renews call for gaza ceasefire, release o...</td>\n",
              "    </tr>\n",
              "    <tr>\n",
              "      <th>1</th>\n",
              "      <td>united states president ronald reagan's order ...</td>\n",
              "      <td>biden is still the best us president israel co...</td>\n",
              "    </tr>\n",
              "    <tr>\n",
              "      <th>2</th>\n",
              "      <td>the israeli military has launched more air str...</td>\n",
              "      <td>israeli air strikes continue across gaza as tr...</td>\n",
              "    </tr>\n",
              "    <tr>\n",
              "      <th>3</th>\n",
              "      <td>french police officers entered the paris insti...</td>\n",
              "      <td>police remove pro-palestinian students from pa...</td>\n",
              "    </tr>\n",
              "    <tr>\n",
              "      <th>4</th>\n",
              "      <td>NaN</td>\n",
              "      <td>mass graves found at southern gaza hospital ra...</td>\n",
              "    </tr>\n",
              "  </tbody>\n",
              "</table>\n",
              "</div>\n",
              "    <div class=\"colab-df-buttons\">\n",
              "\n",
              "  <div class=\"colab-df-container\">\n",
              "    <button class=\"colab-df-convert\" onclick=\"convertToInteractive('df-414be687-7465-42dc-8c88-4f61b0a95860')\"\n",
              "            title=\"Convert this dataframe to an interactive table.\"\n",
              "            style=\"display:none;\">\n",
              "\n",
              "  <svg xmlns=\"http://www.w3.org/2000/svg\" height=\"24px\" viewBox=\"0 -960 960 960\">\n",
              "    <path d=\"M120-120v-720h720v720H120Zm60-500h600v-160H180v160Zm220 220h160v-160H400v160Zm0 220h160v-160H400v160ZM180-400h160v-160H180v160Zm440 0h160v-160H620v160ZM180-180h160v-160H180v160Zm440 0h160v-160H620v160Z\"/>\n",
              "  </svg>\n",
              "    </button>\n",
              "\n",
              "  <style>\n",
              "    .colab-df-container {\n",
              "      display:flex;\n",
              "      gap: 12px;\n",
              "    }\n",
              "\n",
              "    .colab-df-convert {\n",
              "      background-color: #E8F0FE;\n",
              "      border: none;\n",
              "      border-radius: 50%;\n",
              "      cursor: pointer;\n",
              "      display: none;\n",
              "      fill: #1967D2;\n",
              "      height: 32px;\n",
              "      padding: 0 0 0 0;\n",
              "      width: 32px;\n",
              "    }\n",
              "\n",
              "    .colab-df-convert:hover {\n",
              "      background-color: #E2EBFA;\n",
              "      box-shadow: 0px 1px 2px rgba(60, 64, 67, 0.3), 0px 1px 3px 1px rgba(60, 64, 67, 0.15);\n",
              "      fill: #174EA6;\n",
              "    }\n",
              "\n",
              "    .colab-df-buttons div {\n",
              "      margin-bottom: 4px;\n",
              "    }\n",
              "\n",
              "    [theme=dark] .colab-df-convert {\n",
              "      background-color: #3B4455;\n",
              "      fill: #D2E3FC;\n",
              "    }\n",
              "\n",
              "    [theme=dark] .colab-df-convert:hover {\n",
              "      background-color: #434B5C;\n",
              "      box-shadow: 0px 1px 3px 1px rgba(0, 0, 0, 0.15);\n",
              "      filter: drop-shadow(0px 1px 2px rgba(0, 0, 0, 0.3));\n",
              "      fill: #FFFFFF;\n",
              "    }\n",
              "  </style>\n",
              "\n",
              "    <script>\n",
              "      const buttonEl =\n",
              "        document.querySelector('#df-414be687-7465-42dc-8c88-4f61b0a95860 button.colab-df-convert');\n",
              "      buttonEl.style.display =\n",
              "        google.colab.kernel.accessAllowed ? 'block' : 'none';\n",
              "\n",
              "      async function convertToInteractive(key) {\n",
              "        const element = document.querySelector('#df-414be687-7465-42dc-8c88-4f61b0a95860');\n",
              "        const dataTable =\n",
              "          await google.colab.kernel.invokeFunction('convertToInteractive',\n",
              "                                                    [key], {});\n",
              "        if (!dataTable) return;\n",
              "\n",
              "        const docLinkHtml = 'Like what you see? Visit the ' +\n",
              "          '<a target=\"_blank\" href=https://colab.research.google.com/notebooks/data_table.ipynb>data table notebook</a>'\n",
              "          + ' to learn more about interactive tables.';\n",
              "        element.innerHTML = '';\n",
              "        dataTable['output_type'] = 'display_data';\n",
              "        await google.colab.output.renderOutput(dataTable, element);\n",
              "        const docLink = document.createElement('div');\n",
              "        docLink.innerHTML = docLinkHtml;\n",
              "        element.appendChild(docLink);\n",
              "      }\n",
              "    </script>\n",
              "  </div>\n",
              "\n",
              "\n",
              "<div id=\"df-fff96458-c753-4e26-a00d-e88452c889b2\">\n",
              "  <button class=\"colab-df-quickchart\" onclick=\"quickchart('df-fff96458-c753-4e26-a00d-e88452c889b2')\"\n",
              "            title=\"Suggest charts\"\n",
              "            style=\"display:none;\">\n",
              "\n",
              "<svg xmlns=\"http://www.w3.org/2000/svg\" height=\"24px\"viewBox=\"0 0 24 24\"\n",
              "     width=\"24px\">\n",
              "    <g>\n",
              "        <path d=\"M19 3H5c-1.1 0-2 .9-2 2v14c0 1.1.9 2 2 2h14c1.1 0 2-.9 2-2V5c0-1.1-.9-2-2-2zM9 17H7v-7h2v7zm4 0h-2V7h2v10zm4 0h-2v-4h2v4z\"/>\n",
              "    </g>\n",
              "</svg>\n",
              "  </button>\n",
              "\n",
              "<style>\n",
              "  .colab-df-quickchart {\n",
              "      --bg-color: #E8F0FE;\n",
              "      --fill-color: #1967D2;\n",
              "      --hover-bg-color: #E2EBFA;\n",
              "      --hover-fill-color: #174EA6;\n",
              "      --disabled-fill-color: #AAA;\n",
              "      --disabled-bg-color: #DDD;\n",
              "  }\n",
              "\n",
              "  [theme=dark] .colab-df-quickchart {\n",
              "      --bg-color: #3B4455;\n",
              "      --fill-color: #D2E3FC;\n",
              "      --hover-bg-color: #434B5C;\n",
              "      --hover-fill-color: #FFFFFF;\n",
              "      --disabled-bg-color: #3B4455;\n",
              "      --disabled-fill-color: #666;\n",
              "  }\n",
              "\n",
              "  .colab-df-quickchart {\n",
              "    background-color: var(--bg-color);\n",
              "    border: none;\n",
              "    border-radius: 50%;\n",
              "    cursor: pointer;\n",
              "    display: none;\n",
              "    fill: var(--fill-color);\n",
              "    height: 32px;\n",
              "    padding: 0;\n",
              "    width: 32px;\n",
              "  }\n",
              "\n",
              "  .colab-df-quickchart:hover {\n",
              "    background-color: var(--hover-bg-color);\n",
              "    box-shadow: 0 1px 2px rgba(60, 64, 67, 0.3), 0 1px 3px 1px rgba(60, 64, 67, 0.15);\n",
              "    fill: var(--button-hover-fill-color);\n",
              "  }\n",
              "\n",
              "  .colab-df-quickchart-complete:disabled,\n",
              "  .colab-df-quickchart-complete:disabled:hover {\n",
              "    background-color: var(--disabled-bg-color);\n",
              "    fill: var(--disabled-fill-color);\n",
              "    box-shadow: none;\n",
              "  }\n",
              "\n",
              "  .colab-df-spinner {\n",
              "    border: 2px solid var(--fill-color);\n",
              "    border-color: transparent;\n",
              "    border-bottom-color: var(--fill-color);\n",
              "    animation:\n",
              "      spin 1s steps(1) infinite;\n",
              "  }\n",
              "\n",
              "  @keyframes spin {\n",
              "    0% {\n",
              "      border-color: transparent;\n",
              "      border-bottom-color: var(--fill-color);\n",
              "      border-left-color: var(--fill-color);\n",
              "    }\n",
              "    20% {\n",
              "      border-color: transparent;\n",
              "      border-left-color: var(--fill-color);\n",
              "      border-top-color: var(--fill-color);\n",
              "    }\n",
              "    30% {\n",
              "      border-color: transparent;\n",
              "      border-left-color: var(--fill-color);\n",
              "      border-top-color: var(--fill-color);\n",
              "      border-right-color: var(--fill-color);\n",
              "    }\n",
              "    40% {\n",
              "      border-color: transparent;\n",
              "      border-right-color: var(--fill-color);\n",
              "      border-top-color: var(--fill-color);\n",
              "    }\n",
              "    60% {\n",
              "      border-color: transparent;\n",
              "      border-right-color: var(--fill-color);\n",
              "    }\n",
              "    80% {\n",
              "      border-color: transparent;\n",
              "      border-right-color: var(--fill-color);\n",
              "      border-bottom-color: var(--fill-color);\n",
              "    }\n",
              "    90% {\n",
              "      border-color: transparent;\n",
              "      border-bottom-color: var(--fill-color);\n",
              "    }\n",
              "  }\n",
              "</style>\n",
              "\n",
              "  <script>\n",
              "    async function quickchart(key) {\n",
              "      const quickchartButtonEl =\n",
              "        document.querySelector('#' + key + ' button');\n",
              "      quickchartButtonEl.disabled = true;  // To prevent multiple clicks.\n",
              "      quickchartButtonEl.classList.add('colab-df-spinner');\n",
              "      try {\n",
              "        const charts = await google.colab.kernel.invokeFunction(\n",
              "            'suggestCharts', [key], {});\n",
              "      } catch (error) {\n",
              "        console.error('Error during call to suggestCharts:', error);\n",
              "      }\n",
              "      quickchartButtonEl.classList.remove('colab-df-spinner');\n",
              "      quickchartButtonEl.classList.add('colab-df-quickchart-complete');\n",
              "    }\n",
              "    (() => {\n",
              "      let quickchartButtonEl =\n",
              "        document.querySelector('#df-fff96458-c753-4e26-a00d-e88452c889b2 button');\n",
              "      quickchartButtonEl.style.display =\n",
              "        google.colab.kernel.accessAllowed ? 'block' : 'none';\n",
              "    })();\n",
              "  </script>\n",
              "</div>\n",
              "\n",
              "    </div>\n",
              "  </div>\n"
            ],
            "application/vnd.google.colaboratory.intrinsic+json": {
              "type": "dataframe",
              "variable_name": "df_aj",
              "summary": "{\n  \"name\": \"df_aj\",\n  \"rows\": 599,\n  \"fields\": [\n    {\n      \"column\": \"text\",\n      \"properties\": {\n        \"dtype\": \"string\",\n        \"num_unique_values\": 427,\n        \"samples\": [\n          \"at least 19 palestinians have been killed in an israeli attack targeting civilians who were waiting for aid southeast of gaza city , gaza's ministry of health and its media office said .\",\n          \"alex cosh is an editor with the status - quo - allergic independent canadian news upstart , the maple .\",\n          \"the administration of united states president joe biden has imposed new sanctions on iran in response to its missile and drone attack on israel , as tensions mount over the possibility of further escalation in the middle east .\"\n        ],\n        \"semantic_type\": \"\",\n        \"description\": \"\"\n      }\n    },\n    {\n      \"column\": \"title\",\n      \"properties\": {\n        \"dtype\": \"string\",\n        \"num_unique_values\": 599,\n        \"samples\": [\n          \"supreme leader khamenei says iran demonstrated its power against israel\",\n          \"biden: israel\\u2019s netanyahu making \\u2018mistake\\u2019 on gaza\",\n          \"\\u2018little gaza\\u2019: mourning loved ones israel killed in west bank refugee camps\"\n        ],\n        \"semantic_type\": \"\",\n        \"description\": \"\"\n      }\n    }\n  ]\n}"
            }
          },
          "metadata": {},
          "execution_count": 7
        }
      ]
    },
    {
      "cell_type": "markdown",
      "source": [
        "We will build our own TF-IDF BM25 algorithm\n",
        "\n",
        "$$\n",
        "f(q, d)=\\sum_{w\\in q\\cap d}{\\frac{(k+1)c(w,d)}{c(w,d) +k\\left(1 - b +b\\cdot \\frac{L_d}{L_{avg}}\\right)}} \\cdot \\log\\left(\\frac{M + 1}{df(w)}\\right)\n",
        "$$\n",
        "\n",
        "$$b\\in[0, 1], k\\in[0, +\\infty)$$\n"
      ],
      "metadata": {
        "id": "ABtfvsE2MLUx"
      }
    },
    {
      "cell_type": "code",
      "source": [
        "import numpy as np\n",
        "import nltk\n",
        "from nltk.corpus import stopwords\n",
        "from nltk.tokenize import word_tokenize\n"
      ],
      "metadata": {
        "id": "0_NqwImMM8x8"
      },
      "execution_count": 22,
      "outputs": []
    },
    {
      "cell_type": "code",
      "source": [
        "nltk.download(\"punkt\")\n",
        "nltk.download(\"stopwords\")\n",
        "nltk.download('punkt_tab')"
      ],
      "metadata": {
        "colab": {
          "base_uri": "https://localhost:8080/"
        },
        "id": "ALVxOGKlN7xe",
        "outputId": "fa17500c-667d-416c-cf83-c4dc9bb9caa7"
      },
      "execution_count": 26,
      "outputs": [
        {
          "output_type": "stream",
          "name": "stderr",
          "text": [
            "[nltk_data] Downloading package punkt to /root/nltk_data...\n",
            "[nltk_data]   Package punkt is already up-to-date!\n",
            "[nltk_data] Downloading package stopwords to /root/nltk_data...\n",
            "[nltk_data]   Package stopwords is already up-to-date!\n",
            "[nltk_data] Downloading package punkt_tab to /root/nltk_data...\n",
            "[nltk_data]   Unzipping tokenizers/punkt_tab.zip.\n"
          ]
        },
        {
          "output_type": "execute_result",
          "data": {
            "text/plain": [
              "True"
            ]
          },
          "metadata": {},
          "execution_count": 26
        }
      ]
    },
    {
      "cell_type": "code",
      "source": [
        "corpuse = df_aj[\"text\"].fillna(\"\").astype(str).tolist()"
      ],
      "metadata": {
        "id": "itGsLng1N_y8"
      },
      "execution_count": 27,
      "outputs": []
    },
    {
      "cell_type": "code",
      "source": [
        "stop_words = set(stopwords.words(\"english\"))\n",
        "\n",
        "# create a global corpus with all the word in all the document\n",
        "processed_corpus = []\n",
        "for document in corpuse:\n",
        "    tokens = word_tokenize(document)\n",
        "    filtered_tokens = [w for w in tokens if not w.lower() in stop_words]\n",
        "    processed_corpus.append(filtered_tokens)\n",
        "\n",
        "# Convert processed_corpus into a list of strings\n",
        "processed_corpus_str = [' '.join(doc) for doc in processed_corpus]\n"
      ],
      "metadata": {
        "id": "nM91ST42OdIE"
      },
      "execution_count": 45,
      "outputs": []
    },
    {
      "cell_type": "code",
      "source": [
        "# remove all word containing number (since we don't consider them)\n",
        "\n",
        "global_corpus = [word for word in global_corpus if not any(char.isdigit() for char in word)]"
      ],
      "metadata": {
        "id": "c_7JZr5TO27i"
      },
      "execution_count": 46,
      "outputs": []
    },
    {
      "cell_type": "code",
      "source": [
        "print(global_corpus)"
      ],
      "metadata": {
        "colab": {
          "base_uri": "https://localhost:8080/"
        },
        "id": "LrXuhEUiO4dw",
        "outputId": "5c8e8b95-73ca-4291-e0cc-d0366b91b332"
      },
      "execution_count": 47,
      "outputs": [
        {
          "output_type": "stream",
          "name": "stdout",
          "text": [
            "['aa', 'abadi', 'abbas', 'abdallah', 'abdel', 'able', 'abroad', 'abstains', 'abu', 'abuse', 'abuses', 'abusive', 'academic', 'academy', 'accept', 'accepted', 'according', 'accusations', 'accused', 'accuses', 'accusing', 'achieving', 'acre', 'acres', 'across', 'action', 'actions', 'activated', 'activist', 'activists', 'acts', 'actually', 'adding', 'additional', 'address', 'addressed', 'aden', 'adha', 'administration', 'administrations', 'administrative', 'administrators', 'admitted', 'adopt', 'adopted', 'advice', 'adviser', 'advocates', 'advocating', 'aerial', 'affairs', 'afghanistan', 'afraid', 'africa', 'african', 'aftermath', 'agencies', 'agency', 'aggressive', 'ago', 'agree', 'agreed', 'agreement', 'aharon', 'ahead', 'aid', 'aida', 'aimed', 'aims', 'air', 'aircraft', 'airdrop', 'airports', 'airspace', 'al', 'aleppo', 'alert', 'alex', 'ali', 'aligned', 'alishba', 'alive', 'allah', 'allegations', 'alleged', 'allergic', 'alley', 'allies', 'allow', 'allowed', 'allows', 'ally', 'almost', 'aloe', 'along', 'alongside', 'alonyal', 'already', 'also', 'although', 'ambulance', 'american', 'americans', 'amid', 'amna', 'amnesty', 'among', 'amount', 'amr', 'analysis', 'analysts', 'anc', 'ancient', 'anecdote', 'angeles', 'anger', 'ankara', 'anniversary', 'announced', 'announcement', 'annual', 'another', 'anti', 'anticipating', 'antigovernment', 'antonio', 'antony', 'anything', 'anywhere', 'ap', 'apocalyptic', 'apparently', 'appear', 'appearing', 'appears', 'applause', 'application', 'applied', 'appointed', 'approach', 'approaches', 'approved', 'april', 'aqsa', 'arab', 'arabia', 'arabic', 'arabs', 'arbitrary', 'area', 'areas', 'argues', 'arm', 'armed', 'arms', 'army', 'arose', 'around', 'arrest', 'arrested', 'arresting', 'arrests', 'arrived', 'arriving', 'artificial', 'artillery', 'asadullah', 'asia', 'asked', 'asking', 'assassinated', 'assault', 'assaults', 'assembly', 'assessed', 'assessment', 'assistance', 'associated', 'association', 'assurances', 'athens', 'attack', 'attacked', 'attacking', 'attacks', 'attempt', 'attempts', 'attended', 'attention', 'attentively', 'attitudes', 'attracts', 'austin', 'australia', 'authoritarian', 'authorities', 'authority', 'avert', 'aviv', 'avoid', 'awaited', 'awards', 'away', 'axis', 'ayatollah', 'ayman', 'az', 'baalbek', 'baawi', 'baby', 'back', 'backed', 'backing', 'backward', 'bad', 'badly', 'baked', 'balah', 'balance', 'ballads', 'ballot', 'ban', 'bank', 'banned', 'barakat', 'barely', 'barrage', 'based', 'bases', 'basic', 'basseres', 'battalion', 'battle', 'battled', 'battleground', 'beat', 'beaten', 'beatings', 'beauty', 'became', 'become', 'becoming', 'bed', 'began', 'begged', 'begin', 'beginning', 'begun', 'behind', 'beirut', 'beit', 'belgium', 'belgrade', 'believe', 'belize', 'bench', 'benjamin', 'benny', 'berlin', 'besieged', 'best', 'bethlehem', 'bewildered', 'bezalel', 'bias', 'bid', 'biden', 'bigger', 'biggest', 'bill', 'billie', 'billions', 'birth', 'birthed', 'bit', 'black', 'blast', 'bleeding', 'blindsided', 'blinken', 'blinks', 'block', 'blockade', 'blocked', 'blocking', 'bloodied', 'bloody', 'boats', 'bodies', 'body', 'bomb', 'bombarded', 'bombarding', 'bombardment', 'bombed', 'bombing', 'bombs', 'border', 'born', 'boston', 'bowman', 'brace', 'bread', 'breaking', 'breaks', 'bridges', 'brief', 'briefly', 'brigades', 'bring', 'bringing', 'british', 'britons', 'broadcast', 'broadcaster', 'broadcasting', 'broken', 'broker', 'brokered', 'brooklyn', 'brother', 'brought', 'brussels', 'brutal', 'buffer', 'build', 'building', 'buildings', 'bulldozer', 'bureaucracy', 'bureij', 'buried', 'burlington', 'busiest', 'busy', 'buy', 'cabinet', 'cable', 'cairo', 'calamity', 'calendar', 'california', 'call', 'called', 'calling', 'calls', 'calm', 'camera', 'cameron', 'camp', 'campaign', 'campaigning', 'camps', 'campus', 'campuses', 'canada', 'canadian', 'cancelled', 'cancer', 'candidate', 'candidates', 'capable', 'cape', 'capital', 'captive', 'captives', 'care', 'cargo', 'carnival', 'carried', 'carrying', 'cartoned', 'case', 'cash', 'casualties', 'catastrophic', 'catholic', 'caught', 'cause', 'causing', 'ceasefire', 'cecilia', 'celebrate', 'celebrating', 'celebrities', 'center', 'central', 'centre', 'centred', 'centres', 'ceremonies', 'ceremony', 'cessation', 'challenge', 'challenges', 'challenging', 'champions', 'change', 'chant', 'chanting', 'chants', 'chaplain', 'charges', 'charismatic', 'charity', 'charlottesville', 'charm', 'chasm', 'checking', 'checks', 'cheers', 'cheese', 'chef', 'chicago', 'chief', 'child', 'children', 'china', 'chose', 'chris', 'christian', 'christians', 'circulated', 'cities', 'citing', 'citizen', 'city', 'civil', 'civilian', 'civilians', 'claim', 'claimed', 'claiming', 'claims', 'clashes', 'classes', 'clear', 'cleared', 'clearly', 'climate', 'climbing', 'clock', 'close', 'closed', 'closer', 'clout', 'club', 'co', 'coalition', 'coast', 'coastal', 'cold', 'collapse', 'collapsing', 'college', 'colonial', 'columbia', 'combat', 'come', 'comedian', 'comforting', 'coming', 'command', 'commander', 'commemorates', 'commencement', 'comment', 'commercial', 'commission', 'committed', 'committee', 'committing', 'communications', 'communities', 'community', 'companies', 'companion', 'comparison', 'complete', 'completely', 'complex', 'complicit', 'complicity', 'component', 'comprised', 'comprising', 'compromise', 'concern', 'concerns', 'concluded', 'concrete', 'condemnation', 'condemned', 'conditions', 'conduct', 'conducted', 'confidential', 'confirmed', 'conflating', 'conflict', 'conflicting', 'confronting', 'confusion', 'congress', 'congressional', 'conscription', 'consequences', 'considered', 'considering', 'consistent', 'consulate', 'container', 'containing', 'contest', 'context', 'continue', 'continued', 'continues', 'continuing', 'control', 'controls', 'convention', 'conventions', 'convoy', 'convoys', 'convulsed', 'coordinated', 'coordinates', 'coordination', 'cop', 'cops', 'coral', 'core', 'corps', 'correspondent', 'corridor', 'cosh', 'cost', 'could', 'council', 'counterpart', 'countries', 'country', 'couple', 'court', 'courtrooms', 'courts', 'courtyard', 'cousin', 'coverage', 'covered', 'cracked', 'create', 'created', 'creating', 'credible', 'crew', 'crews', 'crime', 'crimes', 'criminal', 'crippled', 'crises', 'crisis', 'critical', 'criticised', 'criticism', 'critics', 'crossfire', 'crossing', 'crossings', 'crowded', 'crucial', 'crutch', 'cry', 'culture', 'cuny', 'current', 'currently', 'cut', 'cutting', 'cyberspace', 'cycles', 'cyprus', 'daily', 'damage', 'damaged', 'damascus', 'dancing', 'daqqa', 'daughter', 'david', 'day', 'days', 'dc', 'de', 'dead', 'deadly', 'deal', 'death', 'deaths', 'debate', 'debated', 'decades', 'december', 'decided', 'deciding', 'decision', 'decisive', 'declare', 'declared', 'decline', 'declined', 'deepens', 'deeper', 'deepest', 'deeply', 'defence', 'defences', 'defended', 'defending', 'defense', 'defiant', 'defied', 'defuse', 'defusing', 'deir', 'delegation', 'deliberate', 'deliberately', 'deliver', 'delivered', 'deliveries', 'delivering', 'delivery', 'delusions', 'demand', 'demanding', 'demands', 'democratic', 'demolishing', 'demonstrating', 'demonstration', 'demonstrations', 'demonstrators', 'denounce', 'denounced', 'denouncing', 'densely', 'department', 'deportation', 'deputy', 'describe', 'described', 'describes', 'describing', 'designated', 'designed', 'desk', 'desperate', 'despite', 'destroyed', 'destruction', 'destructive', 'detainee', 'detainees', 'detention', 'detentions', 'deteriorate', 'determination', 'determined', 'devastated', 'devastates', 'devastating', 'devastation', 'development', 'developments', 'devoted', 'diagnosed', 'dictatorial', 'die', 'died', 'different', 'diplomat', 'diplomatic', 'dire', 'direct', 'director', 'disapproval', 'disaster', 'disbursement', 'discourse', 'discovery', 'discuss', 'discussed', 'disengagement', 'dish', 'dismantle', 'dismantled', 'disperse', 'displaced', 'displacement', 'display', 'displeasure', 'dissolved', 'distracts', 'diverse', 'divert', 'diverting', 'divestment', 'divide', 'divided', 'dividing', 'dock', 'doctor', 'doctors', 'document', 'documents', 'doha', 'dollars', 'domestic', 'donald', 'doubt', 'downed', 'dozens', 'draft', 'drafted', 'dragging', 'dramatic', 'drawn', 'dreams', 'drew', 'drive', 'driving', 'drone', 'drones', 'dropped', 'duration', 'détente', 'earlier', 'early', 'earth', 'east', 'easter', 'eastern', 'eat', 'economic', 'editor', 'effect', 'effective', 'effectively', 'efficient', 'effort', 'efforts', 'egypt', 'egyptian', 'eid', 'eight', 'eighth', 'eighty', 'eilish', 'el', 'elderly', 'eldest', 'election', 'elections', 'eliminate', 'eliminating', 'elite', 'ellen', 'else', 'elsewhere', 'embargo', 'emerge', 'emergency', 'emerson', 'emory', 'employ', 'employee', 'employees', 'employer', 'enablers', 'encampment', 'enclave', 'end', 'endangerment', 'ended', 'endemic', 'ending', 'endorsed', 'enemy', 'energy', 'england', 'english', 'ensure', 'enter', 'entered', 'entering', 'enters', 'entire', 'entrepreneur', 'entry', 'enveloping', 'environmental', 'envoys', 'equipment', 'erdogan', 'erez', 'erupted', 'es', 'escalate', 'escalating', 'escalation', 'especially', 'essential', 'established', 'establishment', 'estate', 'estimated', 'etna', 'european', 'eurovision', 'evacuation', 'evaluating', 'even', 'evening', 'event', 'events', 'eventual', 'every', 'everyone', 'everything', 'evidence', 'evident', 'ex', 'exchange', 'exclusive', 'executions', 'exemption', 'exist', 'expand', 'expanded', 'expanding', 'expansion', 'expectations', 'expected', 'expects', 'expense', 'experience', 'experiment', 'expert', 'experts', 'explaining', 'explicit', 'exploiting', 'explosions', 'exponential', 'exports', 'exposed', 'express', 'expressed', 'expresses', 'expression', 'expulsion', 'extent', 'extermination', 'extra', 'extravaganza', 'eyes', 'f', 'face', 'faced', 'faces', 'facilitate', 'facilitation', 'facilities', 'facility', 'facing', 'faculty', 'failed', 'failures', 'faith', 'fallout', 'familiar', 'families', 'family', 'famine', 'far', 'farm', 'farrah', 'fast', 'fasting', 'fatalities', 'father', 'fatmeh', 'fattah', 'fault', 'favour', 'favourably', 'favoured', 'fear', 'feared', 'fears', 'features', 'february', 'feel', 'feelings', 'feels', 'fellow', 'felt', 'fewer', 'fields', 'fierce', 'fig', 'fight', 'fighter', 'fighters', 'fighting', 'filed', 'fill', 'filled', 'film', 'final', 'finally', 'finance', 'find', 'finish', 'finneas', 'fire', 'fired', 'firing', 'firmer', 'first', 'fist', 'fitch', 'fitr', 'five', 'flagged', 'flags', 'flee', 'flies', 'flights', 'floating', 'flooding', 'floor', 'flow', 'fluent', 'flying', 'focus', 'focused', 'folk', 'follow', 'following', 'follows', 'food', 'footage', 'football', 'footballer', 'footsteps', 'force', 'forces', 'forcing', 'foreign', 'forensic', 'forged', 'fork', 'form', 'formal', 'formally', 'former', 'forward', 'found', 'founder', 'founding', 'four', 'franchise', 'francis', 'fraught', 'free', 'freedom', 'freeze', 'french', 'freshly', 'friction', 'friday', 'friends', 'friendship', 'fuel', 'full', 'functional', 'fund', 'funded', 'funding', 'funds', 'funeral', 'furious', 'gain', 'gallant', 'gantz', 'gas', 'gate', 'gathered', 'gathering', 'gave', 'gaza', 'gears', 'general', 'generated', 'generational', 'genocidal', 'genocide', 'george', 'georgetown', 'georgia', 'german', 'germany', 'get', 'ghaben', 'ghoul', 'gillan', 'girl', 'girls', 'given', 'global', 'globe', 'go', 'goes', 'going', 'golden', 'gone', 'goods', 'governed', 'government', 'governorate', 'graduation', 'granberg', 'grandchildren', 'grandpa', 'grandparents', 'graphics', 'grave', 'graves', 'great', 'greece', 'greek', 'greenlighted', 'greeting', 'grief', 'ground', 'grounds', 'group', 'groups', 'grove', 'grow', 'growing', 'guantanamo', 'guard', 'guides', 'gulf', 'gunfire', 'guterres', 'gw', 'habbariyeh', 'haitham', 'hajj', 'half', 'halfway', 'haliva', 'hall', 'halls', 'halt', 'halted', 'hamas', 'hamilton', 'hammad', 'hampering', 'hanan', 'hand', 'handling', 'hands', 'hanging', 'haniyeh', 'hanna', 'hanoi', 'hanoon', 'happen', 'happening', 'harass', 'haroon', 'harris', 'hashemite', 'hassan', 'hate', 'hateful', 'haunt', 'head', 'headed', 'heading', 'health', 'heard', 'heart', 'heartbroken', 'heaviest', 'heavily', 'heavy', 'heba', 'hebron', 'heckled', 'hectares', 'hefets', 'heightened', 'held', 'helicopter', 'help', 'helped', 'hemmed', 'hezbollah', 'hidden', 'hide', 'high', 'highest', 'highlighted', 'highway', 'hills', 'hind', 'hinder', 'historical', 'historically', 'history', 'hit', 'hold', 'holding', 'holiday', 'hollen', 'holocaust', 'holy', 'homaid', 'home', 'homes', 'hometown', 'honest', 'hood', 'hoped', 'hopeful', 'hormuz', 'horrific', 'horrified', 'horror', 'hospital', 'hospitals', 'hostages', 'hostilities', 'hours', 'house', 'housing', 'houthi', 'houthis', 'however', 'hrw', 'huge', 'human', 'humanitarian', 'humanity', 'humiliating', 'hundreds', 'hung', 'hunger', 'hurt', 'husam', 'ian', 'ibrahimi', 'icc', 'icj', 'identifiable', 'iftar', 'igniting', 'ignore', 'ii', 'illinois', 'illustrated', 'imagery', 'immediate', 'immediately', 'immense', 'immigration', 'imminent', 'immovable', 'immune', 'impacts', 'impasse', 'implemented', 'implicit', 'important', 'imports', 'impose', 'imposed', 'imposing', 'impossible', 'imprisoned', 'improve', 'inception', 'incident', 'include', 'includes', 'including', 'increase', 'increased', 'increasing', 'increasingly', 'incursion', 'independent', 'indicated', 'indicates', 'indonesia', 'industry', 'infamous', 'information', 'infrastructure', 'initial', 'initiative', 'injured', 'inquiry', 'insensitive', 'inside', 'insightful', 'inspired', 'institute', 'institution', 'institutions', 'instructs', 'integration', 'intelligence', 'intense', 'intensification', 'intensified', 'intensifies', 'intensify', 'intensifying', 'intentional', 'intercepted', 'interest', 'interim', 'internal', 'international', 'internationally', 'interrupted', 'intervention', 'interview', 'intifada', 'invasion', 'investigation', 'investigative', 'invitation', 'involved', 'involvement', 'iran', 'iranian', 'iraq', 'ire', 'ireland', 'irgc', 'iris', 'irish', 'ironclad', 'irvine', 'isfahan', 'ishaq', 'islam', 'islamic', 'ismail', 'israel', 'israeli', 'israelis', 'issa', 'issam', 'issue', 'issued', 'issues', 'istanbul', 'italy', 'jabalia', 'jail', 'jala', 'jamaal', 'january', 'javaid', 'jawdat', 'jazeera', 'jean', 'jeffrey', 'jenin', 'jerusalem', 'jets', 'jew', 'jewish', 'joe', 'john', 'join', 'joined', 'joint', 'jordan', 'journalists', 'joy', 'jr', 'july', 'june', 'justice', 'kaabna', 'kabash', 'kais', 'kamala', 'karem', 'karim', 'keep', 'keeps', 'kelana', 'kept', 'key', 'khalil', 'khamenei', 'khan', 'khoudary', 'kid', 'kidnappers', 'kill', 'killed', 'killers', 'killing', 'kinds', 'king', 'kingdom', 'kiryat', 'kitchen', 'knelt', 'knesset', 'know', 'knowing', 'knowledge', 'known', 'kuwait', 'kyriakos', 'lack', 'land', 'landscape', 'lanes', 'language', 'lankan', 'large', 'largely', 'larger', 'largest', 'larnaca', 'last', 'lasting', 'late', 'later', 'latest', 'launch', 'launched', 'law', 'lawmakers', 'lawn', 'lawsuits', 'lawyer', 'lawyers', 'lay', 'lazzarini', 'leader', 'leaders', 'leadership', 'leading', 'leads', 'leans', 'learned', 'learner', 'least', 'leave', 'leaving', 'lebanese', 'lebanon', 'lecture', 'led', 'left', 'leg', 'legal', 'legislation', 'legislative', 'less', 'letter', 'level', 'levelled', 'levels', 'liberties', 'life', 'lifelong', 'lifted', 'lifting', 'light', 'like', 'likely', 'line', 'linked', 'listen', 'listened', 'little', 'live', 'lived', 'lives', 'living', 'local', 'locations', 'london', 'long', 'longtime', 'looking', 'looks', 'looming', 'looms', 'los', 'loser', 'losing', 'lost', 'lottery', 'loyalty', 'lucky', 'lustick', 'luther', 'lying', 'machinegun', 'madbouly', 'made', 'madrid', 'maghazi', 'maha', 'mahdi', 'mahmoud', 'main', 'mainly', 'maintained', 'maintaining', 'major', 'majority', 'make', 'makeshift', 'making', 'male', 'malnutrition', 'man', 'mandate', 'manufacturing', 'many', 'maple', 'marc', 'march', 'marched', 'marchers', 'marginalised', 'mariniello', 'mark', 'marking', 'martin', 'martyrs', 'marwan', 'mass', 'massacre', 'massacring', 'matter', 'matters', 'mawasi', 'max', 'may', 'maya', 'mayoral', 'maysoon', 'mcdonald', 'mcgill', 'meal', 'mean', 'measures', 'mechanisms', 'medan', 'media', 'mediation', 'mediator', 'mediators', 'medical', 'medicine', 'medics', 'mediterranean', 'meet', 'meeting', 'meetings', 'melbourne', 'member', 'members', 'membership', 'memories', 'men', 'menachem', 'merchant', 'messina', 'met', 'metal', 'methods', 'michael', 'michigan', 'mid', 'middle', 'migration', 'militarised', 'military', 'miller', 'million', 'millions', 'milwaukee', 'minister', 'ministry', 'missile', 'missiles', 'missing', 'mission', 'mistake', 'mitotakis', 'moath', 'mob', 'mocking', 'modern', 'mohammad', 'mohammed', 'molokhia', 'moment', 'monday', 'monitor', 'month', 'months', 'montreal', 'mood', 'moral', 'morning', 'mosely', 'mosque', 'mostafa', 'mostly', 'mother', 'motions', 'mount', 'mounting', 'move', 'moved', 'movement', 'moving', 'mps', 'mq', 'much', 'muhtaseb', 'mujahed', 'mulligan', 'multiple', 'municipal', 'munitions', 'murajaat', 'musara', 'musicians', 'muslim', 'muslims', 'must', 'mustafa', 'muster', 'nabahin', 'nakba', 'narrative', 'narrow', 'nasrallah', 'nasser', 'national', 'nationalist', 'nations', 'nationwide', 'navy', 'nbc', 'near', 'nearby', 'nearly', 'necessary', 'necessities', 'need', 'needs', 'negotiate', 'negotiations', 'neighbourhood', 'neighbourhoods', 'neighbouring', 'netanyahu', 'netherlands', 'netzah', 'neutral', 'new', 'newest', 'news', 'newspapers', 'next', 'ngo', 'nicaragua', 'night', 'nightmare', 'nightmares', 'nine', 'non', 'none', 'north', 'northern', 'northwest', 'norway', 'notched', 'nothing', 'novel', 'novelist', 'november', 'number', 'numbers', 'nuseirat', 'nypd', 'object', 'objective', 'objects', 'obligations', 'observer', 'obsessed', 'obstacle', 'obtained', 'occasion', 'occupation', 'occupied', 'occupying', 'october', 'offensive', 'office', 'officers', 'official', 'officially', 'officials', 'oil', 'old', 'one', 'ongoing', 'onslaught', 'onto', 'open', 'opened', 'opening', 'operation', 'operations', 'opponents', 'oppose', 'opposed', 'opposition', 'option', 'order', 'ordered', 'ordering', 'orders', 'ordinarily', 'organisations', 'organiser', 'organisers', 'organization', 'orthodox', 'oscars', 'ostensibly', 'others', 'outlet', 'outlets', 'outlined', 'outposts', 'outrage', 'outraged', 'outside', 'overambitious', 'overhead', 'overlooking', 'overnight', 'overwhelmingly', 'owned', 'ownership', 'oxfam', 'pa', 'pacific', 'package', 'packages', 'page', 'pain', 'pale', 'pales', 'palestine', 'palestinian', 'palestinians', 'paramedic', 'paris', 'parlay', 'parliament', 'part', 'participated', 'parties', 'partners', 'partnerships', 'parts', 'party', 'pass', 'passage', 'passed', 'past', 'patient', 'pauses', 'peace', 'peaceful', 'pedro', 'pennsylvania', 'people', 'pepper', 'percent', 'perhaps', 'period', 'permanent', 'perpetuates', 'person', 'personal', 'personnel', 'perspectives', 'philadelphi', 'philippe', 'phosphorus', 'physician', 'physics', 'pictures', 'piece', 'pier', 'piles', 'pilgrimage', 'pink', 'pins', 'placards', 'place', 'plague', 'plan', 'planck', 'plane', 'planes', 'planned', 'planning', 'plans', 'plants', 'players', 'please', 'pledge', 'pledged', 'plight', 'plummeted', 'po', 'podium', 'point', 'points', 'police', 'policies', 'policing', 'policy', 'polio', 'political', 'politicians', 'politics', 'poll', 'polls', 'pomegranate', 'poor', 'pope', 'popular', 'populated', 'population', 'populations', 'port', 'ports', 'position', 'positions', 'possession', 'possibility', 'post', 'potential', 'potentially', 'power', 'powerful', 'powers', 'practical', 'praised', 'prepare', 'prepares', 'present', 'preserving', 'president', 'press', 'pressed', 'presses', 'pressure', 'presumably', 'prevail', 'prevent', 'preventing', 'primary', 'prime', 'principal', 'principally', 'prisoners', 'prisons', 'private', 'prized', 'pro', 'problems', 'process', 'produced', 'professor', 'programme', 'programmes', 'progress', 'progressive', 'prohibit', 'projectiles', 'prominent', 'promise', 'promised', 'promote', 'prompting', 'prompts', 'pronounced', 'proposal', 'proposed', 'prosecute', 'prosecution', 'prosecutor', 'protect', 'protection', 'protest', 'protesters', 'protesting', 'protests', 'provide', 'provides', 'province', 'psychological', 'psychotherapy', 'public', 'publicly', 'published', 'punish', 'punk', 'push', 'pushed', 'put', 'putra', 'puts', 'pyjamas', 'qafisheh', 'qassam', 'qatar', 'qatari', 'qeeq', 'qualified', 'quds', 'question', 'questioned', 'questioning', 'questions', 'quickly', 'quite', 'quo', 'racism', 'racist', 'rafah', 'rages', 'raging', 'raid', 'raided', 'raids', 'raised', 'raja', 'rallied', 'rallies', 'rally', 'ramadan', 'ramy', 'range', 'rapporteur', 'rating', 'ratings', 'ravaged', 'reach', 'reached', 'read', 'ready', 'reagan', 'real', 'realised', 'realising', 'realities', 'really', 'reaper', 'reappointed', 'reasonable', 'reassessment', 'rebuilding', 'recall', 'received', 'receiving', 'recent', 'recep', 'recognise', 'recognised', 'recognising', 'recognition', 'recommending', 'reconsider', 'reconstruction', 'record', 'recounts', 'recovered', 'red', 'reefs', 'reflected', 'reform', 'refuge', 'refugee', 'refugees', 'refused', 'regimes', 'region', 'regional', 'rehabilitation', 'rein', 'reinforcing', 'reinstalled', 'reiterating', 'rejected', 'rejection', 'relating', 'relations', 'relationship', 'relationships', 'relatively', 'release', 'released', 'relentless', 'reliable', 'relied', 'relief', 'religion', 'religious', 'rely', 'remain', 'remains', 'remembrance', 'reminded', 'removal', 'removed', 'renewed', 'reopen', 'reopening', 'repeated', 'repeatedly', 'repercussions', 'report', 'reported', 'reporter', 'reporting', 'reports', 'representative', 'representatives', 'republican', 'republicans', 'request', 'requested', 'require', 'rescue', 'rescuers', 'research', 'resident', 'residents', 'resign', 'resigned', 'resist', 'resistance', 'resolution', 'resolutions', 'resort', 'respond', 'response', 'responses', 'responsibility', 'rest', 'resting', 'restore', 'restrict', 'restrictions', 'resulted', 'resulting', 'resume', 'resuming', 'retaliate', 'retaliation', 'return', 'returned', 'returns', 'reuters', 'reveal', 'revealed', 'revenues', 'review', 'reviewing', 'revive', 'revived', 'revoked', 'revolutionary', 'ridiculous', 'right', 'rights', 'rio', 'riot', 'ripple', 'risen', 'rises', 'rising', 'risk', 'rival', 'road', 'roads', 'rock', 'rockets', 'role', 'rolled', 'rolls', 'ronald', 'roughly', 'round', 'rounds', 'route', 'rubbish', 'rubble', 'rubymar', 'ruffalo', 'rule', 'rules', 'ruling', 'run', 'running', 'runs', 'rushed', 'russia', 'russian', 'rwanda', 'sachs', 'sad', 'sadaqa', 'safe', 'safer', 'said', 'saied', 'sake', 'saleem', 'salem', 'sales', 'salvoes', 'sanad', 'sanchez', 'sanctions', 'sanctuary', 'sand', 'sanitation', 'saree', 'satellite', 'saturday', 'saudi', 'save', 'saving', 'saw', 'say', 'saying', 'says', 'scale', 'scenes', 'school', 'schools', 'sciences', 'scientist', 'scrutiny', 'scuffles', 'sea', 'seafarers', 'sebastia', 'secluded', 'second', 'seconds', 'secretary', 'secure', 'security', 'seek', 'seeking', 'seeming', 'seen', 'seized', 'seizure', 'self', 'semitism', 'senator', 'send', 'sending', 'senior', 'separately', 'september', 'serbia', 'series', 'serious', 'seriously', 'served', 'services', 'session', 'set', 'settled', 'settlement', 'settlements', 'settler', 'settlers', 'seven', 'seventh', 'several', 'severe', 'severely', 'shaaban', 'shadow', 'shaer', 'shake', 'shameful', 'shaming', 'shamir', 'shared', 'sharp', 'shati', 'shedding', 'shelled', 'shelling', 'shells', 'shelter', 'sheltering', 'shield', 'shielded', 'shields', 'shifa', 'shift', 'shifting', 'ship', 'shipment', 'shipping', 'ships', 'shmona', 'short', 'shot', 'shoulder', 'shoulders', 'shouted', 'shouting', 'show', 'showed', 'showing', 'shown', 'shrapnel', 'shutdown', 'shutdowns', 'shutting', 'side', 'sides', 'siege', 'sign', 'signed', 'significant', 'signs', 'siham', 'silence', 'similar', 'simultaneously', 'since', 'singing', 'sinking', 'sirens', 'sisi', 'sit', 'sits', 'sitting', 'situation', 'six', 'sixth', 'slammed', 'sleep', 'slick', 'slogans', 'slovenia', 'slow', 'slowly', 'small', 'smells', 'smile', 'smoking', 'smotrich', 'social', 'society', 'soldiers', 'solidarity', 'sombre', 'something', 'son', 'sons', 'soon', 'sort', 'sorties', 'sought', 'sound', 'sounds', 'sources', 'south', 'southeast', 'southern', 'southernmost', 'spain', 'spanish', 'sparks', 'spawned', 'speaker', 'spearheaded', 'special', 'specialty', 'speech', 'spending', 'spoke', 'spokesman', 'spokesperson', 'sponsored', 'spray', 'spread', 'spurred', 'squad', 'square', 'squeezes', 'srebrenica', 'sri', 'stablised', 'staff', 'staffer', 'stages', 'staging', 'stalled', 'stance', 'stand', 'standing', 'standoff', 'star', 'start', 'started', 'starting', 'starve', 'starving', 'state', 'statehood', 'states', 'station', 'stationing', 'status', 'stay', 'steam', 'steers', 'step', 'steps', 'stern', 'stick', 'stood', 'stop', 'stormed', 'strain', 'strains', 'strait', 'stranger', 'strapped', 'strategies', 'strategy', 'streets', 'stressed', 'strictest', 'strike', 'strikes', 'strip', 'strong', 'strongest', 'struck', 'struggle', 'student', 'students', 'studies', 'stunning', 'subject', 'subjected', 'submitted', 'suburban', 'success', 'successful', 'successfully', 'successive', 'suffering', 'suit', 'sukkar', 'sultan', 'sumatra', 'summit', 'sunday', 'sunk', 'supplies', 'supply', 'supplying', 'support', 'supporters', 'supportive', 'supposed', 'supreme', 'surges', 'surrey', 'surrounding', 'survey', 'survived', 'survivors', 'suspected', 'suspended', 'suspending', 'suspension', 'sustainable', 'sweden', 'swim', 'swing', 'syria', 'syrian', 'system', 'systematically', 'systemic', 'systems', 'table', 'tactical', 'tactics', 'taiwan', 'tajamaa', 'take', 'taken', 'takes', 'taking', 'tal', 'talk', 'talked', 'talking', 'talks', 'tank', 'tanker', 'tanks', 'target', 'targeted', 'targeting', 'targets', 'targetted', 'tasked', 'tat', 'tayyip', 'team', 'teams', 'tears', 'technologies', 'technology', 'teenager', 'tehran', 'tel', 'telegraphed', 'televised', 'television', 'tell', 'temporarily', 'temporary', 'tens', 'tense', 'tensions', 'tent', 'tents', 'terrified', 'territories', 'territory', 'terror', 'texas', 'thaer', 'thing', 'things', 'third', 'thirst', 'thirteen', 'though', 'thousands', 'threat', 'threaten', 'threatened', 'threatening', 'threats', 'three', 'throughout', 'thursday', 'thus', 'thwarted', 'tied', 'ties', 'tight', 'time', 'times', 'tit', 'told', 'toll', 'tone', 'tonnes', 'took', 'tool', 'top', 'torn', 'torture', 'total', 'tour', 'tournaments', 'towards', 'towered', 'town', 'trade', 'traditionally', 'tragedy', 'trail', 'transfer', 'transformed', 'transparent', 'trapped', 'travel', 'travelled', 'treatment', 'trees', 'trend', 'trial', 'tribunal', 'tried', 'tries', 'triestino', 'triggering', 'troopers', 'troops', 'truce', 'trucks', 'trump', 'trust', 'trusty', 'tucked', 'tuesday', 'tulkarem', 'tunisia', 'turk', 'turkey', 'turkish', 'turmoil', 'turned', 'two', 'types', 'ucla', 'ukraine', 'ultimate', 'ultimatum', 'ultra', 'ultranationalist', 'ululating', 'un', 'unarmed', 'unbearable', 'uncommitted', 'uncovered', 'underestimate', 'undergraduate', 'underpin', 'unesco', 'unfolding', 'unga', 'unhindered', 'unicef', 'uninstructed', 'union', 'unit', 'unite', 'united', 'units', 'universities', 'university', 'unlawful', 'unleashed', 'unlikely', 'unlivable', 'unprecedented', 'unpublished', 'unrwa', 'unsc', 'unsolvable', 'unstoppable', 'unusual', 'upbringing', 'updates', 'upgraded', 'upstart', 'urban', 'urged', 'urging', 'us', 'usc', 'use', 'used', 'using', 'ut', 'uttered', 'uva', 'vague', 'vagueness', 'van', 'various', 'vatican', 'vehicle', 'vehicles', 'venue', 'verification', 'vermont', 'version', 'vessels', 'veto', 'vetoed', 'vice', 'vicious', 'victims', 'video', 'vietnam', 'vietnamese', 'viewers', 'vigilante', 'village', 'villagers', 'violate', 'violating', 'violation', 'violations', 'violence', 'violent', 'violently', 'virginia', 'virtually', 'visa', 'vision', 'visit', 'vital', 'voice', 'voices', 'volcano', 'volker', 'volume', 'vote', 'voted', 'voters', 'vowed', 'wage', 'wages', 'waiting', 'wake', 'wales', 'walid', 'walk', 'walked', 'walking', 'want', 'war', 'warned', 'warning', 'warnings', 'warns', 'warplanes', 'warrants', 'wars', 'warships', 'wary', 'washington', 'watch', 'water', 'waters', 'wave', 'wavered', 'waving', 'way', 'ways', 'wck', 'wealthy', 'weaponry', 'weapons', 'weather', 'wednesday', 'wee', 'week', 'weekend', 'weekly', 'weeks', 'weighing', 'welcomed', 'well', 'went', 'west', 'western', 'wfp', 'wheelchair', 'whether', 'white', 'whole', 'wide', 'wikileaks', 'wildfire', 'willing', 'willingness', 'windows', 'wisconsin', 'withdraw', 'withdrawal', 'withdrawn', 'withdrew', 'withhold', 'withholding', 'within', 'without', 'witnessing', 'woman', 'women', 'word', 'words', 'wore', 'work', 'worked', 'workers', 'working', 'works', 'world', 'worried', 'worsening', 'worsens', 'worth', 'would', 'wounded', 'wounding', 'wrapped', 'writing', 'yahya', 'year', 'years', 'yehuda', 'yemen', 'yemeni', 'yet', 'yoav', 'york', 'young', 'younis', 'youssef', 'youth', 'yusuf', 'zawayda', 'zip', 'zone', 'zones']\n"
          ]
        }
      ]
    },
    {
      "cell_type": "code",
      "source": [
        "# the lenght of the total dictionary\n",
        "\n",
        "print(len(global_corpus))"
      ],
      "metadata": {
        "colab": {
          "base_uri": "https://localhost:8080/"
        },
        "id": "F61on5FePDF1",
        "outputId": "da5af07f-f662-4735-e41e-efb19b54e2a0"
      },
      "execution_count": 48,
      "outputs": [
        {
          "output_type": "stream",
          "name": "stdout",
          "text": [
            "2675\n"
          ]
        }
      ]
    },
    {
      "cell_type": "code",
      "source": [
        "# fill the data according to the formula\n",
        "\n",
        "from sklearn.feature_extraction.text import TfidfVectorizer\n",
        "\n",
        "corpuse = df_aj[\"text\"].fillna(\"\").astype(str).tolist()\n",
        "\n",
        "# remove all the words containing numbers from the corpuse\n",
        "corpuse = [word for word in corpuse if not any(char.isdigit() for char in word)]\n",
        "\n",
        "# Create a TfidfVectorizer object\n",
        "vectorizer = TfidfVectorizer()\n",
        "\n",
        "# Fit the vectorizer to your processed corpus\n",
        "vectorizer.fit(corpuse)\n",
        "\n",
        "# Transform the corpus into a TF-IDF matrix\n",
        "tf_idf_mat = vectorizer.transform(corpuse)\n",
        "\n",
        "# Get the feature names (words)\n",
        "feature_names = vectorizer.get_feature_names_out()\n",
        "\n",
        "# Convert the sparse matrix to a dense array (optional)\n",
        "tf_idf_array = tf_idf_mat.toarray()"
      ],
      "metadata": {
        "id": "ks3xrNE0PbKr"
      },
      "execution_count": 55,
      "outputs": []
    },
    {
      "cell_type": "code",
      "source": [
        "print(feature_names)"
      ],
      "metadata": {
        "colab": {
          "base_uri": "https://localhost:8080/"
        },
        "id": "rfvnsc1AQ811",
        "outputId": "4f39925a-456f-4779-fd8c-7a8a72b11040"
      },
      "execution_count": 56,
      "outputs": [
        {
          "output_type": "stream",
          "name": "stdout",
          "text": [
            "['aa' 'abadi' 'abbas' ... 'yusuf' 'zawayda' 'zones']\n"
          ]
        }
      ]
    },
    {
      "cell_type": "code",
      "source": [
        "# save the tf_idf_mat into a csv file with on the top the feature name\n",
        "\n",
        "\n",
        "import pandas as pd\n",
        "\n",
        "# Create a pandas DataFrame from the TF-IDF matrix\n",
        "df = pd.DataFrame(tf_idf_array, columns=feature_names)\n",
        "\n",
        "# Save the DataFrame to a CSV file\n",
        "df.to_csv('tf_idf_matrix.csv', index=True)"
      ],
      "metadata": {
        "id": "SjPbjhWcRL8n"
      },
      "execution_count": 58,
      "outputs": []
    }
  ]
}