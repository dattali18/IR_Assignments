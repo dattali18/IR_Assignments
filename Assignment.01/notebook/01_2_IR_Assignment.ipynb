{
  "nbformat": 4,
  "nbformat_minor": 0,
  "metadata": {
    "colab": {
      "provenance": [],
      "authorship_tag": "ABX9TyN2MvH421XHi5HZ9X6C3c7+",
      "include_colab_link": true
    },
    "kernelspec": {
      "name": "python3",
      "display_name": "Python 3"
    },
    "language_info": {
      "name": "python"
    }
  },
  "cells": [
    {
      "cell_type": "markdown",
      "metadata": {
        "id": "view-in-github",
        "colab_type": "text"
      },
      "source": [
        "<a href=\"https://colab.research.google.com/github/dattali18/IR_Assignments/blob/main/Assignment.01/notebook/01_2_IR_Assignment.ipynb\" target=\"_parent\"><img src=\"https://colab.research.google.com/assets/colab-badge.svg\" alt=\"Open In Colab\"/></a>"
      ]
    },
    {
      "cell_type": "markdown",
      "source": [
        "# IR - Assignment 1\n",
        "\n",
        "## Part 2 - DF IDF\n",
        "\n",
        "In this part we will use the TF-IDF with BM25 and Okapi Algorithm"
      ],
      "metadata": {
        "id": "U5FfhJ-lItbN"
      }
    },
    {
      "cell_type": "code",
      "source": [
        "import warnings\n",
        "\n",
        "warnings.filterwarnings(\"ignore\")"
      ],
      "metadata": {
        "id": "EC1evcmdSx90"
      },
      "execution_count": null,
      "outputs": []
    },
    {
      "cell_type": "code",
      "execution_count": null,
      "metadata": {
        "id": "WkhCg2XTG5Rr"
      },
      "outputs": [],
      "source": [
        "# get the cleaned data from the source\n",
        "\n",
        "aj_word_link = \"https://github.com/dattali18/IR_Assignments/blob/main/Assignment.01/data/word1/A_J_word.csv?raw=true\"\n",
        "bbc_word_link = \"https://github.com/dattali18/IR_Assignments/blob/main/Assignment.01/data/word1/BBC_word.csv?raw=true\"\n",
        "jp_word_link = \"https://github.com/dattali18/IR_Assignments/blob/main/Assignment.01/data/word1/J_P_word.csv?raw=true\"\n",
        "nyt_word_link = \"https://github.com/dattali18/IR_Assignments/blob/main/Assignment.01/data/word1/NYT_word.csv?raw=true\""
      ]
    },
    {
      "cell_type": "code",
      "source": [
        "\n",
        "aj_lemma_link = \"https://github.com/dattali18/IR_Assignments/blob/main/Assignment.01/data/lemma1/A_J_lemma.csv?raw=true\"\n",
        "bbc_lemma_link = \"https://github.com/dattali18/IR_Assignments/blob/main/Assignment.01/data/lemma1/BBC_lemma.csv?raw=true\"\n",
        "jp_lemma_link = \"https://github.com/dattali18/IR_Assignments/blob/main/Assignment.01/data/lemma1/J_P_lemma.csv?raw=true\"\n",
        "nyt_lemma_link = \"https://github.com/dattali18/IR_Assignments/blob/main/Assignment.01/data/lemma1/NYT_lemma.csv?raw=true\""
      ],
      "metadata": {
        "id": "HfIFEH2UTHDM"
      },
      "execution_count": null,
      "outputs": []
    },
    {
      "cell_type": "code",
      "source": [
        "aj_word_file = \"A_J_word.csv\"\n",
        "bbc_word_file = \"BBC_word.csv\"\n",
        "jp_word_file = \"J_P_word.csv\"\n",
        "nyt_word_file = \"NYT_word.csv\""
      ],
      "metadata": {
        "id": "Dvdpy331JFlc"
      },
      "execution_count": null,
      "outputs": []
    },
    {
      "cell_type": "code",
      "source": [
        "aj_lemma_file = \"A_J_lemma.csv\"\n",
        "bbc_lemma_file = \"BBC_lemma.csv\"\n",
        "jp_lemma_file = \"J_P_lemma.csv\"\n",
        "nyt_lemma_file = \"NYT_lemma.csv\""
      ],
      "metadata": {
        "id": "lTpthpwrTcwF"
      },
      "execution_count": null,
      "outputs": []
    },
    {
      "cell_type": "code",
      "source": [
        "# download the data using requests\n",
        "import requests\n",
        "import pandas as pd\n",
        "import os\n",
        "\n",
        "response = requests.get(aj_word_link)\n",
        "if response.status_code == 200: # if the response is 200 OK\n",
        "  with open(aj_word_file, \"wb\") as file:\n",
        "    file.write(response.content)\n",
        "  print(f\"Sucessfully downloaded the file into {aj_word_file}\")"
      ],
      "metadata": {
        "colab": {
          "base_uri": "https://localhost:8080/"
        },
        "id": "BUj3qUpsIxsj",
        "outputId": "15135561-2c6c-4583-fb39-4c2426b6c4b1"
      },
      "execution_count": null,
      "outputs": [
        {
          "output_type": "stream",
          "name": "stdout",
          "text": [
            "Sucessfully downloaded the file into A_J_word.csv\n"
          ]
        }
      ]
    },
    {
      "cell_type": "code",
      "source": [
        "# open the file using pandas\n",
        "\n",
        "df_aj = pd.read_csv(aj_word_file)\n",
        "df_aj.head()"
      ],
      "metadata": {
        "colab": {
          "base_uri": "https://localhost:8080/",
          "height": 204
        },
        "id": "pS4Ab2GHJn-D",
        "outputId": "52b0973d-8fd8-4a9e-87dd-a1dfdae5cb1f"
      },
      "execution_count": null,
      "outputs": [
        {
          "output_type": "execute_result",
          "data": {
            "text/plain": [
              "     id                                           document\n",
              "0  aj_1  pope renews call for gaza ceasefire , release ...\n",
              "1  aj_2  biden is still the best us president israel co...\n",
              "2  aj_3  israeli air strikes continue across gaza as tr...\n",
              "3  aj_4  police remove pro - palestinian students from ...\n",
              "4  aj_5  mass graves found at southern gaza hospital ra..."
            ],
            "text/html": [
              "\n",
              "  <div id=\"df-a4cb4c58-0bd2-4499-839d-72ba499a1570\" class=\"colab-df-container\">\n",
              "    <div>\n",
              "<style scoped>\n",
              "    .dataframe tbody tr th:only-of-type {\n",
              "        vertical-align: middle;\n",
              "    }\n",
              "\n",
              "    .dataframe tbody tr th {\n",
              "        vertical-align: top;\n",
              "    }\n",
              "\n",
              "    .dataframe thead th {\n",
              "        text-align: right;\n",
              "    }\n",
              "</style>\n",
              "<table border=\"1\" class=\"dataframe\">\n",
              "  <thead>\n",
              "    <tr style=\"text-align: right;\">\n",
              "      <th></th>\n",
              "      <th>id</th>\n",
              "      <th>document</th>\n",
              "    </tr>\n",
              "  </thead>\n",
              "  <tbody>\n",
              "    <tr>\n",
              "      <th>0</th>\n",
              "      <td>aj_1</td>\n",
              "      <td>pope renews call for gaza ceasefire , release ...</td>\n",
              "    </tr>\n",
              "    <tr>\n",
              "      <th>1</th>\n",
              "      <td>aj_2</td>\n",
              "      <td>biden is still the best us president israel co...</td>\n",
              "    </tr>\n",
              "    <tr>\n",
              "      <th>2</th>\n",
              "      <td>aj_3</td>\n",
              "      <td>israeli air strikes continue across gaza as tr...</td>\n",
              "    </tr>\n",
              "    <tr>\n",
              "      <th>3</th>\n",
              "      <td>aj_4</td>\n",
              "      <td>police remove pro - palestinian students from ...</td>\n",
              "    </tr>\n",
              "    <tr>\n",
              "      <th>4</th>\n",
              "      <td>aj_5</td>\n",
              "      <td>mass graves found at southern gaza hospital ra...</td>\n",
              "    </tr>\n",
              "  </tbody>\n",
              "</table>\n",
              "</div>\n",
              "    <div class=\"colab-df-buttons\">\n",
              "\n",
              "  <div class=\"colab-df-container\">\n",
              "    <button class=\"colab-df-convert\" onclick=\"convertToInteractive('df-a4cb4c58-0bd2-4499-839d-72ba499a1570')\"\n",
              "            title=\"Convert this dataframe to an interactive table.\"\n",
              "            style=\"display:none;\">\n",
              "\n",
              "  <svg xmlns=\"http://www.w3.org/2000/svg\" height=\"24px\" viewBox=\"0 -960 960 960\">\n",
              "    <path d=\"M120-120v-720h720v720H120Zm60-500h600v-160H180v160Zm220 220h160v-160H400v160Zm0 220h160v-160H400v160ZM180-400h160v-160H180v160Zm440 0h160v-160H620v160ZM180-180h160v-160H180v160Zm440 0h160v-160H620v160Z\"/>\n",
              "  </svg>\n",
              "    </button>\n",
              "\n",
              "  <style>\n",
              "    .colab-df-container {\n",
              "      display:flex;\n",
              "      gap: 12px;\n",
              "    }\n",
              "\n",
              "    .colab-df-convert {\n",
              "      background-color: #E8F0FE;\n",
              "      border: none;\n",
              "      border-radius: 50%;\n",
              "      cursor: pointer;\n",
              "      display: none;\n",
              "      fill: #1967D2;\n",
              "      height: 32px;\n",
              "      padding: 0 0 0 0;\n",
              "      width: 32px;\n",
              "    }\n",
              "\n",
              "    .colab-df-convert:hover {\n",
              "      background-color: #E2EBFA;\n",
              "      box-shadow: 0px 1px 2px rgba(60, 64, 67, 0.3), 0px 1px 3px 1px rgba(60, 64, 67, 0.15);\n",
              "      fill: #174EA6;\n",
              "    }\n",
              "\n",
              "    .colab-df-buttons div {\n",
              "      margin-bottom: 4px;\n",
              "    }\n",
              "\n",
              "    [theme=dark] .colab-df-convert {\n",
              "      background-color: #3B4455;\n",
              "      fill: #D2E3FC;\n",
              "    }\n",
              "\n",
              "    [theme=dark] .colab-df-convert:hover {\n",
              "      background-color: #434B5C;\n",
              "      box-shadow: 0px 1px 3px 1px rgba(0, 0, 0, 0.15);\n",
              "      filter: drop-shadow(0px 1px 2px rgba(0, 0, 0, 0.3));\n",
              "      fill: #FFFFFF;\n",
              "    }\n",
              "  </style>\n",
              "\n",
              "    <script>\n",
              "      const buttonEl =\n",
              "        document.querySelector('#df-a4cb4c58-0bd2-4499-839d-72ba499a1570 button.colab-df-convert');\n",
              "      buttonEl.style.display =\n",
              "        google.colab.kernel.accessAllowed ? 'block' : 'none';\n",
              "\n",
              "      async function convertToInteractive(key) {\n",
              "        const element = document.querySelector('#df-a4cb4c58-0bd2-4499-839d-72ba499a1570');\n",
              "        const dataTable =\n",
              "          await google.colab.kernel.invokeFunction('convertToInteractive',\n",
              "                                                    [key], {});\n",
              "        if (!dataTable) return;\n",
              "\n",
              "        const docLinkHtml = 'Like what you see? Visit the ' +\n",
              "          '<a target=\"_blank\" href=https://colab.research.google.com/notebooks/data_table.ipynb>data table notebook</a>'\n",
              "          + ' to learn more about interactive tables.';\n",
              "        element.innerHTML = '';\n",
              "        dataTable['output_type'] = 'display_data';\n",
              "        await google.colab.output.renderOutput(dataTable, element);\n",
              "        const docLink = document.createElement('div');\n",
              "        docLink.innerHTML = docLinkHtml;\n",
              "        element.appendChild(docLink);\n",
              "      }\n",
              "    </script>\n",
              "  </div>\n",
              "\n",
              "\n",
              "<div id=\"df-35a81d56-5256-472b-b64a-9096d54a7344\">\n",
              "  <button class=\"colab-df-quickchart\" onclick=\"quickchart('df-35a81d56-5256-472b-b64a-9096d54a7344')\"\n",
              "            title=\"Suggest charts\"\n",
              "            style=\"display:none;\">\n",
              "\n",
              "<svg xmlns=\"http://www.w3.org/2000/svg\" height=\"24px\"viewBox=\"0 0 24 24\"\n",
              "     width=\"24px\">\n",
              "    <g>\n",
              "        <path d=\"M19 3H5c-1.1 0-2 .9-2 2v14c0 1.1.9 2 2 2h14c1.1 0 2-.9 2-2V5c0-1.1-.9-2-2-2zM9 17H7v-7h2v7zm4 0h-2V7h2v10zm4 0h-2v-4h2v4z\"/>\n",
              "    </g>\n",
              "</svg>\n",
              "  </button>\n",
              "\n",
              "<style>\n",
              "  .colab-df-quickchart {\n",
              "      --bg-color: #E8F0FE;\n",
              "      --fill-color: #1967D2;\n",
              "      --hover-bg-color: #E2EBFA;\n",
              "      --hover-fill-color: #174EA6;\n",
              "      --disabled-fill-color: #AAA;\n",
              "      --disabled-bg-color: #DDD;\n",
              "  }\n",
              "\n",
              "  [theme=dark] .colab-df-quickchart {\n",
              "      --bg-color: #3B4455;\n",
              "      --fill-color: #D2E3FC;\n",
              "      --hover-bg-color: #434B5C;\n",
              "      --hover-fill-color: #FFFFFF;\n",
              "      --disabled-bg-color: #3B4455;\n",
              "      --disabled-fill-color: #666;\n",
              "  }\n",
              "\n",
              "  .colab-df-quickchart {\n",
              "    background-color: var(--bg-color);\n",
              "    border: none;\n",
              "    border-radius: 50%;\n",
              "    cursor: pointer;\n",
              "    display: none;\n",
              "    fill: var(--fill-color);\n",
              "    height: 32px;\n",
              "    padding: 0;\n",
              "    width: 32px;\n",
              "  }\n",
              "\n",
              "  .colab-df-quickchart:hover {\n",
              "    background-color: var(--hover-bg-color);\n",
              "    box-shadow: 0 1px 2px rgba(60, 64, 67, 0.3), 0 1px 3px 1px rgba(60, 64, 67, 0.15);\n",
              "    fill: var(--button-hover-fill-color);\n",
              "  }\n",
              "\n",
              "  .colab-df-quickchart-complete:disabled,\n",
              "  .colab-df-quickchart-complete:disabled:hover {\n",
              "    background-color: var(--disabled-bg-color);\n",
              "    fill: var(--disabled-fill-color);\n",
              "    box-shadow: none;\n",
              "  }\n",
              "\n",
              "  .colab-df-spinner {\n",
              "    border: 2px solid var(--fill-color);\n",
              "    border-color: transparent;\n",
              "    border-bottom-color: var(--fill-color);\n",
              "    animation:\n",
              "      spin 1s steps(1) infinite;\n",
              "  }\n",
              "\n",
              "  @keyframes spin {\n",
              "    0% {\n",
              "      border-color: transparent;\n",
              "      border-bottom-color: var(--fill-color);\n",
              "      border-left-color: var(--fill-color);\n",
              "    }\n",
              "    20% {\n",
              "      border-color: transparent;\n",
              "      border-left-color: var(--fill-color);\n",
              "      border-top-color: var(--fill-color);\n",
              "    }\n",
              "    30% {\n",
              "      border-color: transparent;\n",
              "      border-left-color: var(--fill-color);\n",
              "      border-top-color: var(--fill-color);\n",
              "      border-right-color: var(--fill-color);\n",
              "    }\n",
              "    40% {\n",
              "      border-color: transparent;\n",
              "      border-right-color: var(--fill-color);\n",
              "      border-top-color: var(--fill-color);\n",
              "    }\n",
              "    60% {\n",
              "      border-color: transparent;\n",
              "      border-right-color: var(--fill-color);\n",
              "    }\n",
              "    80% {\n",
              "      border-color: transparent;\n",
              "      border-right-color: var(--fill-color);\n",
              "      border-bottom-color: var(--fill-color);\n",
              "    }\n",
              "    90% {\n",
              "      border-color: transparent;\n",
              "      border-bottom-color: var(--fill-color);\n",
              "    }\n",
              "  }\n",
              "</style>\n",
              "\n",
              "  <script>\n",
              "    async function quickchart(key) {\n",
              "      const quickchartButtonEl =\n",
              "        document.querySelector('#' + key + ' button');\n",
              "      quickchartButtonEl.disabled = true;  // To prevent multiple clicks.\n",
              "      quickchartButtonEl.classList.add('colab-df-spinner');\n",
              "      try {\n",
              "        const charts = await google.colab.kernel.invokeFunction(\n",
              "            'suggestCharts', [key], {});\n",
              "      } catch (error) {\n",
              "        console.error('Error during call to suggestCharts:', error);\n",
              "      }\n",
              "      quickchartButtonEl.classList.remove('colab-df-spinner');\n",
              "      quickchartButtonEl.classList.add('colab-df-quickchart-complete');\n",
              "    }\n",
              "    (() => {\n",
              "      let quickchartButtonEl =\n",
              "        document.querySelector('#df-35a81d56-5256-472b-b64a-9096d54a7344 button');\n",
              "      quickchartButtonEl.style.display =\n",
              "        google.colab.kernel.accessAllowed ? 'block' : 'none';\n",
              "    })();\n",
              "  </script>\n",
              "</div>\n",
              "\n",
              "    </div>\n",
              "  </div>\n"
            ],
            "application/vnd.google.colaboratory.intrinsic+json": {
              "type": "dataframe",
              "variable_name": "df_aj",
              "summary": "{\n  \"name\": \"df_aj\",\n  \"rows\": 599,\n  \"fields\": [\n    {\n      \"column\": \"id\",\n      \"properties\": {\n        \"dtype\": \"string\",\n        \"num_unique_values\": 599,\n        \"samples\": [\n          \"aj_111\",\n          \"aj_420\",\n          \"aj_565\"\n        ],\n        \"semantic_type\": \"\",\n        \"description\": \"\"\n      }\n    },\n    {\n      \"column\": \"document\",\n      \"properties\": {\n        \"dtype\": \"string\",\n        \"num_unique_values\": 599,\n        \"samples\": [\n          \"supreme leader khamenei says iran demonstrated its power against israel Analysts say his comments have dampened fears of an all - out war between Iran and Israel . iran's supreme leader ayatollah ali khamenei has praised the country's armed forces for their \\\" success \\\" after tehran launched an unprecedented direct attack on israel last week .\",\n          \"biden : israel's netanyahu making ' mistake ' on gaza In strongest criticism yet , Biden takes issue with Israel's approach but not its devastating war on Gaza . united states president joe biden has said israeli prime minister benjamin netanyahu is making a \\\" mistake \\\" in his handling of the gaza war and its repercussions inside israel and internationally .\",\n          \"' little gaza ' : mourning loved ones israel killed in west bank refugee camps Israel's attacks in the occupied West Bank have killed both fighters and civilians , and left only destruction behind . tulkarem , occupied west bank \\u2013 \\\" i saw him and i knelt over his body , not knowing what to do . all his face was bloody , full of shrapnel \\u2013 and his leg was cut off . \\\"\"\n        ],\n        \"semantic_type\": \"\",\n        \"description\": \"\"\n      }\n    }\n  ]\n}"
            }
          },
          "metadata": {},
          "execution_count": 7
        }
      ]
    },
    {
      "cell_type": "markdown",
      "source": [
        "We will build our own TF-IDF BM25 algorithm\n",
        "\n",
        "$$\n",
        "f(q, d)=\\sum_{w\\in q\\cap d}{\\frac{(k+1)c(w,d)}{c(w,d) +k\\left(1 - b +b\\cdot \\frac{L_d}{L_{avg}}\\right)}} \\cdot \\log\\left(\\frac{M + 1}{df(w)}\\right)\n",
        "$$\n",
        "\n",
        "$$b\\in[0, 1], k\\in[0, +\\infty)$$\n"
      ],
      "metadata": {
        "id": "ABtfvsE2MLUx"
      }
    },
    {
      "cell_type": "code",
      "source": [
        "import numpy as np\n",
        "import nltk\n",
        "from nltk.corpus import stopwords\n",
        "from nltk.tokenize import word_tokenize"
      ],
      "metadata": {
        "id": "0_NqwImMM8x8"
      },
      "execution_count": null,
      "outputs": []
    },
    {
      "cell_type": "code",
      "source": [
        "nltk.download(\"punkt\")\n",
        "nltk.download(\"stopwords\")\n",
        "nltk.download('punkt_tab')"
      ],
      "metadata": {
        "colab": {
          "base_uri": "https://localhost:8080/"
        },
        "id": "ALVxOGKlN7xe",
        "outputId": "a0673242-30d2-47ef-b44e-d5cab3a60683"
      },
      "execution_count": null,
      "outputs": [
        {
          "output_type": "stream",
          "name": "stderr",
          "text": [
            "[nltk_data] Downloading package punkt to /root/nltk_data...\n",
            "[nltk_data]   Unzipping tokenizers/punkt.zip.\n",
            "[nltk_data] Downloading package stopwords to /root/nltk_data...\n",
            "[nltk_data]   Unzipping corpora/stopwords.zip.\n",
            "[nltk_data] Downloading package punkt_tab to /root/nltk_data...\n",
            "[nltk_data]   Unzipping tokenizers/punkt_tab.zip.\n"
          ]
        },
        {
          "output_type": "execute_result",
          "data": {
            "text/plain": [
              "True"
            ]
          },
          "metadata": {},
          "execution_count": 9
        }
      ]
    },
    {
      "cell_type": "code",
      "source": [
        "corpus = df_aj['document'].tolist()"
      ],
      "metadata": {
        "id": "225nrOA-QPsO"
      },
      "execution_count": null,
      "outputs": []
    },
    {
      "cell_type": "code",
      "source": [
        "# process the corpus according the requirments\n",
        "# remove the stop words from the documents\n",
        "\n",
        "import re\n",
        "\n",
        "stop_words = set(stopwords.words(\"english\"))\n",
        "\n",
        "def process_corpus(corpus):\n",
        "  processed_corpus = []\n",
        "\n",
        "  for doc in corpus:\n",
        "    # Convert to lowercase\n",
        "    doc = doc.lower()\n",
        "    # Remove punctuation\n",
        "    doc = re.sub(r'[^\\w\\s]', '', doc)\n",
        "    # Remove numbers\n",
        "    doc = re.sub(r'\\d+', '', doc)\n",
        "    # Tokenize the document\n",
        "    words = word_tokenize(doc)\n",
        "    # Remove stop words\n",
        "    words = [word for word in words if word not in stopwords.words('english')]\n",
        "    # Join the words back into a string\n",
        "    processed_doc = ' '.join(words)\n",
        "    processed_corpus.append(processed_doc)\n",
        "  return processed_corpus"
      ],
      "metadata": {
        "id": "McNk29LRQxxj"
      },
      "execution_count": null,
      "outputs": []
    },
    {
      "cell_type": "code",
      "source": [
        "# process the corpus\n",
        "\n",
        "processed_corpus = process_corpus(corpus)"
      ],
      "metadata": {
        "id": "YrQjGrukRd9E"
      },
      "execution_count": null,
      "outputs": []
    },
    {
      "cell_type": "code",
      "source": [
        "vocab = set()\n",
        "for doc in processed_corpus:\n",
        "    words = doc.split()\n",
        "    words = [w.lower() for w in words ]\n",
        "    vocab.update(words)\n",
        "\n",
        "# order the set and convert to list\n",
        "vocab = list(vocab)\n",
        "vocab.sort()"
      ],
      "metadata": {
        "id": "kmWRnuJBQV2X"
      },
      "execution_count": null,
      "outputs": []
    },
    {
      "cell_type": "code",
      "source": [
        "def get_vocab(corpus):\n",
        "  vocab = set()\n",
        "  for doc in corpus:\n",
        "    words = doc.split()\n",
        "    words = [w.lower() for w in words ]\n",
        "    vocab.update(words)\n",
        "\n",
        "  vocab = list(vocab)\n",
        "  vocab.sort()\n",
        "  return vocab"
      ],
      "metadata": {
        "id": "N9d0ejvDMdG3"
      },
      "execution_count": null,
      "outputs": []
    },
    {
      "cell_type": "code",
      "source": [
        "print(len(vocab))"
      ],
      "metadata": {
        "colab": {
          "base_uri": "https://localhost:8080/"
        },
        "id": "f6sYsJhsQYhv",
        "outputId": "d5279ec3-4e5f-4c82-fbe8-66f8e961032c"
      },
      "execution_count": null,
      "outputs": [
        {
          "output_type": "stream",
          "name": "stdout",
          "text": [
            "4393\n"
          ]
        }
      ]
    },
    {
      "cell_type": "code",
      "source": [
        "print(vocab)"
      ],
      "metadata": {
        "colab": {
          "base_uri": "https://localhost:8080/"
        },
        "id": "FM6viQ-UQdhg",
        "outputId": "cddbe02a-f7ac-4f6d-cad2-b568dae5e535"
      },
      "execution_count": null,
      "outputs": [
        {
          "output_type": "stream",
          "name": "stdout",
          "text": [
            "['aa', 'abadi', 'abbas', 'abc', 'abdallah', 'abdel', 'abductors', 'abide', 'ability', 'able', 'abound', 'abroad', 'absent', 'absolute', 'abstain', 'abstains', 'abstention', 'absurd', 'abu', 'abuqamar', 'abuse', 'abused', 'abuses', 'abusive', 'academic', 'academics', 'academy', 'accelerated', 'accept', 'accepted', 'accepting', 'accepts', 'access', 'accordance', 'according', 'accountability', 'accounts', 'accusations', 'accuse', 'accused', 'accuses', 'accusing', 'achieve', 'achieved', 'achieving', 'acknowledge', 'acre', 'acres', 'across', 'act', 'action', 'actions', 'activated', 'activist', 'activists', 'activity', 'acts', 'actually', 'acute', 'add', 'adding', 'addition', 'additional', 'address', 'addressed', 'addresses', 'adds', 'aden', 'adequate', 'adha', 'administration', 'administrations', 'administrative', 'administrators', 'admit', 'admitted', 'adnan', 'adopt', 'adopted', 'advance', 'advances', 'advice', 'adviser', 'advocacy', 'advocates', 'advocating', 'adwan', 'aerial', 'affairs', 'affect', 'affecting', 'afford', 'afghanistan', 'afraid', 'africa', 'african', 'africas', 'aftermath', 'age', 'aged', 'agencies', 'agency', 'aggressive', 'ago', 'agree', 'agreed', 'agreement', 'agrees', 'aharon', 'ahead', 'ahel', 'ahly', 'ai', 'aid', 'aida', 'aided', 'aimed', 'aims', 'aipac', 'air', 'airborne', 'aircraft', 'airdrop', 'aired', 'airport', 'airports', 'airspace', 'aj', 'ajopinion', 'al', 'alaas', 'albanese', 'aleppo', 'alert', 'alerted', 'alex', 'algeria', 'algerian', 'ali', 'aligned', 'alishba', 'alive', 'allah', 'allegation', 'allegations', 'alleged', 'alleges', 'allergic', 'alley', 'alleyesonrafah', 'allied', 'allies', 'allow', 'allowed', 'allows', 'ally', 'almost', 'aloe', 'alone', 'along', 'alongside', 'alonyal', 'already', 'also', 'alternatives', 'although', 'ambassador', 'ambassadors', 'ambiguous', 'ambulance', 'american', 'americans', 'amid', 'ammunition', 'amna', 'amnesty', 'among', 'amos', 'amount', 'amounted', 'amounts', 'amr', 'amsterdam', 'analysis', 'analyst', 'analysts', 'anc', 'ancient', 'andrew', 'andromeda', 'anecdote', 'angeles', 'anger', 'angered', 'angling', 'ankara', 'annihilation', 'anniversary', 'announce', 'announced', 'announcement', 'announces', 'annual', 'another', 'answer', 'answered', 'antagonising', 'anthony', 'anti', 'anticipates', 'anticipating', 'antigovernment', 'antitank', 'antiwar', 'antonio', 'antony', 'anwar', 'anxious', 'anyone', 'anything', 'anywhere', 'ap', 'apocalyptic', 'app', 'apparent', 'apparently', 'appeal', 'appealing', 'appear', 'appearing', 'appears', 'applause', 'application', 'applied', 'applies', 'apply', 'appointed', 'appoints', 'approach', 'approaches', 'appropriate', 'approved', 'approves', 'april', 'aqsa', 'arab', 'arabia', 'arabic', 'arabs', 'arbitrary', 'area', 'areas', 'arent', 'argue', 'argued', 'argues', 'arm', 'armed', 'arming', 'arms', 'army', 'armys', 'arose', 'around', 'arrest', 'arrested', 'arresting', 'arrests', 'arrive', 'arrived', 'arrives', 'arriving', 'arsenal', 'artificial', 'artillery', 'artists', 'asadullah', 'asia', 'asked', 'asking', 'asks', 'asma', 'assassinated', 'assassination', 'assault', 'assaulted', 'assaults', 'assembly', 'assessed', 'assessment', 'assistance', 'assisting', 'assists', 'associated', 'association', 'assurances', 'athens', 'atrocities', 'attack', 'attacked', 'attacking', 'attacks', 'attempt', 'attempted', 'attempts', 'attend', 'attended', 'attention', 'attentively', 'attitudes', 'attracts', 'audacious', 'austin', 'australia', 'australian', 'australias', 'authorises', 'authoritarian', 'authorities', 'authority', 'authoritys', 'authors', 'average', 'avert', 'averting', 'aviv', 'avoid', 'avoids', 'awaited', 'awaiting', 'awards', 'aware', 'away', 'axis', 'ayatollah', 'ayman', 'az', 'baalbek', 'baawi', 'babies', 'baby', 'back', 'backdrop', 'backed', 'backers', 'backing', 'backs', 'backward', 'bad', 'badges', 'badly', 'bags', 'baked', 'balah', 'balance', 'balancing', 'ballads', 'ballot', 'ban', 'bani', 'bank', 'banks', 'banned', 'banners', 'bans', 'baraa', 'barakat', 'barbados', 'barely', 'barghouti', 'barrage', 'barred', 'barrier', 'barth', 'base', 'based', 'bases', 'basic', 'basseres', 'battalion', 'battery', 'battle', 'battled', 'battleground', 'battlegrounds', 'batya', 'baz', 'bears', 'beat', 'beaten', 'beating', 'beatings', 'beautiful', 'beauty', 'became', 'become', 'becomes', 'becoming', 'bed', 'began', 'begged', 'begin', 'beginning', 'begins', 'begun', 'behind', 'beirut', 'beit', 'belgian', 'belgium', 'belgrade', 'believe', 'believed', 'believing', 'belize', 'belongings', 'bench', 'beneath', 'benjamin', 'benny', 'bereavement', 'berlin', 'berlins', 'besieged', 'besieges', 'best', 'bethlehem', 'bewildered', 'beyond', 'bezalel', 'bias', 'bid', 'biden', 'bidens', 'big', 'bigger', 'biggest', 'bilateral', 'bill', 'billie', 'billions', 'bills', 'binding', 'bipartisan', 'birth', 'birthed', 'bit', 'black', 'blames', 'blaming', 'blank', 'blast', 'blasts', 'bleeding', 'blindsided', 'blinken', 'blinks', 'block', 'blockade', 'blockaded', 'blocked', 'blocking', 'blockout', 'blocks', 'bloodbath', 'bloodied', 'bloody', 'blow', 'bn', 'boats', 'bodies', 'body', 'bogota', 'boiling', 'bomb', 'bombarded', 'bombarding', 'bombardment', 'bombed', 'bombing', 'bombings', 'bombs', 'booed', 'boos', 'border', 'borders', 'born', 'bosnian', 'bostons', 'bound', 'boundary', 'bowman', 'boy', 'boycott', 'boycotting', 'boycotts', 'boys', 'brace', 'brands', 'brave', 'bravery', 'breached', 'bread', 'break', 'breakdown', 'breaking', 'breaks', 'bridge', 'bridges', 'brief', 'briefly', 'brigades', 'bring', 'bringing', 'brings', 'brink', 'britains', 'british', 'britons', 'broadcast', 'broadcaster', 'broadcasters', 'broadcasting', 'broke', 'broken', 'broker', 'brokered', 'brooklyn', 'brother', 'brought', 'brown', 'brussels', 'brutal', 'budget', 'buffer', 'build', 'building', 'buildings', 'builds', 'built', 'bulldoze', 'bulldozed', 'bulldozer', 'bureau', 'bureaucracy', 'bureij', 'burial', 'burials', 'buried', 'burlington', 'burned', 'burning', 'bursh', 'bury', 'busiest', 'businesses', 'busy', 'buy', 'buys', 'cabinet', 'cabinets', 'cable', 'cages', 'cairo', 'calamity', 'calculates', 'calculus', 'calendar', 'calibre', 'california', 'call', 'called', 'calling', 'calls', 'calm', 'cambridge', 'came', 'camera', 'cameron', 'camp', 'campaign', 'campaigners', 'campaigning', 'camps', 'campus', 'campuses', 'canada', 'canadas', 'canadian', 'cancel', 'cancelled', 'cancels', 'cancer', 'candidate', 'candidates', 'capabilities', 'capable', 'capacity', 'cape', 'capital', 'captive', 'captives', 'captured', 'captures', 'car', 'care', 'career', 'carefully', 'cargo', 'carnage', 'carnival', 'carried', 'carrier', 'carries', 'carry', 'carrying', 'cartoned', 'case', 'cases', 'cash', 'cast', 'casualties', 'catastrophic', 'catholic', 'cattle', 'caught', 'cause', 'caused', 'causing', 'ccny', 'cease', 'ceasefire', 'cecilia', 'celebrate', 'celebrates', 'celebrating', 'celebrations', 'celebrities', 'center', 'central', 'centre', 'centred', 'centres', 'centrist', 'ceremonies', 'ceremony', 'certain', 'cessation', 'challenge', 'challenged', 'challenges', 'challenging', 'champions', 'change', 'changed', 'changes', 'channel', 'chant', 'chanted', 'chanting', 'chants', 'chaplain', 'charges', 'charismatic', 'charity', 'charitys', 'charlottesville', 'charm', 'charred', 'chasm', 'chatter', 'checking', 'checks', 'cheers', 'cheese', 'chef', 'chemical', 'cheque', 'chicago', 'chief', 'child', 'children', 'childrens', 'china', 'chinas', 'choked', 'choose', 'chord', 'chose', 'chris', 'christian', 'christians', 'cia', 'circulated', 'circumstances', 'cited', 'cites', 'cities', 'citing', 'citizen', 'citizens', 'city', 'citys', 'civil', 'civilian', 'civilians', 'claim', 'claimed', 'claiming', 'claims', 'clambering', 'clash', 'clashes', 'classes', 'cleansing', 'clear', 'cleared', 'clearly', 'clears', 'climate', 'climbing', 'clinic', 'clinical', 'clip', 'clock', 'close', 'closed', 'closer', 'closes', 'closure', 'clout', 'club', 'clutch', 'co', 'coal', 'coalition', 'coalitions', 'coast', 'coastal', 'coexistence', 'coi', 'coined', 'cold', 'collapse', 'collapsed', 'collapsing', 'colleagues', 'collective', 'college', 'colombia', 'colombias', 'colonial', 'colonising', 'columbia', 'columbias', 'combat', 'come', 'comedian', 'comes', 'comforting', 'coming', 'command', 'commander', 'commemorates', 'commencement', 'comment', 'comments', 'commercial', 'commission', 'commitment', 'committed', 'committee', 'committing', 'communications', 'communities', 'community', 'companies', 'companion', 'compared', 'comparison', 'complaints', 'complete', 'completely', 'complex', 'complicit', 'complicity', 'component', 'components', 'compound', 'comprised', 'comprising', 'compromise', 'concern', 'concerned', 'concerns', 'concluded', 'concludes', 'concrete', 'condemn', 'condemnation', 'condemned', 'condemning', 'condemns', 'condition', 'conditions', 'conduct', 'conducted', 'conference', 'confident', 'confidential', 'confirm', 'confirmation', 'confirmed', 'conflating', 'conflict', 'conflicting', 'conflicts', 'confrontations', 'confronted', 'confronting', 'confusion', 'congress', 'congressional', 'congressman', 'congresss', 'conquering', 'conscience', 'conscription', 'consensus', 'consequences', 'conservative', 'considered', 'considering', 'considers', 'consistent', 'consistently', 'constantly', 'constituency', 'consulate', 'contacts', 'container', 'containing', 'contending', 'contentious', 'contest', 'context', 'continue', 'continued', 'continues', 'continuing', 'contract', 'contractors', 'contradicts', 'control', 'controls', 'convention', 'conventions', 'convoy', 'convoys', 'convulsed', 'cooks', 'coordinated', 'coordinates', 'coordinating', 'coordination', 'coordinator', 'cop', 'cope', 'cops', 'coral', 'core', 'corps', 'corrected', 'correctness', 'correspondent', 'corridor', 'cosh', 'cost', 'could', 'couldnt', 'council', 'councils', 'counter', 'counterattack', 'counterpart', 'countless', 'countries', 'country', 'countrys', 'couple', 'coupled', 'courage', 'court', 'courtrooms', 'courts', 'courtyard', 'cousin', 'cover', 'coverage', 'covered', 'crack', 'crackdown', 'cracked', 'create', 'created', 'creating', 'creation', 'creator', 'credible', 'crew', 'crews', 'cries', 'crime', 'crimes', 'criminal', 'crippled', 'crises', 'crisis', 'critic', 'critical', 'criticised', 'criticises', 'criticism', 'critics', 'cross', 'crossed', 'crosses', 'crossfire', 'crossing', 'crossings', 'crowd', 'crowded', 'crowds', 'crucial', 'crutch', 'cry', 'culture', 'cuny', 'current', 'currently', 'custody', 'cut', 'cutoff', 'cuts', 'cutting', 'cyberspace', 'cycles', 'cyprus', 'cypruss', 'cyril', 'da', 'dad', 'dahdouh', 'daily', 'damage', 'damaged', 'damages', 'damascus', 'dampened', 'dana', 'dancing', 'danger', 'dangerous', 'dangers', 'daniel', 'daqqa', 'dark', 'darkness', 'dartmouth', 'darwish', 'darwishs', 'data', 'date', 'daughter', 'david', 'day', 'days', 'dc', 'dcs', 'de', 'dead', 'deadliest', 'deadline', 'deadlocked', 'deadly', 'deal', 'deals', 'death', 'deaths', 'debate', 'debated', 'debris', 'decade', 'decades', 'december', 'decided', 'deciding', 'decimated', 'decimation', 'decision', 'decisions', 'decisive', 'declarations', 'declare', 'declared', 'declaring', 'decline', 'declined', 'decry', 'deem', 'deemed', 'deepen', 'deepens', 'deeper', 'deepest', 'deeply', 'defeat', 'defeating', 'defence', 'defences', 'defend', 'defended', 'defending', 'defends', 'defense', 'defiant', 'defied', 'defies', 'defuse', 'defusing', 'deir', 'delay', 'delays', 'delegates', 'delegation', 'delegations', 'deliberate', 'deliberately', 'deliver', 'delivered', 'deliveries', 'delivering', 'delivers', 'delivery', 'delusions', 'demand', 'demanding', 'demands', 'democrat', 'democratic', 'democrats', 'demolishing', 'demonising', 'demonstrate', 'demonstrated', 'demonstrating', 'demonstration', 'demonstrations', 'demonstrator', 'demonstrators', 'denied', 'denounce', 'denounced', 'denouncing', 'densely', 'dentistry', 'denying', 'depart', 'department', 'departments', 'departures', 'dependent', 'deployed', 'deportation', 'depriving', 'deputy', 'derail', 'describe', 'described', 'describes', 'describing', 'designated', 'designed', 'desk', 'desperate', 'desperately', 'desperation', 'despite', 'destroy', 'destroyed', 'destroying', 'destruction', 'destructive', 'detailed', 'details', 'detained', 'detainee', 'detainees', 'detaining', 'detention', 'detentions', 'deteriorate', 'determination', 'determined', 'detonated', 'deutsch', 'devastated', 'devastates', 'devastating', 'devastation', 'developed', 'development', 'developments', 'devices', 'devoted', 'diagnosed', 'diaspora', 'dictatorial', 'didnt', 'die', 'died', 'dies', 'difference', 'different', 'differentiate', 'dig', 'digital', 'dilemma', 'diplomat', 'diplomatic', 'dire', 'direct', 'director', 'disabled', 'disagree', 'disappoint', 'disapproval', 'disaster', 'disastrous', 'disbanded', 'disbursed', 'disbursement', 'discourse', 'discover', 'discovered', 'discovery', 'discrimination', 'discuss', 'discussed', 'discusses', 'discussing', 'disease', 'disengagement', 'dish', 'disillusioned', 'dismantle', 'dismantled', 'dispersal', 'disperse', 'dispersed', 'displaced', 'displacement', 'displaces', 'display', 'displeasure', 'disproportionate', 'disrupted', 'dissect', 'dissolved', 'dissolves', 'distraction', 'distracts', 'distribution', 'diverse', 'divert', 'diverting', 'divest', 'divestment', 'divide', 'divided', 'dividing', 'dock', 'doctor', 'doctors', 'document', 'documents', 'doesnt', 'doha', 'dohas', 'dollars', 'dome', 'domestic', 'donald', 'donate', 'done', 'dont', 'doomed', 'dotted', 'doubled', 'doubt', 'doused', 'downed', 'downplays', 'dozens', 'dr', 'draft', 'drafted', 'drag', 'dragged', 'dragging', 'drainage', 'dramatic', 'draw', 'drawing', 'drawn', 'draws', 'dream', 'dreams', 'drew', 'drive', 'driven', 'drives', 'driving', 'drone', 'drones', 'dropped', 'drown', 'drowned', 'drums', 'due', 'duration', 'dutch', 'duty', 'dwindling', 'dying', 'détente', 'earlier', 'early', 'earth', 'east', 'easter', 'eastern', 'eat', 'eating', 'echoes', 'eco', 'economic', 'ecosystem', 'editor', 'education', 'effect', 'effective', 'effectively', 'efficient', 'effort', 'efforts', 'efrat', 'egypt', 'egyptian', 'egypts', 'eid', 'eide', 'eight', 'eighth', 'eighty', 'eilish', 'el', 'elderly', 'eldest', 'election', 'elections', 'electricity', 'elements', 'elias', 'eligible', 'elijah', 'eliminate', 'eliminating', 'elites', 'ellen', 'else', 'elsewhere', 'embargo', 'embattled', 'emerge', 'emergency', 'emerging', 'emerson', 'emory', 'employ', 'employee', 'employees', 'employer', 'enable', 'enablers', 'enact', 'encamp', 'encampment', 'encampments', 'enclave', 'enclaves', 'encroached', 'end', 'endangerment', 'ended', 'endemic', 'ending', 'endless', 'endorsed', 'endorses', 'enemys', 'energy', 'engage', 'england', 'english', 'ensure', 'enter', 'entered', 'entering', 'enters', 'enthusiastic', 'entire', 'entrepreneur', 'entry', 'enveloping', 'environmental', 'envoy', 'envoys', 'equality', 'equate', 'equipment', 'equivalence', 'erdan', 'erdogan', 'erez', 'eroding', 'errors', 'erupted', 'es', 'escalate', 'escalated', 'escalates', 'escalating', 'escalation', 'escape', 'especially', 'espen', 'essence', 'essential', 'established', 'establishes', 'establishing', 'establishment', 'estate', 'estimated', 'estimates', 'ethnic', 'etna', 'eu', 'europe', 'european', 'eurovision', 'evacuate', 'evacuation', 'evaluating', 'eve', 'even', 'evening', 'event', 'events', 'eventual', 'ever', 'every', 'everyone', 'everything', 'everywhere', 'evidence', 'evident', 'evokes', 'ex', 'exactly', 'exceptionalising', 'excessive', 'exchange', 'exclusive', 'excuses', 'executed', 'executioner', 'executions', 'exemption', 'exercise', 'exert', 'exist', 'expand', 'expanded', 'expanding', 'expands', 'expansion', 'expectations', 'expected', 'expects', 'expelled', 'expense', 'experience', 'experiment', 'expert', 'experts', 'explaining', 'explains', 'explanation', 'explicit', 'explicitly', 'exploiting', 'explosions', 'explosive', 'exponential', 'exports', 'exposed', 'express', 'expressed', 'expresses', 'expressing', 'expression', 'expulsion', 'extend', 'extends', 'extent', 'extermination', 'extra', 'extravaganza', 'extreme', 'eye', 'eyeing', 'eyes', 'f', 'face', 'faced', 'faces', 'facilitate', 'facilitation', 'facilities', 'facility', 'facing', 'factions', 'faculty', 'fail', 'failed', 'failure', 'failures', 'faith', 'falafel', 'fall', 'fallout', 'falls', 'false', 'familiar', 'families', 'family', 'famine', 'famous', 'far', 'farm', 'farrah', 'fast', 'fasting', 'fatal', 'fatalities', 'father', 'fatmeh', 'fattah', 'fault', 'favour', 'favourably', 'favoured', 'favourite', 'fear', 'feared', 'fears', 'features', 'featuring', 'february', 'feed', 'feeding', 'feel', 'feelings', 'feels', 'feinstein', 'fell', 'fellow', 'felt', 'female', 'festival', 'fewer', 'field', 'fields', 'fierce', 'fiery', 'fig', 'fight', 'fighter', 'fighters', 'fighting', 'filed', 'fill', 'filled', 'film', 'filmed', 'filming', 'filmmaker', 'final', 'finally', 'finance', 'find', 'finds', 'fingernails', 'finish', 'finneas', 'fire', 'fired', 'fires', 'fireworks', 'firing', 'firmer', 'firms', 'first', 'fist', 'fitch', 'fitr', 'five', 'fix', 'flag', 'flagged', 'flags', 'flattened', 'fled', 'flee', 'fleeing', 'flies', 'flights', 'floating', 'flooding', 'floor', 'florida', 'flour', 'flow', 'fluent', 'flying', 'fm', 'focus', 'focused', 'folk', 'follow', 'following', 'follows', 'food', 'fool', 'foot', 'footage', 'football', 'footballer', 'footsteps', 'force', 'forced', 'forces', 'forcibly', 'forcing', 'foreign', 'forensic', 'forged', 'forget', 'forgotten', 'fork', 'form', 'formal', 'formalise', 'formally', 'former', 'forth', 'forty', 'forum', 'forward', 'found', 'foundation', 'founder', 'founding', 'four', 'fourth', 'france', 'francesca', 'franchise', 'franchisee', 'francis', 'frantic', 'fraught', 'free', 'freed', 'freedom', 'freeze', 'french', 'freshly', 'friction', 'friday', 'friends', 'friendship', 'front', 'fuel', 'fuels', 'full', 'functional', 'fund', 'funded', 'funding', 'funds', 'funeral', 'furious', 'future', 'g', 'gain', 'gala', 'gallant', 'game', 'gantz', 'gantzs', 'gap', 'gas', 'gate', 'gathered', 'gathering', 'gave', 'gaza', 'gazas', 'gears', 'gender', 'general', 'generals', 'generated', 'generation', 'generational', 'generosity', 'genocidaires', 'genocidal', 'genocide', 'george', 'georgetown', 'georgias', 'german', 'germany', 'germanys', 'get', 'gets', 'getting', 'ghaben', 'ghassan', 'ghazi', 'ghent', 'ghoul', 'ghouls', 'gilad', 'gillan', 'gillian', 'girl', 'girls', 'give', 'given', 'gives', 'giving', 'global', 'globally', 'globe', 'go', 'goal', 'goals', 'goes', 'going', 'goldberg', 'golden', 'gone', 'good', 'goodbye', 'goods', 'govern', 'governed', 'governing', 'government', 'governments', 'governorate', 'govt', 'graduate', 'graduation', 'granberg', 'grandchildren', 'grandpa', 'grandparents', 'grant', 'graphics', 'gratitude', 'grave', 'graves', 'graveyard', 'great', 'greater', 'greece', 'greeces', 'greek', 'greenberg', 'greenlighted', 'greenpeace', 'greeting', 'greta', 'grief', 'grocer', 'gross', 'ground', 'grounds', 'group', 'groups', 'grove', 'grow', 'growing', 'grown', 'grows', 'growth', 'guantanamo', 'guard', 'guards', 'guest', 'guide', 'guides', 'guillotine', 'guilty', 'gulf', 'gunfire', 'guns', 'gustavo', 'guterres', 'gw', 'habbariyeh', 'hagari', 'haifa', 'haitham', 'hajj', 'half', 'halfway', 'haliva', 'hall', 'halls', 'halt', 'halted', 'halts', 'hamas', 'hamass', 'hamdan', 'hamilton', 'hammad', 'hammer', 'hampered', 'hampering', 'hanan', 'hand', 'handed', 'handling', 'hands', 'hanging', 'hani', 'haniyeh', 'haniyehs', 'hanna', 'hanoi', 'hanois', 'hanoon', 'happen', 'happened', 'happening', 'harass', 'harassment', 'hardliners', 'hardship', 'harm', 'harming', 'harms', 'haroon', 'harris', 'harriss', 'harsh', 'harsher', 'harvard', 'hashemite', 'hasnt', 'hassan', 'hate', 'hateful', 'hauled', 'haunt', 'havent', 'hawwash', 'hayya', 'head', 'headed', 'heading', 'healing', 'health', 'healthcare', 'hear', 'heard', 'hearing', 'heart', 'heartbroken', 'heartening', 'heaviest', 'heavily', 'heavy', 'heba', 'hebrew', 'hebron', 'heckle', 'heckled', 'heckler', 'heckling', 'hectares', 'heeded', 'hefets', 'heifers', 'heightened', 'heinous', 'held', 'helicopter', 'helicopters', 'help', 'helped', 'helping', 'hemmed', 'heres', 'heritage', 'hersh', 'hes', 'hezbollah', 'hezbollahs', 'hidden', 'hide', 'high', 'highest', 'highlighted', 'highway', 'highways', 'hill', 'hills', 'hind', 'hinder', 'historic', 'historical', 'historically', 'history', 'hit', 'hits', 'hitting', 'hochstein', 'hodeidahs', 'hold', 'holding', 'holds', 'holiday', 'hollen', 'hollingworth', 'hollywood', 'holocaust', 'holy', 'homaid', 'homaids', 'home', 'homes', 'hometown', 'honest', 'hood', 'hope', 'hoped', 'hopeful', 'hopes', 'hoping', 'hormuz', 'horrific', 'horrified', 'horror', 'horrors', 'hospital', 'hospitals', 'hostage', 'hostages', 'hostile', 'hostilities', 'hour', 'hours', 'house', 'housing', 'houthi', 'houthis', 'however', 'hrw', 'https', 'hub', 'huge', 'human', 'humanitarian', 'humanity', 'humiliating', 'humiliation', 'hundreds', 'hung', 'hunger', 'hungry', 'hurt', 'husam', 'hypocrisy', 'hypocrite', 'ian', 'ibrahimi', 'icc', 'iccs', 'icj', 'identifiable', 'identifying', 'iftar', 'igniting', 'ignore', 'ignored', 'ignoring', 'ii', 'ilerymkqc', 'ill', 'illegal', 'illinois', 'illustrated', 'im', 'image', 'imagery', 'images', 'imaginations', 'immediate', 'immediately', 'immense', 'immigration', 'imminent', 'immovable', 'immune', 'impact', 'impacts', 'impasse', 'impending', 'implemented', 'implicit', 'important', 'imports', 'impose', 'imposed', 'imposes', 'imposing', 'impossible', 'imprisoned', 'improve', 'impunity', 'inability', 'inception', 'incident', 'incitement', 'include', 'includes', 'including', 'inclusion', 'increase', 'increased', 'increases', 'increasing', 'increasingly', 'incursion', 'independent', 'indicate', 'indicated', 'indicates', 'indications', 'indirect', 'indiscriminate', 'indonesia', 'indonesian', 'industry', 'infamous', 'infant', 'infest', 'inflict', 'inflicted', 'influence', 'information', 'infrastructure', 'ingram', 'initial', 'initiative', 'injured', 'injuries', 'inquiry', 'insects', 'insensitive', 'inserting', 'inside', 'insiders', 'insidious', 'insightful', 'insisting', 'insists', 'inspired', 'instead', 'institute', 'institution', 'institutions', 'instructs', 'integration', 'integrity', 'intelligence', 'intense', 'intensification', 'intensified', 'intensifies', 'intensify', 'intensifying', 'intent', 'intentional', 'intentionally', 'intercepted', 'intercepting', 'interest', 'intergenerational', 'interim', 'interior', 'internal', 'international', 'internationally', 'interrupted', 'intervention', 'interview', 'intifada', 'intimidation', 'invade', 'invades', 'invasion', 'invented', 'investigates', 'investigation', 'investigations', 'investigative', 'invisible', 'invitation', 'invitees', 'involved', 'involvement', 'iom', 'iran', 'iranian', 'irans', 'iraq', 'iraqi', 'iraqs', 'ire', 'ireland', 'irgc', 'iris', 'irish', 'iron', 'ironclad', 'irritants', 'irvine', 'isfahan', 'ishaq', 'islamic', 'islams', 'ismail', 'isolating', 'isolation', 'israel', 'israeli', 'israelis', 'israels', 'issa', 'issam', 'issue', 'issued', 'issues', 'istanbul', 'italy', 'items', 'ive', 'jaafrawi', 'jabalia', 'jahangir', 'jail', 'jailed', 'jala', 'jamaal', 'january', 'jared', 'javaid', 'jawdat', 'jazeera', 'jazeeras', 'jean', 'jeep', 'jeffrey', 'jenin', 'jerry', 'jerusalem', 'jerusalems', 'jet', 'jets', 'jew', 'jewish', 'jews', 'jimmy', 'joe', 'john', 'johnson', 'join', 'joined', 'joining', 'joins', 'joint', 'jones', 'jordan', 'jordans', 'jouda', 'journalist', 'journalists', 'journey', 'joy', 'jr', 'judaism', 'judges', 'july', 'june', 'justice', 'justifies', 'justify', 'kaabna', 'kabash', 'kahlenberg', 'kais', 'kamal', 'kamala', 'kamel', 'karem', 'karim', 'katz', 'keep', 'keeps', 'kelana', 'kept', 'key', 'khalil', 'kham', 'khamenei', 'khan', 'khoudary', 'kibbutz', 'kicked', 'kid', 'kidnappers', 'kids', 'kill', 'killed', 'killers', 'killing', 'killings', 'kills', 'kimmel', 'kind', 'kinds', 'king', 'kingdom', 'kiryat', 'kitchen', 'knelt', 'knesset', 'know', 'knowing', 'knowledge', 'known', 'knows', 'kushner', 'kuwait', 'kuwaiti', 'kwasmi', 'kyriakos', 'labelled', 'labour', 'labyrinth', 'lack', 'lahia', 'lahiya', 'laid', 'lamont', 'land', 'landed', 'landscape', 'lanes', 'language', 'lanka', 'lankan', 'lapd', 'large', 'largely', 'larger', 'largest', 'larnaca', 'last', 'lasting', 'late', 'later', 'latest', 'latimer', 'laud', 'laughing', 'launch', 'launched', 'launches', 'law', 'lawmakers', 'lawn', 'laws', 'lawsuits', 'lawyer', 'lawyers', 'lay', 'laying', 'lazzarini', 'lead', 'leader', 'leaders', 'leadership', 'leading', 'leads', 'leans', 'learn', 'learned', 'learner', 'least', 'leave', 'leaves', 'leaving', 'lebanese', 'lebanon', 'lebanons', 'lecture', 'lecturers', 'led', 'lee', 'leeds', 'lees', 'left', 'leg', 'legal', 'legally', 'legislation', 'legislative', 'legislators', 'lennie', 'less', 'lessons', 'let', 'letter', 'letting', 'level', 'levelled', 'levels', 'liars', 'liberties', 'lie', 'life', 'lifelong', 'lifted', 'lifting', 'light', 'like', 'likely', 'lily', 'limited', 'limiting', 'limits', 'line', 'lines', 'linked', 'links', 'liquid', 'list', 'listed', 'listen', 'listened', 'little', 'live', 'lived', 'lives', 'living', 'lng', 'local', 'locals', 'locations', 'locked', 'london', 'long', 'longer', 'longtime', 'look', 'looking', 'lookout', 'looks', 'looming', 'looms', 'los', 'lose', 'loser', 'loses', 'losing', 'loss', 'losses', 'lost', 'lot', 'lottery', 'louder', 'loved', 'loyalty', 'lucky', 'luis', 'lustick', 'luther', 'lying', 'machinegun', 'madbouly', 'made', 'madrid', 'maghazi', 'maha', 'mahdi', 'mahmoud', 'main', 'mainly', 'mainstream', 'maintain', 'maintained', 'maintaining', 'mainz', 'major', 'majority', 'make', 'makeshift', 'making', 'malaysia', 'malcontents', 'male', 'malnourished', 'malnutrition', 'malta', 'mama', 'man', 'mandate', 'manufacturers', 'manufacturing', 'many', 'maple', 'maqlouba', 'marc', 'march', 'marched', 'marchers', 'marching', 'marginalised', 'mariam', 'mariniellos', 'maritime', 'mark', 'market', 'marking', 'marks', 'martin', 'martyrs', 'marwan', 'masirah', 'masked', 'mass', 'massacre', 'massacring', 'massive', 'matter', 'matters', 'matthew', 'mawasi', 'max', 'may', 'maya', 'mayoral', 'maysoon', 'mazen', 'mcdonalds', 'mcgill', 'meal', 'meals', 'mean', 'meaningful', 'meaningless', 'means', 'meant', 'meanwhile', 'measure', 'measures', 'mechanisms', 'medan', 'media', 'mediation', 'mediator', 'mediators', 'medic', 'medical', 'medicine', 'medics', 'mediterranean', 'meet', 'meeting', 'meetings', 'meets', 'melbourne', 'member', 'members', 'membership', 'memorial', 'memories', 'men', 'menachem', 'mention', 'merchant', 'message', 'messages', 'messina', 'met', 'metal', 'methods', 'metres', 'michael', 'michigan', 'mid', 'middle', 'midst', 'might', 'migration', 'mike', 'miles', 'militarised', 'military', 'militarys', 'milk', 'miller', 'million', 'millions', 'milwaukee', 'mind', 'minimise', 'minimum', 'minister', 'ministers', 'ministry', 'minute', 'mischaracterised', 'missile', 'missiles', 'missing', 'mission', 'mistake', 'mistakenly', 'mistreatment', 'mitotakis', 'mm', 'moath', 'mob', 'mobilisation', 'mocking', 'modern', 'mohammad', 'mohammed', 'molokhia', 'mom', 'moment', 'momentary', 'moments', 'momentum', 'monday', 'monitor', 'month', 'months', 'montreal', 'mood', 'moral', 'morehouse', 'moreno', 'morning', 'mortar', 'mosely', 'mosque', 'mosques', 'mostafa', 'mostly', 'mother', 'mothers', 'motion', 'motions', 'motive', 'mount', 'mounting', 'mourning', 'move', 'moved', 'movement', 'movements', 'moves', 'moving', 'mps', 'mq', 'much', 'mughayyir', 'muhtaseb', 'mujahed', 'mulligan', 'multiple', 'municipal', 'munitions', 'murajaat', 'murder', 'musara', 'music', 'musicians', 'muslim', 'muslims', 'must', 'mustafa', 'mustafas', 'muster', 'muted', 'mv', 'nabahin', 'nada', 'naive', 'naivety', 'nakba', 'named', 'nappies', 'narrative', 'narrow', 'nasrallah', 'nasser', 'nathan', 'nation', 'national', 'nationalist', 'nations', 'nationss', 'nationwide', 'naval', 'navy', 'nbc', 'near', 'nearby', 'nearing', 'nearly', 'necessary', 'necessities', 'need', 'needed', 'needs', 'negative', 'negotiate', 'negotiating', 'negotiation', 'negotiations', 'neighbour', 'neighbourhood', 'neighbourhoods', 'neighbouring', 'neighbours', 'netanyahu', 'netanyahus', 'netherlands', 'network', 'networks', 'netzah', 'neutral', 'never', 'nevertheless', 'new', 'newborn', 'newest', 'newly', 'news', 'newspapers', 'newsweek', 'next', 'ngo', 'ngos', 'nicaragua', 'nicaraguas', 'night', 'nightmare', 'nightmares', 'nine', 'nod', 'non', 'none', 'nonpolitical', 'nonstop', 'north', 'northern', 'northwest', 'norway', 'norwegian', 'notched', 'nothing', 'novel', 'novelist', 'november', 'novembers', 'noy', 'number', 'numbers', 'nur', 'nuseirat', 'nypd', 'object', 'objective', 'objects', 'obligation', 'obligations', 'observe', 'observer', 'observing', 'obsessed', 'obstacle', 'obstructs', 'obtained', 'ocampo', 'occasion', 'occupation', 'occupied', 'occupying', 'oconnell', 'oct', 'october', 'odeh', 'offences', 'offensive', 'offer', 'offering', 'office', 'officer', 'officers', 'official', 'officially', 'officials', 'often', 'ohare', 'oil', 'old', 'one', 'ones', 'ongoing', 'online', 'onslaught', 'onto', 'onus', 'open', 'opened', 'opening', 'operate', 'operated', 'operation', 'operationally', 'operations', 'opinion', 'opponents', 'oppose', 'opposed', 'opposition', 'oppositions', 'option', 'options', 'ordeal', 'ordeals', 'order', 'ordered', 'ordering', 'orders', 'ordinarily', 'organisations', 'organiser', 'organisers', 'organization', 'originally', 'orly', 'orthodox', 'orthopaedics', 'oscars', 'ostensibly', 'ostracising', 'others', 'outcome', 'outcry', 'outlet', 'outlets', 'outlined', 'outlines', 'outposts', 'outrage', 'outraged', 'outrageous', 'outside', 'overambitious', 'overcrowded', 'overflowing', 'overhead', 'overlooking', 'overnight', 'overseas', 'overshadow', 'overshadowed', 'overwhelmingly', 'owen', 'owned', 'owners', 'ownership', 'oxfam', 'oxford', 'pa', 'pacific', 'package', 'packages', 'page', 'pain', 'pained', 'painful', 'paint', 'pakistan', 'pakistani', 'pale', 'pales', 'palestians', 'palestine', 'palestines', 'palestinian', 'palestinians', 'pall', 'panacea', 'panel', 'parade', 'paraded', 'parallels', 'paralyse', 'paramedic', 'paramedics', 'paris', 'pariss', 'parlay', 'parliament', 'parsi', 'part', 'participate', 'participated', 'participation', 'particularly', 'parties', 'partners', 'partnerships', 'parts', 'party', 'partys', 'pass', 'passage', 'passed', 'passes', 'past', 'patel', 'path', 'pathway', 'patient', 'patients', 'patricks', 'patrolling', 'patrols', 'pattern', 'patterns', 'pause', 'pauses', 'pave', 'paves', 'paving', 'pay', 'payment', 'peace', 'peaceful', 'peacemaker', 'peanut', 'pedro', 'peers', 'penalties', 'pennsylvania', 'people', 'peoples', 'pepper', 'percent', 'percentage', 'performance', 'performers', 'perhaps', 'peril', 'period', 'permanent', 'permanently', 'permits', 'perpetuates', 'person', 'personal', 'personnel', 'perspectives', 'pesticide', 'petro', 'phase', 'philadelphi', 'philippe', 'phone', 'phosphorous', 'phosphorus', 'photo', 'photos', 'phrase', 'phrases', 'physically', 'physicians', 'physics', 'pictures', 'piece', 'pier', 'piles', 'pilgrimage', 'pin', 'pink', 'pins', 'pivotal', 'placards', 'place', 'placed', 'places', 'plague', 'plan', 'planck', 'plane', 'planes', 'planned', 'planning', 'plans', 'plants', 'plastic', 'plausible', 'plausibly', 'played', 'player', 'players', 'playing', 'plea', 'pleading', 'please', 'pleased', 'pledge', 'pledged', 'pledges', 'plight', 'plummeted', 'plummets', 'pm', 'po', 'podium', 'poems', 'poet', 'poetic', 'point', 'points', 'poland', 'police', 'policies', 'policing', 'policy', 'polin', 'polio', 'polish', 'political', 'politician', 'politicians', 'politics', 'poll', 'polls', 'pomegranate', 'poor', 'pope', 'popular', 'populated', 'population', 'populations', 'port', 'ports', 'pose', 'posed', 'poses', 'position', 'positions', 'positive', 'possession', 'possibility', 'possible', 'post', 'posts', 'potential', 'potentially', 'pound', 'pounds', 'power', 'powerful', 'powers', 'pr', 'practical', 'praised', 'prayer', 'prayers', 'precise', 'premature', 'premieres', 'preparation', 'preparations', 'prepare', 'prepares', 'preparing', 'present', 'preserving', 'president', 'presidential', 'presidents', 'press', 'pressed', 'presses', 'pressure', 'pressured', 'pressures', 'presumably', 'prevail', 'prevent', 'preventing', 'prices', 'pricing', 'prides', 'primary', 'prime', 'principal', 'principally', 'priority', 'prison', 'prisoner', 'prisoners', 'prisons', 'private', 'privileges', 'prized', 'pro', 'probe', 'problems', 'process', 'produced', 'products', 'professor', 'professors', 'programme', 'programmes', 'progress', 'progressive', 'prohibit', 'projectiles', 'prominent', 'promise', 'promised', 'promises', 'promising', 'promote', 'prompting', 'prompts', 'pronounced', 'propaganda', 'property', 'proportion', 'proposal', 'proposals', 'propose', 'proposed', 'prosecute', 'prosecution', 'prosecutor', 'prosecutors', 'prospective', 'prospects', 'protect', 'protection', 'protest', 'protested', 'protester', 'protesters', 'protesting', 'protests', 'provide', 'provided', 'provides', 'province', 'provisions', 'provocative', 'provoke', 'psychic', 'psychological', 'psychotherapy', 'public', 'publicly', 'published', 'pulled', 'pulley', 'pulls', 'pummelled', 'punched', 'punches', 'punish', 'punishment', 'punishments', 'punk', 'push', 'pushed', 'pushes', 'pushing', 'put', 'putra', 'puts', 'pyjamas', 'qaddourah', 'qafisheh', 'qassam', 'qatar', 'qatari', 'qatars', 'qeeq', 'qualified', 'quarter', 'quds', 'question', 'questioned', 'questioning', 'questions', 'quickly', 'quite', 'quo', 'rabbi', 'race', 'racial', 'racism', 'racist', 'radwan', 'raels', 'rafah', 'rafahs', 'raged', 'rages', 'raging', 'raid', 'raided', 'raiding', 'raids', 'raise', 'raised', 'raises', 'raising', 'raja', 'raji', 'rallied', 'rallies', 'rally', 'ramadan', 'ramallah', 'ramaphosa', 'ramming', 'ramp', 'rampage', 'ramy', 'range', 'rapporteur', 'rapporteurs', 'rare', 'rating', 'ratings', 'rats', 'ravaged', 'reach', 'reached', 'reaches', 'reaching', 'reaction', 'reacts', 'read', 'reading', 'ready', 'reagans', 'real', 'realised', 'realising', 'realities', 'really', 'reaper', 'reappointed', 'reappoints', 'reason', 'reasonable', 'reasons', 'reassess', 'reassessment', 'rebuilding', 'rebukes', 'recall', 'received', 'receives', 'receiving', 'recent', 'recep', 'recognise', 'recognised', 'recognises', 'recognising', 'recognition', 'recommending', 'reconsider', 'reconstruction', 'record', 'recount', 'recounts', 'recover', 'recovered', 'recovering', 'red', 'reefs', 'reflect', 'reflected', 'reflecting', 'reform', 'refuge', 'refugee', 'refugees', 'refusal', 'refused', 'refusing', 'refute', 'regimes', 'region', 'regional', 'regular', 'rehabilitation', 'rein', 'reinforced', 'reinforcing', 'reinstalled', 'reiterates', 'reiterating', 'reject', 'rejected', 'rejecting', 'rejection', 'rejects', 'related', 'relating', 'relations', 'relationship', 'relationships', 'relatively', 'relatives', 'release', 'released', 'relentless', 'relevant', 'reliable', 'reliant', 'relied', 'relief', 'religion', 'religious', 'reliving', 'reluctance', 'rely', 'remain', 'remainder', 'remained', 'remaining', 'remains', 'remarks', 'remember', 'remembered', 'remembering', 'remembrance', 'reminded', 'removal', 'remove', 'removed', 'renamed', 'rendered', 'rendering', 'renewed', 'renews', 'reopen', 'reopening', 'repatriated', 'repeated', 'repeatedly', 'repeats', 'repercussions', 'report', 'reported', 'reportedly', 'reporter', 'reporters', 'reporting', 'reports', 'represent', 'representative', 'representatives', 'represents', 'republican', 'republicans', 'request', 'requested', 'requests', 'require', 'required', 'requirement', 'rescue', 'rescued', 'rescuers', 'research', 'reshaping', 'resident', 'residential', 'residents', 'resign', 'resignation', 'resigned', 'resigns', 'resilience', 'resist', 'resistance', 'resolution', 'resolutions', 'resort', 'respond', 'responded', 'responding', 'responds', 'response', 'responses', 'responsibility', 'rest', 'restart', 'restaurants', 'resting', 'restore', 'restraint', 'restrict', 'restrictions', 'restricts', 'result', 'resulted', 'resulting', 'resume', 'resumes', 'resuming', 'retaliate', 'retaliation', 'retaliatory', 'retrieve', 'retrieved', 'return', 'returned', 'returns', 'reuters', 'reveal', 'revealed', 'revenge', 'revenues', 'review', 'reviewing', 'revisiting', 'revive', 'revived', 'revoked', 'revokes', 'revolutionary', 'rhetoric', 'ridiculous', 'rift', 'right', 'rights', 'rios', 'riot', 'ripped', 'ripple', 'rise', 'risen', 'rises', 'rising', 'risk', 'risked', 'risking', 'risks', 'rival', 'river', 'road', 'roads', 'roadside', 'rock', 'rocket', 'rockets', 'role', 'rolled', 'rolls', 'ronald', 'rooftops', 'rotting', 'roughly', 'rouh', 'round', 'roundabout', 'rounds', 'route', 'rubbish', 'rubble', 'rubymar', 'ruffalo', 'ruined', 'ruins', 'rule', 'rules', 'ruling', 'run', 'running', 'runs', 'rushed', 'russia', 'russian', 'rwanda', 'sabreen', 'sachs', 'sacrifice', 'sad', 'sadaqa', 'saddened', 'safe', 'safer', 'safety', 'said', 'saied', 'saif', 'sailors', 'sake', 'saleem', 'salem', 'sales', 'salvoes', 'sanaa', 'sanad', 'sanchez', 'sanction', 'sanctioned', 'sanctions', 'sanctuary', 'sand', 'sanitation', 'saree', 'sargon', 'satellite', 'saturday', 'saturdays', 'saudi', 'save', 'saved', 'saving', 'saw', 'say', 'saying', 'says', 'scale', 'scars', 'scathing', 'scattered', 'scenes', 'scheduled', 'scholars', 'school', 'schooling', 'schools', 'sciences', 'scientist', 'scour', 'scream', 'scrutiny', 'scuffles', 'sea', 'seafarers', 'search', 'searched', 'searches', 'searching', 'sebastia', 'secluded', 'second', 'seconds', 'secretary', 'secretly', 'secure', 'securing', 'security', 'see', 'seeing', 'seek', 'seekers', 'seeking', 'seeks', 'seemed', 'seeming', 'seems', 'seen', 'sees', 'seinfeld', 'seized', 'seizes', 'seizure', 'self', 'sell', 'semitism', 'senator', 'send', 'sending', 'senior', 'sensationalist', 'separate', 'separately', 'separating', 'september', 'serb', 'serbia', 'series', 'serious', 'seriously', 'sersek', 'serve', 'served', 'service', 'services', 'session', 'set', 'sets', 'setting', 'settled', 'settlement', 'settlements', 'settler', 'settlers', 'seven', 'seventh', 'sever', 'several', 'severe', 'severely', 'sexual', 'shaaban', 'shadid', 'shadow', 'shaer', 'shake', 'shameful', 'shaming', 'shamir', 'shams', 'shape', 'shaping', 'share', 'shared', 'shares', 'sharp', 'shati', 'shedding', 'shelled', 'shelling', 'shells', 'shelter', 'sheltering', 'shield', 'shielded', 'shielding', 'shields', 'shifa', 'shift', 'shifted', 'shifting', 'ship', 'shipment', 'shipments', 'shipping', 'ships', 'shmona', 'shocking', 'shoot', 'shoots', 'shop', 'short', 'shortage', 'shortages', 'shot', 'shoulder', 'shoulders', 'shouted', 'shouting', 'show', 'showdown', 'showed', 'showing', 'shown', 'shows', 'shrapnel', 'shrunk', 'shut', 'shutdown', 'shutdowns', 'shutting', 'sicily', 'sick', 'sickness', 'side', 'sides', 'siding', 'siege', 'sieges', 'sight', 'sign', 'signature', 'signed', 'significant', 'signs', 'siham', 'silence', 'similar', 'simultaneously', 'since', 'singing', 'sink', 'sinking', 'sinwar', 'sirens', 'sisi', 'sister', 'sit', 'site', 'sites', 'sits', 'sittah', 'sitting', 'situation', 'six', 'sixth', 'skills', 'skyrocket', 'skyrocketing', 'slam', 'slammed', 'slams', 'sleep', 'slick', 'slogans', 'slovenia', 'slovenias', 'slow', 'slowly', 'small', 'smears', 'smells', 'smile', 'smoking', 'smotrich', 'smotrichs', 'snipers', 'soar', 'social', 'societal', 'society', 'soldier', 'soldiers', 'solidarity', 'solution', 'sombre', 'someone', 'something', 'son', 'song', 'sons', 'soon', 'soraya', 'sort', 'sorties', 'sought', 'sound', 'sounds', 'sourani', 'sources', 'south', 'southeast', 'southern', 'southernmost', 'sovereignty', 'spaces', 'spain', 'spains', 'spanish', 'sparks', 'spawned', 'speak', 'speaker', 'speakers', 'speaking', 'speaks', 'spearheaded', 'special', 'specialty', 'spectators', 'speech', 'spell', 'spend', 'spending', 'spent', 'spirit', 'spoke', 'spokesman', 'spokesmans', 'spokesperson', 'spokeswoman', 'sponsored', 'sport', 'spot', 'spray', 'spraying', 'spread', 'springs', 'spurred', 'spurring', 'spy', 'spying', 'squad', 'square', 'squeezes', 'srebrenica', 'sri', 'st', 'stablise', 'stablised', 'staff', 'staffer', 'staffs', 'stage', 'staged', 'stages', 'staging', 'stalked', 'stall', 'stalled', 'stalling', 'stance', 'stand', 'standing', 'standoff', 'star', 'starbucks', 'stark', 'starmer', 'stars', 'start', 'started', 'starting', 'starvation', 'starve', 'starved', 'starving', 'state', 'stated', 'statehood', 'statements', 'states', 'statess', 'station', 'stationing', 'status', 'staunchest', 'stave', 'stay', 'steadfast', 'steadily', 'steam', 'steers', 'step', 'steps', 'stern', 'stick', 'sticking', 'stifles', 'still', 'stood', 'stop', 'stopped', 'stopping', 'stops', 'stories', 'storm', 'stormed', 'story', 'strain', 'strains', 'strait', 'stranger', 'strap', 'strapped', 'strategies', 'strategy', 'streets', 'stressed', 'stresses', 'stressing', 'strictest', 'strike', 'strikes', 'striking', 'string', 'strip', 'strips', 'strong', 'strongest', 'strongly', 'struck', 'struggle', 'struggling', 'stuck', 'student', 'students', 'studies', 'studying', 'stunning', 'style', 'subject', 'subjected', 'submitted', 'substantial', 'suburban', 'success', 'successful', 'successfully', 'successive', 'sudanis', 'suffered', 'suffering', 'suffers', 'suggest', 'suheila', 'suit', 'sukkar', 'sultan', 'sumatra', 'summer', 'summit', 'sun', 'sunday', 'sunk', 'supplier', 'supplies', 'supply', 'supplying', 'support', 'supporters', 'supporting', 'supportive', 'supports', 'supposed', 'supreme', 'surges', 'surpluses', 'surprise', 'surrey', 'surround', 'surrounding', 'surroundings', 'surveillance', 'survey', 'survival', 'survive', 'survived', 'surviving', 'survivors', 'suspected', 'suspend', 'suspended', 'suspending', 'suspends', 'suspension', 'suspicion', 'sustainable', 'sustained', 'swathes', 'sway', 'sweden', 'sweeping', 'swim', 'swing', 'symbol', 'symbolic', 'symbolism', 'sympathisers', 'syria', 'syrian', 'syrias', 'system', 'systematically', 'systemic', 'systems', 'table', 'tack', 'tackle', 'tactic', 'tactical', 'tactics', 'taiwan', 'tajamaa', 'take', 'takeaways', 'taken', 'takeover', 'takes', 'taking', 'tal', 'talk', 'talked', 'talking', 'talks', 'tank', 'tanker', 'tanks', 'taps', 'target', 'targeted', 'targeting', 'targets', 'targetted', 'tasered', 'tasers', 'task', 'tasked', 'tasneem', 'tat', 'tayyip', 'teach', 'team', 'teams', 'tear', 'tears', 'technologies', 'technology', 'tedros', 'teenager', 'tehran', 'tehrans', 'tel', 'telegraphed', 'televised', 'television', 'tell', 'telling', 'tells', 'temple', 'temporarily', 'temporary', 'tens', 'tense', 'tensions', 'tent', 'tents', 'term', 'terminally', 'terminated', 'terrain', 'terrified', 'terrifying', 'territories', 'territory', 'territorys', 'terror', 'terrorist', 'tess', 'test', 'tests', 'texan', 'texas', 'text', 'th', 'thaer', 'thanks', 'thats', 'theatrics', 'theres', 'theyd', 'theyre', 'theyve', 'thien', 'thing', 'things', 'think', 'third', 'thirds', 'thirst', 'thirteen', 'thorn', 'though', 'thoughts', 'thousands', 'threat', 'threaten', 'threatened', 'threatening', 'threatens', 'threats', 'three', 'thronged', 'throughout', 'throwing', 'thrown', 'throws', 'thunberg', 'thursday', 'thus', 'thwarted', 'thwarts', 'tie', 'tied', 'ties', 'tight', 'tightrope', 'time', 'timeline', 'times', 'tiny', 'tit', 'today', 'todays', 'told', 'toll', 'tone', 'tonnes', 'took', 'tool', 'top', 'tor', 'tore', 'torn', 'torture', 'total', 'tough', 'tour', 'tournament', 'tournaments', 'tout', 'towards', 'tower', 'towered', 'town', 'towns', 'tracking', 'trade', 'traditionally', 'tragedy', 'trail', 'transfer', 'transfers', 'transformed', 'transparent', 'trap', 'trapped', 'trapping', 'trauma', 'travel', 'travelled', 'treatment', 'trees', 'trend', 'trespassing', 'trial', 'tribal', 'tribunal', 'tried', 'tries', 'triestino', 'trigger', 'triggered', 'triggering', 'triggers', 'trilateral', 'trita', 'troopers', 'troops', 'truce', 'trucks', 'true', 'trump', 'trust', 'trusty', 'try', 'trying', 'tucked', 'tuesday', 'tuesdays', 'tulkarem', 'tunisias', 'tunnel', 'turk', 'turkey', 'turkeys', 'turkish', 'turmoil', 'turn', 'turned', 'tusk', 'tv', 'twice', 'twist', 'two', 'types', 'ucla', 'ugly', 'uk', 'ukraine', 'uks', 'ulterior', 'ultimate', 'ultimatum', 'ultra', 'ultranationalist', 'ululating', 'un', 'unable', 'unacceptable', 'unanswered', 'unarmed', 'unbearable', 'unbelievable', 'uncensored', 'uncommitted', 'unconditional', 'uncover', 'uncovered', 'uncovering', 'undated', 'underestimate', 'undergraduate', 'underpin', 'understand', 'understandable', 'unesco', 'unfettered', 'unflinching', 'unfolding', 'unfolds', 'unfreeze', 'unga', 'ungar', 'unhindered', 'unicef', 'unifil', 'unimaginable', 'uninstructed', 'union', 'unions', 'unit', 'unite', 'united', 'units', 'unity', 'universities', 'university', 'universitys', 'unknown', 'unlawful', 'unleashed', 'unlikely', 'unlivable', 'unmarked', 'unprecedented', 'unpublished', 'unravelled', 'unrelenting', 'unrest', 'unrwa', 'unrwas', 'uns', 'unsc', 'unsolvable', 'unspeakable', 'unstoppable', 'untrue', 'unusual', 'unveils', 'unviable', 'unwavering', 'upbringing', 'update', 'updates', 'upfront', 'upgraded', 'upgrades', 'upstart', 'urban', 'urge', 'urged', 'urgency', 'urgent', 'urges', 'urging', 'us', 'usc', 'use', 'used', 'users', 'uses', 'using', 'uss', 'usual', 'ut', 'uttered', 'uva', 'vaccines', 'vague', 'vagueness', 'valuable', 'values', 'van', 'various', 'vary', 'vashem', 'vast', 'vatican', 'vedant', 'vehicle', 'vehicles', 'venue', 'verification', 'vermont', 'version', 'vessel', 'vessels', 'veto', 'vetoed', 'vetoes', 'via', 'vice', 'vicious', 'victims', 'victory', 'video', 'videos', 'vietnam', 'vietnamese', 'vietnams', 'view', 'viewers', 'views', 'vigilante', 'vigilantes', 'village', 'villagers', 'villages', 'violate', 'violated', 'violating', 'violation', 'violations', 'violence', 'violent', 'violently', 'viral', 'virginia', 'virtually', 'visa', 'visas', 'vision', 'visit', 'vital', 'vocally', 'voice', 'voices', 'volcano', 'volker', 'volume', 'volunteer', 'vote', 'voted', 'voters', 'votes', 'vow', 'vowed', 'vows', 'wael', 'wage', 'wages', 'waging', 'waiting', 'wake', 'wales', 'walid', 'walk', 'walked', 'walking', 'want', 'wants', 'war', 'warfare', 'warming', 'warn', 'warned', 'warning', 'warnings', 'warns', 'warplanes', 'warrant', 'warrants', 'wars', 'warship', 'warships', 'wartime', 'wary', 'washington', 'washingtons', 'wasnt', 'watch', 'watchdogs', 'watching', 'water', 'waterfront', 'waters', 'watershed', 'wave', 'wavered', 'waving', 'way', 'ways', 'wck', 'weakness', 'wealthy', 'weapon', 'weaponised', 'weaponry', 'weapons', 'wear', 'weather', 'weaved', 'wednesday', 'wee', 'week', 'weekend', 'weekly', 'weeks', 'weighing', 'welcome', 'welcomed', 'welcomes', 'well', 'wennesland', 'went', 'werent', 'west', 'western', 'wfp', 'wfps', 'whats', 'wheelchair', 'whether', 'whim', 'white', 'whod', 'whole', 'whose', 'wide', 'widely', 'widen', 'widening', 'wider', 'widespread', 'wield', 'wikileaks', 'wildfire', 'willing', 'willingness', 'win', 'windows', 'winds', 'wing', 'wisconsin', 'wisconsins', 'wish', 'withdraw', 'withdrawal', 'withdrawing', 'withdrawn', 'withdraws', 'withdrew', 'withhold', 'withholding', 'within', 'without', 'witnessed', 'witnesses', 'witnessing', 'woes', 'woman', 'womb', 'women', 'womens', 'wonder', 'wont', 'word', 'words', 'wore', 'work', 'worked', 'worker', 'workers', 'working', 'works', 'world', 'worlds', 'worms', 'worried', 'worse', 'worsening', 'worsens', 'worship', 'worshippers', 'worth', 'would', 'wounded', 'wounding', 'wounds', 'wrapped', 'wrath', 'wreath', 'writer', 'writing', 'yad', 'yahya', 'year', 'yearlong', 'yearn', 'years', 'yehuda', 'yemen', 'yemeni', 'yemens', 'yet', 'yoav', 'york', 'yorks', 'young', 'youngest', 'younis', 'youniss', 'youssef', 'youth', 'youtu', 'yusaf', 'yusuf', 'zakaria', 'zawayda', 'zecharia', 'zin', 'zionism', 'zionist', 'zionists', 'zip', 'zone', 'zones']\n"
          ]
        }
      ]
    },
    {
      "cell_type": "markdown",
      "source": [
        "## TF-IDF BM25 Okapi part"
      ],
      "metadata": {
        "id": "d2bFYzAyRzYW"
      }
    },
    {
      "cell_type": "code",
      "source": [
        "import numpy as np\n",
        "\n",
        "# def create_tf_matrix(corpus, vocab, threshold=5):\n",
        "#   n_docs = len(corpus)\n",
        "#   n_terms = len(vocab)\n",
        "\n",
        "#   tf_matrix = np.zeros((n_docs, n_terms)).astype(np.int32)\n",
        "\n",
        "#   for doc_idx, doc in enumerate(corpus):\n",
        "#     words = doc.split()\n",
        "\n",
        "\n",
        "#     for v_idx, v in enumerate(vocab):\n",
        "#       # if the count is lower than threashold don't put it in\n",
        "#       c = words.count(v)\n",
        "#       if c >= threshold:\n",
        "#         tf_matrix[doc_idx, v_idx] = words.count(v)\n",
        "\n",
        "#   return tf_matrix\n",
        "\n",
        "def create_tf_matrix(corpus, vocab, threshold=5):\n",
        "  n_docs = len(corpus)\n",
        "  n_terms = len(vocab)\n",
        "\n",
        "  tf_matrix = np.zeros((n_docs, n_terms)).astype(np.int32)\n",
        "\n",
        "  for doc_idx, doc in enumerate(corpus):\n",
        "    words = doc.split()\n",
        "\n",
        "\n",
        "    for v_idx, v in enumerate(vocab):\n",
        "      # if the count is lower than threashold don't put it in\n",
        "      c = words.count(v)\n",
        "      # Instead of threshold, count all occurrences\n",
        "      # if c >= threshold:\n",
        "      tf_matrix[doc_idx, v_idx] = c # words.count(v)\n",
        "\n",
        "  return tf_matrix\n"
      ],
      "metadata": {
        "id": "qIhocPf8R47m"
      },
      "execution_count": null,
      "outputs": []
    },
    {
      "cell_type": "code",
      "source": [
        "# create the tf matrix\n",
        "\n",
        "tf_matrix = create_tf_matrix(processed_corpus, vocab, threshold=1)"
      ],
      "metadata": {
        "id": "lSqcp1e0StXy"
      },
      "execution_count": null,
      "outputs": []
    },
    {
      "cell_type": "code",
      "source": [
        "# print the matrix as a df with the name of the document and the word from the vocab\n",
        "documents_names = df_aj['id'].tolist()\n",
        "df_tf_matrix = pd.DataFrame(tf_matrix, index=documents_names, columns=vocab)"
      ],
      "metadata": {
        "id": "L8CWYFhBTBEW"
      },
      "execution_count": null,
      "outputs": []
    },
    {
      "cell_type": "code",
      "source": [
        "print(df_tf_matrix.head())"
      ],
      "metadata": {
        "colab": {
          "base_uri": "https://localhost:8080/"
        },
        "id": "bhB4XddHUBcK",
        "outputId": "3f1e2d55-fe87-4f42-d50a-a8da563cd8de"
      },
      "execution_count": null,
      "outputs": [
        {
          "output_type": "stream",
          "name": "stdout",
          "text": [
            "      aa  abadi  abbas  abc  abdallah  abdel  abductors  abide  ability  able  \\\n",
            "aj_1   0      0      0    0         0      0          0      0        0     0   \n",
            "aj_2   0      0      0    0         0      0          0      0        0     0   \n",
            "aj_3   0      0      0    0         0      0          0      0        0     0   \n",
            "aj_4   0      0      0    0         0      0          0      0        0     0   \n",
            "aj_5   0      0      0    0         0      0          0      0        0     0   \n",
            "\n",
            "      ...  zakaria  zawayda  zecharia  zin  zionism  zionist  zionists  zip  \\\n",
            "aj_1  ...        0        0         0    0        0        0         0    0   \n",
            "aj_2  ...        0        0         0    0        0        0         0    0   \n",
            "aj_3  ...        0        0         0    0        0        0         0    0   \n",
            "aj_4  ...        0        0         0    0        0        0         0    0   \n",
            "aj_5  ...        0        0         0    0        0        0         0    0   \n",
            "\n",
            "      zone  zones  \n",
            "aj_1     0      0  \n",
            "aj_2     0      0  \n",
            "aj_3     0      0  \n",
            "aj_4     0      0  \n",
            "aj_5     0      0  \n",
            "\n",
            "[5 rows x 4393 columns]\n"
          ]
        }
      ]
    },
    {
      "cell_type": "code",
      "source": [
        "# create a sparsity matrix from th tf_matrix since most of the data is 0\n",
        "\n",
        "from scipy.sparse import csr_matrix\n",
        "\n",
        "sparsity_matrix = csr_matrix(df_tf_matrix.values)"
      ],
      "metadata": {
        "id": "Gk5ZKY8CTjkY"
      },
      "execution_count": null,
      "outputs": []
    },
    {
      "cell_type": "code",
      "source": [
        "print(sparsity_matrix.shape)\n",
        "print(sparsity_matrix.size)"
      ],
      "metadata": {
        "colab": {
          "base_uri": "https://localhost:8080/"
        },
        "id": "2QYZJD6OUVsc",
        "outputId": "ff84f2e6-0bb6-41b0-bc86-88d66be49d62"
      },
      "execution_count": null,
      "outputs": [
        {
          "output_type": "stream",
          "name": "stdout",
          "text": [
            "(599, 4393)\n",
            "17720\n"
          ]
        }
      ]
    },
    {
      "cell_type": "code",
      "source": [
        "# perform the tf-idf bm25 okapi algorithm on the data\n",
        "\n",
        "def calculate_df(tf_matrix, vocab):\n",
        "    df = {}\n",
        "    for term_idx in range(tf_matrix.shape[1]):\n",
        "        # Check if term_idx is within vocab bounds\n",
        "        if term_idx < len(vocab):\n",
        "            term = vocab[term_idx]  # Get the term from the vocab\n",
        "            # Get the document frequency\n",
        "            # Changed from np.count_nonzero to sum of boolean array\n",
        "            df[term] = np.sum(tf_matrix[:, term_idx] > 0)\n",
        "    return df\n",
        "\n",
        "df = calculate_df(tf_matrix, vocab)"
      ],
      "metadata": {
        "id": "rKz3wUiSUqX2"
      },
      "execution_count": null,
      "outputs": []
    },
    {
      "cell_type": "code",
      "source": [
        "def calculate_avg_doc_len(corpus):\n",
        "    total_len = sum(len(doc.split()) for doc in corpus)\n",
        "    return total_len / len(corpus)\n",
        "\n",
        "L_avg = calculate_avg_doc_len(processed_corpus)"
      ],
      "metadata": {
        "id": "CzpRuJsPVEDa"
      },
      "execution_count": null,
      "outputs": []
    },
    {
      "cell_type": "code",
      "source": [
        "def tfidf_bm25_okapi(tf_matrix, df, L_avg, processed_corpus, vocab, k=1.2, b=0.75):\n",
        "    M = tf_matrix.shape[0]  # Total number of documents\n",
        "\n",
        "    tfidf_matrix = np.zeros_like(tf_matrix, dtype=np.float32)\n",
        "\n",
        "    for doc_idx in range(tf_matrix.shape[0]):\n",
        "        doc_len = len(processed_corpus[doc_idx].split())\n",
        "        for term_idx in range(tf_matrix.shape[1]):\n",
        "            term = vocab[term_idx]\n",
        "            c_wd = tf_matrix[doc_idx, term_idx]  # Term frequency in the document\n",
        "\n",
        "            if c_wd > 0:  # Only calculate if the term is present\n",
        "                idf = np.log((M + 1) / df[term])\n",
        "\n",
        "                numerator = (k + 1) * c_wd\n",
        "                denominator = c_wd + k * (1 - b + b * (doc_len / L_avg))\n",
        "\n",
        "                tfidf_matrix[doc_idx, term_idx] = (numerator / denominator) * idf\n",
        "\n",
        "    return tfidf_matrix\n",
        "\n",
        "tf_idf_matrix = tfidf_bm25_okapi(tf_matrix, df, L_avg, processed_corpus, vocab)"
      ],
      "metadata": {
        "id": "o4UFLjLIVGPX"
      },
      "execution_count": null,
      "outputs": []
    },
    {
      "cell_type": "code",
      "source": [
        "df_tfidf_matrix = pd.DataFrame(tf_idf_matrix, index=documents_names, columns=vocab)"
      ],
      "metadata": {
        "id": "3NRmW7i9VJ-Z"
      },
      "execution_count": null,
      "outputs": []
    },
    {
      "cell_type": "code",
      "source": [
        "# save the df_tfidf_matrix into a file called tfidf_aj.csv\n",
        "\n",
        "df_tfidf_matrix.to_csv(\"tfidf_aj.csv\")"
      ],
      "metadata": {
        "id": "qWd1zGUyVPVq"
      },
      "execution_count": null,
      "outputs": []
    },
    {
      "cell_type": "code",
      "source": [
        "# convert to spasiti matrix\n",
        "\n",
        "sparsity_matrix_tfidf = csr_matrix(df_tfidf_matrix.values)"
      ],
      "metadata": {
        "id": "nXC7GcCdVuXc"
      },
      "execution_count": null,
      "outputs": []
    },
    {
      "cell_type": "code",
      "source": [
        "print(sparsity_matrix_tfidf.shape)\n",
        "print(sparsity_matrix_tfidf.size)"
      ],
      "metadata": {
        "colab": {
          "base_uri": "https://localhost:8080/"
        },
        "id": "vppr0HNbVyFH",
        "outputId": "a858eb7e-0f5d-463b-c4cd-a9a916acc946"
      },
      "execution_count": null,
      "outputs": [
        {
          "output_type": "stream",
          "name": "stdout",
          "text": [
            "(599, 4393)\n",
            "17720\n"
          ]
        }
      ]
    },
    {
      "cell_type": "code",
      "source": [
        "def information_gain(tfidf_matrix):\n",
        "    # calculate the entropy of the tfidf matrix\n",
        "    entropy = -tfidf_matrix * np.log2(tfidf_matrix)\n",
        "    entropy = np.sum(entropy, axis=1)\n",
        "    # calculate the entropy of the tfidf matrix\n",
        "    entropy = -tfidf_matrix * np.log2(tfidf_matrix)\n",
        "    entropy = np.sum(entropy, axis=1)\n",
        "    # calculate the information gain\n",
        "    ig = np.sum(entropy) - entropy\n",
        "    return ig\n",
        "\n",
        "\n",
        "def gain_ratio(tfidf_matrix):\n",
        "    # calculate the entropy of the tfidf matrix\n",
        "    entropy = -tfidf_matrix * np.log2(tfidf_matrix)\n",
        "    entropy = np.sum(entropy, axis=1)\n",
        "    # calculate the information gain\n",
        "    ig = np.sum(entropy) - entropy\n",
        "    # calculate the gain ratio\n",
        "    gr = ig / entropy\n",
        "    return gr"
      ],
      "metadata": {
        "id": "u-dCJN8a_9hI"
      },
      "execution_count": null,
      "outputs": []
    },
    {
      "cell_type": "code",
      "source": [
        "# print the top 20 terms using IG and GR\n",
        "\n",
        "ig_values = information_gain(tf_idf_matrix)\n",
        "gr_values = gain_ratio(tf_idf_matrix)\n",
        "\n",
        "# Sort terms by IG and RG in descending order\n",
        "sorted_ig_indices = np.argsort(ig_values)[::-1]  # [::-1] reverses the order (descending)\n",
        "sorted_gr_indices = np.argsort(gr_values)[::-1]\n",
        "\n",
        "# Get the top 20 terms for IG and RG\n",
        "top_20_ig_terms = [vocab[i] for i in sorted_ig_indices[:20]]\n",
        "top_20_gr_terms = [vocab[i] for i in sorted_gr_indices[:20]]\n",
        "\n",
        "print(\"Top 20 terms by Information Gain:\", top_20_ig_terms)\n",
        "print(\"Top 20 terms by Gain Ratio:\", top_20_gr_terms)\n"
      ],
      "metadata": {
        "colab": {
          "base_uri": "https://localhost:8080/"
        },
        "id": "uQMOj23hAByV",
        "outputId": "59d56c37-55bb-481c-c97c-5d23890f838b"
      },
      "execution_count": null,
      "outputs": [
        {
          "output_type": "stream",
          "name": "stdout",
          "text": [
            "Top 20 terms by Information Gain: ['cape', 'answer', 'annual', 'announces', 'announcement', 'announced', 'announce', 'anniversary', 'annihilation', 'ankara', 'angling', 'angered', 'anger', 'angeles', 'anecdote', 'andromeda', 'andrew', 'another', 'answered', 'app']\n",
            "Top 20 terms by Gain Ratio: ['cape', 'answer', 'annual', 'announces', 'announcement', 'announced', 'announce', 'anniversary', 'annihilation', 'ankara', 'angling', 'angered', 'anger', 'angeles', 'anecdote', 'andromeda', 'andrew', 'another', 'answered', 'app']\n"
          ]
        }
      ]
    },
    {
      "cell_type": "markdown",
      "source": [
        "## Saving the data"
      ],
      "metadata": {
        "id": "2JyxU61qWyUa"
      }
    },
    {
      "cell_type": "code",
      "source": [
        "# save the spasity matrix\n",
        "\n",
        "from scipy.sparse import save_npz\n",
        "\n",
        "save_npz(\"sparsity_matrix_tfidf.npz\", sparsity_matrix_tfidf)"
      ],
      "metadata": {
        "id": "PEUTOntYV0Q4"
      },
      "execution_count": null,
      "outputs": []
    },
    {
      "cell_type": "code",
      "source": [
        "# save the vocab\n",
        "\n",
        "with open(\"vocab.txt\", \"w\") as f:\n",
        "    for word in vocab:\n",
        "        f.write(word + \"\\n\")"
      ],
      "metadata": {
        "id": "NGOwkxG_WizI"
      },
      "execution_count": null,
      "outputs": []
    },
    {
      "cell_type": "code",
      "source": [
        "# open the spasity matrix for demonstration purposes\n",
        "\n",
        "from scipy.sparse import load_npz\n",
        "\n",
        "sparsity_matrix_tfidf_save = load_npz(\"sparsity_matrix_tfidf.npz\")"
      ],
      "metadata": {
        "id": "vua-903TV8DS"
      },
      "execution_count": null,
      "outputs": []
    },
    {
      "cell_type": "markdown",
      "source": [
        "## Loading back the data"
      ],
      "metadata": {
        "id": "EfhAlvKEWv9P"
      }
    },
    {
      "cell_type": "code",
      "source": [
        "# load the vocab\n",
        "\n",
        "with open(\"vocab.txt\", \"r\") as f:\n",
        "    vocab_save = f.read().splitlines()"
      ],
      "metadata": {
        "id": "0DmWkZ8IWns1"
      },
      "execution_count": null,
      "outputs": []
    },
    {
      "cell_type": "code",
      "source": [
        "# go back to the original matrix\n",
        "from scipy.sparse import csr_matrix\n",
        "\n",
        "df_sparsity_matrix_tfidf = pd.DataFrame.sparse.from_spmatrix(sparsity_matrix_tfidf_save, columns=vocab_save)\n"
      ],
      "metadata": {
        "id": "dH_npNpaWTI6"
      },
      "execution_count": null,
      "outputs": []
    },
    {
      "cell_type": "code",
      "source": [
        "print(df_sparsity_matrix_tfidf.head())"
      ],
      "metadata": {
        "colab": {
          "base_uri": "https://localhost:8080/"
        },
        "id": "NRbWd7QeWepo",
        "outputId": "474e3318-1e61-4d05-d469-b6036047a6a0"
      },
      "execution_count": null,
      "outputs": [
        {
          "output_type": "stream",
          "name": "stdout",
          "text": [
            "   aa  abadi  abbas  abc  abdallah  abdel  abductors  abide  ability  able  \\\n",
            "0   0      0      0    0         0      0          0      0        0     0   \n",
            "1   0      0      0    0         0      0          0      0        0     0   \n",
            "2   0      0      0    0         0      0          0      0        0     0   \n",
            "3   0      0      0    0         0      0          0      0        0     0   \n",
            "4   0      0      0    0         0      0          0      0        0     0   \n",
            "\n",
            "   ...  zakaria  zawayda  zecharia  zin  zionism  zionist  zionists  zip  \\\n",
            "0  ...        0        0         0    0        0        0         0    0   \n",
            "1  ...        0        0         0    0        0        0         0    0   \n",
            "2  ...        0        0         0    0        0        0         0    0   \n",
            "3  ...        0        0         0    0        0        0         0    0   \n",
            "4  ...        0        0         0    0        0        0         0    0   \n",
            "\n",
            "   zone  zones  \n",
            "0     0      0  \n",
            "1     0      0  \n",
            "2     0      0  \n",
            "3     0      0  \n",
            "4     0      0  \n",
            "\n",
            "[5 rows x 4393 columns]\n"
          ]
        }
      ]
    },
    {
      "cell_type": "code",
      "source": [
        "import requests\n",
        "import pandas as pd\n",
        "import os\n",
        "\n",
        "def doanload_file(link, file_name):\n",
        "  response = requests.get(link)\n",
        "  if response.status_code == 200: # if the response is 200 OK\n",
        "    with open(file_name, \"wb\") as file:\n",
        "      file.write(response.content)\n",
        "    print(f\"Sucessfully downloaded the file into {file_name}\")\n",
        "\n",
        "\n",
        "# links\n",
        "word_links = [aj_word_link, bbc_word_link, jp_word_link, nyt_word_link]\n",
        "lemma_links = [aj_lemma_link, bbc_lemma_link, jp_lemma_link, nyt_lemma_link]\n",
        "\n",
        "# now do all the process for all the different gorups\n",
        "word_files = [aj_word_file, bbc_word_file, jp_word_file, nyt_word_file]\n",
        "lemma_files = [aj_lemma_file, bbc_lemma_file, jp_lemma_file, nyt_lemma_file]\n",
        "\n",
        "for f, l in zip(word_files, word_links):\n",
        "  doanload_file(l, f)\n",
        "\n",
        "for f, l in zip(lemma_files, lemma_links):\n",
        "  doanload_file(l, f)"
      ],
      "metadata": {
        "colab": {
          "base_uri": "https://localhost:8080/"
        },
        "id": "5nKCRsuNT6Xc",
        "outputId": "a7801577-51fd-44c0-b028-411373afbba6"
      },
      "execution_count": null,
      "outputs": [
        {
          "output_type": "stream",
          "name": "stdout",
          "text": [
            "Sucessfully downloaded the file into A_J_word.csv\n",
            "Sucessfully downloaded the file into BBC_word.csv\n",
            "Sucessfully downloaded the file into J_P_word.csv\n",
            "Sucessfully downloaded the file into NYT_word.csv\n",
            "Sucessfully downloaded the file into A_J_lemma.csv\n",
            "Sucessfully downloaded the file into BBC_lemma.csv\n",
            "Sucessfully downloaded the file into J_P_lemma.csv\n",
            "Sucessfully downloaded the file into NYT_lemma.csv\n"
          ]
        }
      ]
    },
    {
      "cell_type": "markdown",
      "source": [
        "## Process Pipeline\n",
        "\n",
        "1. read `csv`.\n",
        "2. create corpuse `corpus = df['document'].tolist()`.\n",
        "3. process the corpus. (remove stop-words etc).\n",
        "4. create the vocab.\n",
        "5. create the TF matrix.\n",
        "6. create the DF matrix.\n",
        "7. calculate the $L_{avg}$.\n",
        "8. Create & calculate the $\\text{TF-IDF}$ matrix with BM25 and Okapi.\n",
        "9. Save the matrix with the `.pkz` format.\n",
        "10. Perform the $\\text{Information Gain}$ & $\\text{Gaint Ratio}$."
      ],
      "metadata": {
        "id": "awYz0Gm4H6ue"
      }
    },
    {
      "cell_type": "code",
      "source": [
        "# 1. Read CSV\n",
        "dfs_word = {}\n",
        "dfs_lemma = {}\n",
        "\n",
        "for f in word_files:\n",
        "  df = pd.read_csv(f)\n",
        "  dfs_word[f] = df\n",
        "\n",
        "for f in lemma_files:\n",
        "  df = pd.read_csv(f)\n",
        "  dfs_lemma[f] = df"
      ],
      "metadata": {
        "id": "ypd6kr0xV01I"
      },
      "execution_count": null,
      "outputs": []
    },
    {
      "cell_type": "code",
      "source": [
        "# 2. Create corpuses + 3. process the corpus + 4. create the vocab\n",
        "corpuses = {}\n",
        "\n",
        "vocabs = {}\n",
        "\n",
        "for f, df in dfs_word.items():\n",
        "  print(f\"Building corpus for file:{f}\")\n",
        "  corpus = df['document'].tolist()\n",
        "  processed_corpus = process_corpus(corpus)\n",
        "  corpuses[f] = processed_corpus\n",
        "  # processing the vocab\n",
        "  vocab = get_vocab(processed_corpus)\n",
        "  vocabs[f] = vocab\n",
        "\n",
        "for f, df in dfs_lemma.items():\n",
        "  print(f\"Building corpus for file:{f}\")\n",
        "  corpus = df['document'].tolist()\n",
        "  processed_corpus = process_corpus(corpus)\n",
        "  corpuses[f] = processed_corpus\n",
        "  # processing the vocab\n",
        "  vocab = get_vocab(processed_corpus)\n",
        "  vocabs[f] = vocab"
      ],
      "metadata": {
        "colab": {
          "base_uri": "https://localhost:8080/"
        },
        "id": "gQChCwCLJI8N",
        "outputId": "e5d569a7-19cb-4825-b294-ed9d26f46866"
      },
      "execution_count": null,
      "outputs": [
        {
          "output_type": "stream",
          "name": "stdout",
          "text": [
            "Building corpus for file:A_J_word.csv\n",
            "Building corpus for file:BBC_word.csv\n",
            "Building corpus for file:J_P_word.csv\n",
            "Building corpus for file:NYT_word.csv\n",
            "Building corpus for file:A_J_lemma.csv\n",
            "Building corpus for file:BBC_lemma.csv\n",
            "Building corpus for file:J_P_lemma.csv\n",
            "Building corpus for file:NYT_lemma.csv\n"
          ]
        }
      ]
    },
    {
      "cell_type": "code",
      "source": [
        "# 5. create the TF matrix + 6. create the DF matrix + 7. L_avg\n",
        "# + 8. TF-IDF BM25 Okapi\n",
        "\n",
        "tf_idf_matrices = {}\n",
        "\n",
        "for f in corpuses.keys():\n",
        "  print(f\"Building TF-IDF for file: {f}\")\n",
        "  tf_matrix = create_tf_matrix(corpuses[f], vocabs[f])\n",
        "  df_matrix = calculate_df(tf_matrix, vocabs[f])\n",
        "  L_avg = calculate_avg_doc_len(corpuses[f])\n",
        "  tf_idf_matrix =  tfidf_bm25_okapi(tf_matrix, df_matrix,\n",
        "                                    L_avg, corpuses[f], vocabs[f])\n",
        "\n",
        "  tf_idf_matrices[f] = tf_idf_matrix\n",
        "\n"
      ],
      "metadata": {
        "colab": {
          "base_uri": "https://localhost:8080/"
        },
        "id": "HUtCTZQOMvnF",
        "outputId": "e2e9fd57-0503-484d-b6db-6a62fe14a23b"
      },
      "execution_count": null,
      "outputs": [
        {
          "output_type": "stream",
          "name": "stdout",
          "text": [
            "Building TF-IDF for file: A_J_word.csv\n",
            "Building TF-IDF for file: BBC_word.csv\n",
            "Building TF-IDF for file: J_P_word.csv\n",
            "Building TF-IDF for file: NYT_word.csv\n",
            "Building TF-IDF for file: A_J_lemma.csv\n",
            "Building TF-IDF for file: BBC_lemma.csv\n",
            "Building TF-IDF for file: J_P_lemma.csv\n",
            "Building TF-IDF for file: NYT_lemma.csv\n"
          ]
        }
      ]
    },
    {
      "cell_type": "code",
      "source": [
        "# perform the Gain Ration + Information Gain\n",
        "\n",
        "for f, mat in tf_idf_matrices.items():\n",
        "  print(f\"Building IG and GR for file:{f}\")\n",
        "  ig_values = information_gain(mat)\n",
        "  gr_values = gain_ratio(mat)\n",
        "\n",
        "  # Sort terms by IG and RG in descending order\n",
        "  sorted_ig_indices = np.argsort(ig_values)[::-1]  # [::-1] reverses the order (descending)\n",
        "  sorted_gr_indices = np.argsort(gr_values)[::-1]\n",
        "\n",
        "  # Get the top 20 terms for IG and RG\n",
        "  top_20_ig_terms = [vocab[i] for i in sorted_ig_indices[:20]]\n",
        "  top_20_gr_terms = [vocab[i] for i in sorted_gr_indices[:20]]\n",
        "\n",
        "  print(\"Top 20 terms by Information Gain:\\n\", top_20_ig_terms)\n",
        "  print(\"Top 20 terms by Gain Ratio:\\n\", top_20_gr_terms)"
      ],
      "metadata": {
        "colab": {
          "base_uri": "https://localhost:8080/"
        },
        "id": "O6ideerTN3Kt",
        "outputId": "b4b0d208-a9e6-4cb3-e029-7aebbff416f8"
      },
      "execution_count": null,
      "outputs": [
        {
          "output_type": "stream",
          "name": "stdout",
          "text": [
            "Building IG and GR for file:A_J_word.csv\n",
            "Top 20 terms by Information Gain:\n",
            " ['barricade', 'algerias', 'alfitr', 'alexius', 'alexandria', 'alert', 'aleaziz', 'ale', 'aldaqran', 'albaressaid', 'albany', 'albalah', 'albag', 'alawda', 'alassad', 'alarmed', 'alarm', 'algeria', 'ali', 'allow']\n",
            "Top 20 terms by Gain Ratio:\n",
            " ['barricade', 'algerias', 'alfitr', 'alexius', 'alexandria', 'alert', 'aleaziz', 'ale', 'aldaqran', 'albaressaid', 'albany', 'albalah', 'albag', 'alawda', 'alassad', 'alarmed', 'alarm', 'algeria', 'ali', 'allow']\n",
            "Building IG and GR for file:BBC_word.csv\n",
            "Top 20 terms by Information Gain:\n",
            " ['badfaith', 'ajoint', 'alan', 'alam', 'alaliin', 'alali', 'ala', 'al', 'airstrikein', 'algerias', 'airstrike', 'airportstyle', 'airlift', 'airdrop', 'aircraft', 'airborne', 'alaqsa', 'alarge', 'alarm', 'alarmed']\n",
            "Top 20 terms by Gain Ratio:\n",
            " ['badfaith', 'ajoint', 'alan', 'alam', 'alaliin', 'alali', 'ala', 'al', 'airstrikein', 'algerias', 'airstrike', 'airportstyle', 'airlift', 'airdrop', 'aircraft', 'airborne', 'alaqsa', 'alarge', 'alarm', 'alarmed']\n",
            "Building IG and GR for file:J_P_word.csv\n",
            "Top 20 terms by Information Gain:\n",
            " ['barricade', 'algerias', 'alfitr', 'alexius', 'alexandria', 'alert', 'aleaziz', 'ale', 'aldaqran', 'albaressaid', 'albany', 'albalah', 'albag', 'alawda', 'alassad', 'alarmed', 'alarm', 'algeria', 'ali', 'allow']\n",
            "Top 20 terms by Gain Ratio:\n",
            " ['barricade', 'algerias', 'alfitr', 'alexius', 'alexandria', 'alert', 'aleaziz', 'ale', 'aldaqran', 'albaressaid', 'albany', 'albalah', 'albag', 'alawda', 'alassad', 'alarmed', 'alarm', 'algeria', 'ali', 'allow']\n",
            "Building IG and GR for file:NYT_word.csv\n",
            "Top 20 terms by Information Gain:\n",
            " ['barricade', 'algerias', 'alfitr', 'alexius', 'alexandria', 'alert', 'aleaziz', 'ale', 'aldaqran', 'albaressaid', 'albany', 'albalah', 'albag', 'alawda', 'alassad', 'alarmed', 'alarm', 'algeria', 'ali', 'allow']\n",
            "Top 20 terms by Gain Ratio:\n",
            " ['barricade', 'algerias', 'alfitr', 'alexius', 'alexandria', 'alert', 'aleaziz', 'ale', 'aldaqran', 'albaressaid', 'albany', 'albalah', 'albag', 'alawda', 'alassad', 'alarmed', 'alarm', 'algeria', 'ali', 'allow']\n",
            "Building IG and GR for file:A_J_lemma.csv\n",
            "Top 20 terms by Information Gain:\n",
            " ['barricade', 'algerias', 'alfitr', 'alexius', 'alexandria', 'alert', 'aleaziz', 'ale', 'aldaqran', 'albaressaid', 'albany', 'albalah', 'albag', 'alawda', 'alassad', 'alarmed', 'alarm', 'algeria', 'ali', 'allow']\n",
            "Top 20 terms by Gain Ratio:\n",
            " ['barricade', 'algerias', 'alfitr', 'alexius', 'alexandria', 'alert', 'aleaziz', 'ale', 'aldaqran', 'albaressaid', 'albany', 'albalah', 'albag', 'alawda', 'alassad', 'alarmed', 'alarm', 'algeria', 'ali', 'allow']\n",
            "Building IG and GR for file:BBC_lemma.csv\n",
            "Top 20 terms by Information Gain:\n",
            " ['badfaith', 'ajoint', 'alan', 'alam', 'alaliin', 'alali', 'ala', 'al', 'airstrikein', 'algerias', 'airstrike', 'airportstyle', 'airlift', 'airdrop', 'aircraft', 'airborne', 'alaqsa', 'alarge', 'alarm', 'alarmed']\n",
            "Top 20 terms by Gain Ratio:\n",
            " ['badfaith', 'ajoint', 'alan', 'alam', 'alaliin', 'alali', 'ala', 'al', 'airstrikein', 'algerias', 'airstrike', 'airportstyle', 'airlift', 'airdrop', 'aircraft', 'airborne', 'alaqsa', 'alarge', 'alarm', 'alarmed']\n",
            "Building IG and GR for file:J_P_lemma.csv\n",
            "Top 20 terms by Information Gain:\n",
            " ['barricade', 'algerias', 'alfitr', 'alexius', 'alexandria', 'alert', 'aleaziz', 'ale', 'aldaqran', 'albaressaid', 'albany', 'albalah', 'albag', 'alawda', 'alassad', 'alarmed', 'alarm', 'algeria', 'ali', 'allow']\n",
            "Top 20 terms by Gain Ratio:\n",
            " ['barricade', 'algerias', 'alfitr', 'alexius', 'alexandria', 'alert', 'aleaziz', 'ale', 'aldaqran', 'albaressaid', 'albany', 'albalah', 'albag', 'alawda', 'alassad', 'alarmed', 'alarm', 'algeria', 'ali', 'allow']\n",
            "Building IG and GR for file:NYT_lemma.csv\n",
            "Top 20 terms by Information Gain:\n",
            " ['barricade', 'algerias', 'alfitr', 'alexius', 'alexandria', 'alert', 'aleaziz', 'ale', 'aldaqran', 'albaressaid', 'albany', 'albalah', 'albag', 'alawda', 'alassad', 'alarmed', 'alarm', 'algeria', 'ali', 'allow']\n",
            "Top 20 terms by Gain Ratio:\n",
            " ['barricade', 'algerias', 'alfitr', 'alexius', 'alexandria', 'alert', 'aleaziz', 'ale', 'aldaqran', 'albaressaid', 'albany', 'albalah', 'albag', 'alawda', 'alassad', 'alarmed', 'alarm', 'algeria', 'ali', 'allow']\n"
          ]
        }
      ]
    },
    {
      "cell_type": "code",
      "source": [
        "# 9. save the data in the .pkz format\n",
        "\n",
        "from scipy.sparse import save_npz, csr_matrix # Import csr_matrix\n",
        "\n",
        "def save_matrix(file_name, tf_idf_matrix, vocab):\n",
        "  # Convert tf_idf_matrix to a sparse matrix before saving\n",
        "  tf_idf_matrix_sparse = csr_matrix(tf_idf_matrix)\n",
        "  save_npz(f\"{file_name}_spasity.npz\", tf_idf_matrix_sparse)\n",
        "\n",
        "  # save the vocab as a txt file\n",
        "\n",
        "  with open(f\"{file_name}_vocab.txt\", \"w\") as f:\n",
        "    for word in vocab:\n",
        "        f.write(word + \"\\n\")\n",
        "\n",
        "  print(f\"save file: {file_name}\")"
      ],
      "metadata": {
        "id": "Wr28m-Y1OU-D"
      },
      "execution_count": null,
      "outputs": []
    },
    {
      "cell_type": "code",
      "source": [
        "# save all the matrices\n",
        "\n",
        "file_names = ['aj_word', 'bbc_word', 'jp_word', 'nyt_word',\n",
        "              'aj_lemma', 'bbc_lemma', 'jp_lemma', 'nyt_lemma']\n",
        "\n",
        "for i, pair in enumerate(tf_idf_matrices.items()):\n",
        "  f, matrix = pair\n",
        "  file_name = file_names[i]\n",
        "  print(f\"Saving {file_name} tf-idf_matrix\")\n",
        "  save_matrix(file_name, matrix, vocabs[f])\n"
      ],
      "metadata": {
        "colab": {
          "base_uri": "https://localhost:8080/"
        },
        "id": "6YWWLxWiO7QE",
        "outputId": "854b3a17-9eb9-4488-8603-ae0932c3e48a"
      },
      "execution_count": null,
      "outputs": [
        {
          "output_type": "stream",
          "name": "stdout",
          "text": [
            "Saving aj_word tf-idf_matrix\n",
            "save file: aj_word\n",
            "Saving bbc_word tf-idf_matrix\n",
            "save file: bbc_word\n",
            "Saving jp_word tf-idf_matrix\n",
            "save file: jp_word\n",
            "Saving nyt_word tf-idf_matrix\n",
            "save file: nyt_word\n",
            "Saving aj_lemma tf-idf_matrix\n",
            "save file: aj_lemma\n",
            "Saving bbc_lemma tf-idf_matrix\n",
            "save file: bbc_lemma\n",
            "Saving jp_lemma tf-idf_matrix\n",
            "save file: jp_lemma\n",
            "Saving nyt_lemma tf-idf_matrix\n",
            "save file: nyt_lemma\n"
          ]
        }
      ]
    },
    {
      "cell_type": "code",
      "source": [
        "# load back the tf-idf matrix into a pandas df\n",
        "def load_matrix(file_name):\n",
        "  sparsity_matrix_tfidf_save = load_npz(f\"{file_name}_spasity.npz\")\n",
        "  with open(f\"{file_name}_vocab.txt\", \"r\") as f:\n",
        "    vocab_save = f.read().splitlines()\n",
        "\n",
        "  # cerate a df\n",
        "  df_sparsity_matrix_tfidf = pd.DataFrame.sparse.from_spmatrix(sparsity_matrix_tfidf_save, columns=vocab_save)\n",
        "\n",
        "  return df_sparsity_matrix_tfidf\n",
        "\n"
      ],
      "metadata": {
        "id": "OIZ-fzBIPDEz"
      },
      "execution_count": null,
      "outputs": []
    },
    {
      "cell_type": "code",
      "source": [
        "# test the load function on a file\n",
        "\n",
        "df_test = load_matrix(\"aj_word\")\n",
        "\n",
        "df_test.head()"
      ],
      "metadata": {
        "colab": {
          "base_uri": "https://localhost:8080/",
          "height": 253
        },
        "id": "Ys_3nFX_PVlI",
        "outputId": "006f3cf3-f214-4cb9-c28f-8fd38de966c9"
      },
      "execution_count": null,
      "outputs": [
        {
          "output_type": "execute_result",
          "data": {
            "text/plain": [
              "   aa  abadi  abbas  abc  abdallah  abdel  abductors  abide  ability  able  \\\n",
              "0   0      0      0    0         0      0          0      0        0     0   \n",
              "1   0      0      0    0         0      0          0      0        0     0   \n",
              "2   0      0      0    0         0      0          0      0        0     0   \n",
              "3   0      0      0    0         0      0          0      0        0     0   \n",
              "4   0      0      0    0         0      0          0      0        0     0   \n",
              "\n",
              "   ...  zakaria  zawayda  zecharia  zin  zionism  zionist  zionists  zip  \\\n",
              "0  ...        0        0         0    0        0        0         0    0   \n",
              "1  ...        0        0         0    0        0        0         0    0   \n",
              "2  ...        0        0         0    0        0        0         0    0   \n",
              "3  ...        0        0         0    0        0        0         0    0   \n",
              "4  ...        0        0         0    0        0        0         0    0   \n",
              "\n",
              "   zone  zones  \n",
              "0     0      0  \n",
              "1     0      0  \n",
              "2     0      0  \n",
              "3     0      0  \n",
              "4     0      0  \n",
              "\n",
              "[5 rows x 4393 columns]"
            ],
            "text/html": [
              "\n",
              "  <div id=\"df-3a3ca64b-5f1d-4f0f-9f11-3710f9802eea\" class=\"colab-df-container\">\n",
              "    <div>\n",
              "<style scoped>\n",
              "    .dataframe tbody tr th:only-of-type {\n",
              "        vertical-align: middle;\n",
              "    }\n",
              "\n",
              "    .dataframe tbody tr th {\n",
              "        vertical-align: top;\n",
              "    }\n",
              "\n",
              "    .dataframe thead th {\n",
              "        text-align: right;\n",
              "    }\n",
              "</style>\n",
              "<table border=\"1\" class=\"dataframe\">\n",
              "  <thead>\n",
              "    <tr style=\"text-align: right;\">\n",
              "      <th></th>\n",
              "      <th>aa</th>\n",
              "      <th>abadi</th>\n",
              "      <th>abbas</th>\n",
              "      <th>abc</th>\n",
              "      <th>abdallah</th>\n",
              "      <th>abdel</th>\n",
              "      <th>abductors</th>\n",
              "      <th>abide</th>\n",
              "      <th>ability</th>\n",
              "      <th>able</th>\n",
              "      <th>...</th>\n",
              "      <th>zakaria</th>\n",
              "      <th>zawayda</th>\n",
              "      <th>zecharia</th>\n",
              "      <th>zin</th>\n",
              "      <th>zionism</th>\n",
              "      <th>zionist</th>\n",
              "      <th>zionists</th>\n",
              "      <th>zip</th>\n",
              "      <th>zone</th>\n",
              "      <th>zones</th>\n",
              "    </tr>\n",
              "  </thead>\n",
              "  <tbody>\n",
              "    <tr>\n",
              "      <th>0</th>\n",
              "      <td>0</td>\n",
              "      <td>0</td>\n",
              "      <td>0</td>\n",
              "      <td>0</td>\n",
              "      <td>0</td>\n",
              "      <td>0</td>\n",
              "      <td>0</td>\n",
              "      <td>0</td>\n",
              "      <td>0</td>\n",
              "      <td>0</td>\n",
              "      <td>...</td>\n",
              "      <td>0</td>\n",
              "      <td>0</td>\n",
              "      <td>0</td>\n",
              "      <td>0</td>\n",
              "      <td>0</td>\n",
              "      <td>0</td>\n",
              "      <td>0</td>\n",
              "      <td>0</td>\n",
              "      <td>0</td>\n",
              "      <td>0</td>\n",
              "    </tr>\n",
              "    <tr>\n",
              "      <th>1</th>\n",
              "      <td>0</td>\n",
              "      <td>0</td>\n",
              "      <td>0</td>\n",
              "      <td>0</td>\n",
              "      <td>0</td>\n",
              "      <td>0</td>\n",
              "      <td>0</td>\n",
              "      <td>0</td>\n",
              "      <td>0</td>\n",
              "      <td>0</td>\n",
              "      <td>...</td>\n",
              "      <td>0</td>\n",
              "      <td>0</td>\n",
              "      <td>0</td>\n",
              "      <td>0</td>\n",
              "      <td>0</td>\n",
              "      <td>0</td>\n",
              "      <td>0</td>\n",
              "      <td>0</td>\n",
              "      <td>0</td>\n",
              "      <td>0</td>\n",
              "    </tr>\n",
              "    <tr>\n",
              "      <th>2</th>\n",
              "      <td>0</td>\n",
              "      <td>0</td>\n",
              "      <td>0</td>\n",
              "      <td>0</td>\n",
              "      <td>0</td>\n",
              "      <td>0</td>\n",
              "      <td>0</td>\n",
              "      <td>0</td>\n",
              "      <td>0</td>\n",
              "      <td>0</td>\n",
              "      <td>...</td>\n",
              "      <td>0</td>\n",
              "      <td>0</td>\n",
              "      <td>0</td>\n",
              "      <td>0</td>\n",
              "      <td>0</td>\n",
              "      <td>0</td>\n",
              "      <td>0</td>\n",
              "      <td>0</td>\n",
              "      <td>0</td>\n",
              "      <td>0</td>\n",
              "    </tr>\n",
              "    <tr>\n",
              "      <th>3</th>\n",
              "      <td>0</td>\n",
              "      <td>0</td>\n",
              "      <td>0</td>\n",
              "      <td>0</td>\n",
              "      <td>0</td>\n",
              "      <td>0</td>\n",
              "      <td>0</td>\n",
              "      <td>0</td>\n",
              "      <td>0</td>\n",
              "      <td>0</td>\n",
              "      <td>...</td>\n",
              "      <td>0</td>\n",
              "      <td>0</td>\n",
              "      <td>0</td>\n",
              "      <td>0</td>\n",
              "      <td>0</td>\n",
              "      <td>0</td>\n",
              "      <td>0</td>\n",
              "      <td>0</td>\n",
              "      <td>0</td>\n",
              "      <td>0</td>\n",
              "    </tr>\n",
              "    <tr>\n",
              "      <th>4</th>\n",
              "      <td>0</td>\n",
              "      <td>0</td>\n",
              "      <td>0</td>\n",
              "      <td>0</td>\n",
              "      <td>0</td>\n",
              "      <td>0</td>\n",
              "      <td>0</td>\n",
              "      <td>0</td>\n",
              "      <td>0</td>\n",
              "      <td>0</td>\n",
              "      <td>...</td>\n",
              "      <td>0</td>\n",
              "      <td>0</td>\n",
              "      <td>0</td>\n",
              "      <td>0</td>\n",
              "      <td>0</td>\n",
              "      <td>0</td>\n",
              "      <td>0</td>\n",
              "      <td>0</td>\n",
              "      <td>0</td>\n",
              "      <td>0</td>\n",
              "    </tr>\n",
              "  </tbody>\n",
              "</table>\n",
              "<p>5 rows × 4393 columns</p>\n",
              "</div>\n",
              "    <div class=\"colab-df-buttons\">\n",
              "\n",
              "  <div class=\"colab-df-container\">\n",
              "    <button class=\"colab-df-convert\" onclick=\"convertToInteractive('df-3a3ca64b-5f1d-4f0f-9f11-3710f9802eea')\"\n",
              "            title=\"Convert this dataframe to an interactive table.\"\n",
              "            style=\"display:none;\">\n",
              "\n",
              "  <svg xmlns=\"http://www.w3.org/2000/svg\" height=\"24px\" viewBox=\"0 -960 960 960\">\n",
              "    <path d=\"M120-120v-720h720v720H120Zm60-500h600v-160H180v160Zm220 220h160v-160H400v160Zm0 220h160v-160H400v160ZM180-400h160v-160H180v160Zm440 0h160v-160H620v160ZM180-180h160v-160H180v160Zm440 0h160v-160H620v160Z\"/>\n",
              "  </svg>\n",
              "    </button>\n",
              "\n",
              "  <style>\n",
              "    .colab-df-container {\n",
              "      display:flex;\n",
              "      gap: 12px;\n",
              "    }\n",
              "\n",
              "    .colab-df-convert {\n",
              "      background-color: #E8F0FE;\n",
              "      border: none;\n",
              "      border-radius: 50%;\n",
              "      cursor: pointer;\n",
              "      display: none;\n",
              "      fill: #1967D2;\n",
              "      height: 32px;\n",
              "      padding: 0 0 0 0;\n",
              "      width: 32px;\n",
              "    }\n",
              "\n",
              "    .colab-df-convert:hover {\n",
              "      background-color: #E2EBFA;\n",
              "      box-shadow: 0px 1px 2px rgba(60, 64, 67, 0.3), 0px 1px 3px 1px rgba(60, 64, 67, 0.15);\n",
              "      fill: #174EA6;\n",
              "    }\n",
              "\n",
              "    .colab-df-buttons div {\n",
              "      margin-bottom: 4px;\n",
              "    }\n",
              "\n",
              "    [theme=dark] .colab-df-convert {\n",
              "      background-color: #3B4455;\n",
              "      fill: #D2E3FC;\n",
              "    }\n",
              "\n",
              "    [theme=dark] .colab-df-convert:hover {\n",
              "      background-color: #434B5C;\n",
              "      box-shadow: 0px 1px 3px 1px rgba(0, 0, 0, 0.15);\n",
              "      filter: drop-shadow(0px 1px 2px rgba(0, 0, 0, 0.3));\n",
              "      fill: #FFFFFF;\n",
              "    }\n",
              "  </style>\n",
              "\n",
              "    <script>\n",
              "      const buttonEl =\n",
              "        document.querySelector('#df-3a3ca64b-5f1d-4f0f-9f11-3710f9802eea button.colab-df-convert');\n",
              "      buttonEl.style.display =\n",
              "        google.colab.kernel.accessAllowed ? 'block' : 'none';\n",
              "\n",
              "      async function convertToInteractive(key) {\n",
              "        const element = document.querySelector('#df-3a3ca64b-5f1d-4f0f-9f11-3710f9802eea');\n",
              "        const dataTable =\n",
              "          await google.colab.kernel.invokeFunction('convertToInteractive',\n",
              "                                                    [key], {});\n",
              "        if (!dataTable) return;\n",
              "\n",
              "        const docLinkHtml = 'Like what you see? Visit the ' +\n",
              "          '<a target=\"_blank\" href=https://colab.research.google.com/notebooks/data_table.ipynb>data table notebook</a>'\n",
              "          + ' to learn more about interactive tables.';\n",
              "        element.innerHTML = '';\n",
              "        dataTable['output_type'] = 'display_data';\n",
              "        await google.colab.output.renderOutput(dataTable, element);\n",
              "        const docLink = document.createElement('div');\n",
              "        docLink.innerHTML = docLinkHtml;\n",
              "        element.appendChild(docLink);\n",
              "      }\n",
              "    </script>\n",
              "  </div>\n",
              "\n",
              "\n",
              "<div id=\"df-9101850b-7ec4-4d85-8ae9-f95f39a918bf\">\n",
              "  <button class=\"colab-df-quickchart\" onclick=\"quickchart('df-9101850b-7ec4-4d85-8ae9-f95f39a918bf')\"\n",
              "            title=\"Suggest charts\"\n",
              "            style=\"display:none;\">\n",
              "\n",
              "<svg xmlns=\"http://www.w3.org/2000/svg\" height=\"24px\"viewBox=\"0 0 24 24\"\n",
              "     width=\"24px\">\n",
              "    <g>\n",
              "        <path d=\"M19 3H5c-1.1 0-2 .9-2 2v14c0 1.1.9 2 2 2h14c1.1 0 2-.9 2-2V5c0-1.1-.9-2-2-2zM9 17H7v-7h2v7zm4 0h-2V7h2v10zm4 0h-2v-4h2v4z\"/>\n",
              "    </g>\n",
              "</svg>\n",
              "  </button>\n",
              "\n",
              "<style>\n",
              "  .colab-df-quickchart {\n",
              "      --bg-color: #E8F0FE;\n",
              "      --fill-color: #1967D2;\n",
              "      --hover-bg-color: #E2EBFA;\n",
              "      --hover-fill-color: #174EA6;\n",
              "      --disabled-fill-color: #AAA;\n",
              "      --disabled-bg-color: #DDD;\n",
              "  }\n",
              "\n",
              "  [theme=dark] .colab-df-quickchart {\n",
              "      --bg-color: #3B4455;\n",
              "      --fill-color: #D2E3FC;\n",
              "      --hover-bg-color: #434B5C;\n",
              "      --hover-fill-color: #FFFFFF;\n",
              "      --disabled-bg-color: #3B4455;\n",
              "      --disabled-fill-color: #666;\n",
              "  }\n",
              "\n",
              "  .colab-df-quickchart {\n",
              "    background-color: var(--bg-color);\n",
              "    border: none;\n",
              "    border-radius: 50%;\n",
              "    cursor: pointer;\n",
              "    display: none;\n",
              "    fill: var(--fill-color);\n",
              "    height: 32px;\n",
              "    padding: 0;\n",
              "    width: 32px;\n",
              "  }\n",
              "\n",
              "  .colab-df-quickchart:hover {\n",
              "    background-color: var(--hover-bg-color);\n",
              "    box-shadow: 0 1px 2px rgba(60, 64, 67, 0.3), 0 1px 3px 1px rgba(60, 64, 67, 0.15);\n",
              "    fill: var(--button-hover-fill-color);\n",
              "  }\n",
              "\n",
              "  .colab-df-quickchart-complete:disabled,\n",
              "  .colab-df-quickchart-complete:disabled:hover {\n",
              "    background-color: var(--disabled-bg-color);\n",
              "    fill: var(--disabled-fill-color);\n",
              "    box-shadow: none;\n",
              "  }\n",
              "\n",
              "  .colab-df-spinner {\n",
              "    border: 2px solid var(--fill-color);\n",
              "    border-color: transparent;\n",
              "    border-bottom-color: var(--fill-color);\n",
              "    animation:\n",
              "      spin 1s steps(1) infinite;\n",
              "  }\n",
              "\n",
              "  @keyframes spin {\n",
              "    0% {\n",
              "      border-color: transparent;\n",
              "      border-bottom-color: var(--fill-color);\n",
              "      border-left-color: var(--fill-color);\n",
              "    }\n",
              "    20% {\n",
              "      border-color: transparent;\n",
              "      border-left-color: var(--fill-color);\n",
              "      border-top-color: var(--fill-color);\n",
              "    }\n",
              "    30% {\n",
              "      border-color: transparent;\n",
              "      border-left-color: var(--fill-color);\n",
              "      border-top-color: var(--fill-color);\n",
              "      border-right-color: var(--fill-color);\n",
              "    }\n",
              "    40% {\n",
              "      border-color: transparent;\n",
              "      border-right-color: var(--fill-color);\n",
              "      border-top-color: var(--fill-color);\n",
              "    }\n",
              "    60% {\n",
              "      border-color: transparent;\n",
              "      border-right-color: var(--fill-color);\n",
              "    }\n",
              "    80% {\n",
              "      border-color: transparent;\n",
              "      border-right-color: var(--fill-color);\n",
              "      border-bottom-color: var(--fill-color);\n",
              "    }\n",
              "    90% {\n",
              "      border-color: transparent;\n",
              "      border-bottom-color: var(--fill-color);\n",
              "    }\n",
              "  }\n",
              "</style>\n",
              "\n",
              "  <script>\n",
              "    async function quickchart(key) {\n",
              "      const quickchartButtonEl =\n",
              "        document.querySelector('#' + key + ' button');\n",
              "      quickchartButtonEl.disabled = true;  // To prevent multiple clicks.\n",
              "      quickchartButtonEl.classList.add('colab-df-spinner');\n",
              "      try {\n",
              "        const charts = await google.colab.kernel.invokeFunction(\n",
              "            'suggestCharts', [key], {});\n",
              "      } catch (error) {\n",
              "        console.error('Error during call to suggestCharts:', error);\n",
              "      }\n",
              "      quickchartButtonEl.classList.remove('colab-df-spinner');\n",
              "      quickchartButtonEl.classList.add('colab-df-quickchart-complete');\n",
              "    }\n",
              "    (() => {\n",
              "      let quickchartButtonEl =\n",
              "        document.querySelector('#df-9101850b-7ec4-4d85-8ae9-f95f39a918bf button');\n",
              "      quickchartButtonEl.style.display =\n",
              "        google.colab.kernel.accessAllowed ? 'block' : 'none';\n",
              "    })();\n",
              "  </script>\n",
              "</div>\n",
              "\n",
              "    </div>\n",
              "  </div>\n"
            ],
            "application/vnd.google.colaboratory.intrinsic+json": {
              "type": "dataframe",
              "variable_name": "df_test"
            }
          },
          "metadata": {},
          "execution_count": 66
        }
      ]
    },
    {
      "cell_type": "code",
      "source": [],
      "metadata": {
        "id": "iPd5Q76eGfUK"
      },
      "execution_count": null,
      "outputs": []
    }
  ]
}